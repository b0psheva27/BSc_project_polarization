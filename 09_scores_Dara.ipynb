{
 "cells": [
  {
   "cell_type": "code",
   "execution_count": 1,
   "metadata": {},
   "outputs": [],
   "source": [
    "# Imports\n",
    "import pandas as pd\n",
    "import numpy as np\n",
    "import nltk \n",
    "import matplotlib.pyplot as plt\n",
    "import csv\n",
    "import random"
   ]
  },
  {
   "cell_type": "code",
   "execution_count": 5,
   "metadata": {},
   "outputs": [],
   "source": [
    "reclustered_monthly_data = pd.read_csv(\"output_hpc/reclustered_monthly_data_final.csv\", sep = \"\\t\", encoding = \"utf-8\", quoting = csv.QUOTE_NONE )"
   ]
  },
  {
   "cell_type": "code",
   "execution_count": 6,
   "metadata": {},
   "outputs": [],
   "source": [
    "data = reclustered_monthly_data.head(100)"
   ]
  },
  {
   "cell_type": "code",
   "execution_count": 7,
   "metadata": {},
   "outputs": [],
   "source": [
    "n_rows = data.shape[0]"
   ]
  },
  {
   "cell_type": "code",
   "execution_count": 8,
   "metadata": {},
   "outputs": [
    {
     "name": "stderr",
     "output_type": "stream",
     "text": [
      "/tmp/ipykernel_20241/686247784.py:1: SettingWithCopyWarning: \n",
      "A value is trying to be set on a copy of a slice from a DataFrame.\n",
      "Try using .loc[row_indexer,col_indexer] = value instead\n",
      "\n",
      "See the caveats in the documentation: https://pandas.pydata.org/pandas-docs/stable/user_guide/indexing.html#returning-a-view-versus-a-copy\n",
      "  data[\"A\"] = np.random.rand(n_rows)\n",
      "/tmp/ipykernel_20241/686247784.py:2: SettingWithCopyWarning: \n",
      "A value is trying to be set on a copy of a slice from a DataFrame.\n",
      "Try using .loc[row_indexer,col_indexer] = value instead\n",
      "\n",
      "See the caveats in the documentation: https://pandas.pydata.org/pandas-docs/stable/user_guide/indexing.html#returning-a-view-versus-a-copy\n",
      "  data[\"F\"] = np.random.rand(n_rows)\n",
      "/tmp/ipykernel_20241/686247784.py:3: SettingWithCopyWarning: \n",
      "A value is trying to be set on a copy of a slice from a DataFrame.\n",
      "Try using .loc[row_indexer,col_indexer] = value instead\n",
      "\n",
      "See the caveats in the documentation: https://pandas.pydata.org/pandas-docs/stable/user_guide/indexing.html#returning-a-view-versus-a-copy\n",
      "  data[\"N\"] = np.random.rand(n_rows)\n"
     ]
    }
   ],
   "source": [
    "data[\"A\"] = np.random.rand(n_rows)\n",
    "data[\"F\"] = np.random.rand(n_rows)\n",
    "data[\"N\"] = np.random.rand(n_rows)"
   ]
  },
  {
   "cell_type": "code",
   "execution_count": 9,
   "metadata": {},
   "outputs": [],
   "source": [
    "data_avg = data.groupby(\"user\")[['A', 'F', 'N']].mean().reset_index()"
   ]
  },
  {
   "cell_type": "code",
   "execution_count": 10,
   "metadata": {},
   "outputs": [
    {
     "name": "stdout",
     "output_type": "stream",
     "text": [
      "-0.29522626474998503\n",
      "0.29522626474998503 A\n"
     ]
    }
   ],
   "source": [
    "max_val = data_avg.iloc[1][[\"A\", \"F\", \"N\"]].max()\n",
    "max_col = data_avg.iloc[1][[\"A\", \"F\"]].idxmax()\n",
    "print(max_val *-1)\n",
    "print(max_val, max_col)"
   ]
  },
  {
   "cell_type": "code",
   "execution_count": 11,
   "metadata": {},
   "outputs": [],
   "source": [
    "def get_stance(row): \n",
    "    if row[\"N\"] == 1.0: \n",
    "        return 0\n",
    "    elif row[\"A\"] > row[\"F\"]:\n",
    "        return row[\"A\"]\n",
    "    elif row[\"F\"] > row[\"A\"]:\n",
    "        return row[\"F\"]*-1\n",
    "    else: \n",
    "        return random.choice([row[\"A\"], row[\"F\"]])"
   ]
  },
  {
   "cell_type": "code",
   "execution_count": 12,
   "metadata": {},
   "outputs": [],
   "source": [
    "data_avg[\"stance\"] = data_avg.apply(lambda x: get_stance(x), axis = 1)"
   ]
  },
  {
   "cell_type": "markdown",
   "metadata": {},
   "source": [
    "#### Getting the stance for each user for each topic"
   ]
  },
  {
   "cell_type": "code",
   "execution_count": 13,
   "metadata": {},
   "outputs": [],
   "source": [
    "def make_dataset(data):\n",
    "    data = reclustered_monthly_data.head(100)\n",
    "    n_rows = data.shape[0]\n",
    "    data[\"A\"] = np.random.rand(n_rows)\n",
    "    data[\"F\"] = np.random.rand(n_rows)\n",
    "    data[\"N\"] = np.random.rand(n_rows)\n",
    "    data_avg = data.groupby(\"user\")[['A', 'F', 'N']].mean().reset_index()\n",
    "    data_avg[\"stance\"] = data_avg.apply(lambda x: get_stance(x), axis = 1)\n",
    "    return data_avg"
   ]
  },
  {
   "cell_type": "code",
   "execution_count": 14,
   "metadata": {},
   "outputs": [
    {
     "name": "stderr",
     "output_type": "stream",
     "text": [
      "/tmp/ipykernel_20241/2471956829.py:4: SettingWithCopyWarning: \n",
      "A value is trying to be set on a copy of a slice from a DataFrame.\n",
      "Try using .loc[row_indexer,col_indexer] = value instead\n",
      "\n",
      "See the caveats in the documentation: https://pandas.pydata.org/pandas-docs/stable/user_guide/indexing.html#returning-a-view-versus-a-copy\n",
      "  data[\"A\"] = np.random.rand(n_rows)\n",
      "/tmp/ipykernel_20241/2471956829.py:5: SettingWithCopyWarning: \n",
      "A value is trying to be set on a copy of a slice from a DataFrame.\n",
      "Try using .loc[row_indexer,col_indexer] = value instead\n",
      "\n",
      "See the caveats in the documentation: https://pandas.pydata.org/pandas-docs/stable/user_guide/indexing.html#returning-a-view-versus-a-copy\n",
      "  data[\"F\"] = np.random.rand(n_rows)\n",
      "/tmp/ipykernel_20241/2471956829.py:6: SettingWithCopyWarning: \n",
      "A value is trying to be set on a copy of a slice from a DataFrame.\n",
      "Try using .loc[row_indexer,col_indexer] = value instead\n",
      "\n",
      "See the caveats in the documentation: https://pandas.pydata.org/pandas-docs/stable/user_guide/indexing.html#returning-a-view-versus-a-copy\n",
      "  data[\"N\"] = np.random.rand(n_rows)\n",
      "/tmp/ipykernel_20241/2471956829.py:4: SettingWithCopyWarning: \n",
      "A value is trying to be set on a copy of a slice from a DataFrame.\n",
      "Try using .loc[row_indexer,col_indexer] = value instead\n",
      "\n",
      "See the caveats in the documentation: https://pandas.pydata.org/pandas-docs/stable/user_guide/indexing.html#returning-a-view-versus-a-copy\n",
      "  data[\"A\"] = np.random.rand(n_rows)\n",
      "/tmp/ipykernel_20241/2471956829.py:5: SettingWithCopyWarning: \n",
      "A value is trying to be set on a copy of a slice from a DataFrame.\n",
      "Try using .loc[row_indexer,col_indexer] = value instead\n",
      "\n",
      "See the caveats in the documentation: https://pandas.pydata.org/pandas-docs/stable/user_guide/indexing.html#returning-a-view-versus-a-copy\n",
      "  data[\"F\"] = np.random.rand(n_rows)\n",
      "/tmp/ipykernel_20241/2471956829.py:6: SettingWithCopyWarning: \n",
      "A value is trying to be set on a copy of a slice from a DataFrame.\n",
      "Try using .loc[row_indexer,col_indexer] = value instead\n",
      "\n",
      "See the caveats in the documentation: https://pandas.pydata.org/pandas-docs/stable/user_guide/indexing.html#returning-a-view-versus-a-copy\n",
      "  data[\"N\"] = np.random.rand(n_rows)\n",
      "/tmp/ipykernel_20241/2471956829.py:4: SettingWithCopyWarning: \n",
      "A value is trying to be set on a copy of a slice from a DataFrame.\n",
      "Try using .loc[row_indexer,col_indexer] = value instead\n",
      "\n",
      "See the caveats in the documentation: https://pandas.pydata.org/pandas-docs/stable/user_guide/indexing.html#returning-a-view-versus-a-copy\n",
      "  data[\"A\"] = np.random.rand(n_rows)\n",
      "/tmp/ipykernel_20241/2471956829.py:5: SettingWithCopyWarning: \n",
      "A value is trying to be set on a copy of a slice from a DataFrame.\n",
      "Try using .loc[row_indexer,col_indexer] = value instead\n",
      "\n",
      "See the caveats in the documentation: https://pandas.pydata.org/pandas-docs/stable/user_guide/indexing.html#returning-a-view-versus-a-copy\n",
      "  data[\"F\"] = np.random.rand(n_rows)\n",
      "/tmp/ipykernel_20241/2471956829.py:6: SettingWithCopyWarning: \n",
      "A value is trying to be set on a copy of a slice from a DataFrame.\n",
      "Try using .loc[row_indexer,col_indexer] = value instead\n",
      "\n",
      "See the caveats in the documentation: https://pandas.pydata.org/pandas-docs/stable/user_guide/indexing.html#returning-a-view-versus-a-copy\n",
      "  data[\"N\"] = np.random.rand(n_rows)\n"
     ]
    }
   ],
   "source": [
    "data_1 = make_dataset(reclustered_monthly_data)\n",
    "data_2 = make_dataset(reclustered_monthly_data)\n",
    "data_3 = make_dataset(reclustered_monthly_data)"
   ]
  },
  {
   "cell_type": "code",
   "execution_count": 15,
   "metadata": {},
   "outputs": [],
   "source": [
    "data1 = data_1.rename(columns={\"stance\": \"stance_1\"})\n",
    "data2 = data_2.rename(columns={\"stance\": \"stance_2\"})\n",
    "data3 = data_3.rename(columns={\"stance\": \"stance_3\"})"
   ]
  },
  {
   "cell_type": "code",
   "execution_count": 16,
   "metadata": {},
   "outputs": [],
   "source": [
    "merged_df = pd.merge(pd.merge(data1, data2, on='user'), data3, on='user')"
   ]
  },
  {
   "cell_type": "code",
   "execution_count": 17,
   "metadata": {},
   "outputs": [
    {
     "data": {
      "text/html": [
       "<div>\n",
       "<style scoped>\n",
       "    .dataframe tbody tr th:only-of-type {\n",
       "        vertical-align: middle;\n",
       "    }\n",
       "\n",
       "    .dataframe tbody tr th {\n",
       "        vertical-align: top;\n",
       "    }\n",
       "\n",
       "    .dataframe thead th {\n",
       "        text-align: right;\n",
       "    }\n",
       "</style>\n",
       "<table border=\"1\" class=\"dataframe\">\n",
       "  <thead>\n",
       "    <tr style=\"text-align: right;\">\n",
       "      <th></th>\n",
       "      <th>user</th>\n",
       "      <th>stance_1</th>\n",
       "      <th>stance_2</th>\n",
       "      <th>stance_3</th>\n",
       "    </tr>\n",
       "  </thead>\n",
       "  <tbody>\n",
       "    <tr>\n",
       "      <th>0</th>\n",
       "      <td>AlbionPrince</td>\n",
       "      <td>0.171462</td>\n",
       "      <td>-0.055712</td>\n",
       "      <td>-0.427786</td>\n",
       "    </tr>\n",
       "    <tr>\n",
       "      <th>1</th>\n",
       "      <td>BenFoldsFourLoko</td>\n",
       "      <td>-0.995200</td>\n",
       "      <td>0.698206</td>\n",
       "      <td>-0.918101</td>\n",
       "    </tr>\n",
       "    <tr>\n",
       "      <th>2</th>\n",
       "      <td>Betrashndie</td>\n",
       "      <td>-0.939670</td>\n",
       "      <td>0.090637</td>\n",
       "      <td>-0.741719</td>\n",
       "    </tr>\n",
       "    <tr>\n",
       "      <th>3</th>\n",
       "      <td>BloodWiz</td>\n",
       "      <td>-0.558810</td>\n",
       "      <td>0.611499</td>\n",
       "      <td>-0.951529</td>\n",
       "    </tr>\n",
       "    <tr>\n",
       "      <th>4</th>\n",
       "      <td>Call_Me_Hurr1cane</td>\n",
       "      <td>-0.996521</td>\n",
       "      <td>0.575361</td>\n",
       "      <td>0.143879</td>\n",
       "    </tr>\n",
       "    <tr>\n",
       "      <th>...</th>\n",
       "      <td>...</td>\n",
       "      <td>...</td>\n",
       "      <td>...</td>\n",
       "      <td>...</td>\n",
       "    </tr>\n",
       "    <tr>\n",
       "      <th>91</th>\n",
       "      <td>thebigslapper</td>\n",
       "      <td>-0.746673</td>\n",
       "      <td>-0.785728</td>\n",
       "      <td>0.598537</td>\n",
       "    </tr>\n",
       "    <tr>\n",
       "      <th>92</th>\n",
       "      <td>throwrowrowawayyy</td>\n",
       "      <td>-0.829177</td>\n",
       "      <td>-0.441413</td>\n",
       "      <td>0.999226</td>\n",
       "    </tr>\n",
       "    <tr>\n",
       "      <th>93</th>\n",
       "      <td>trogon</td>\n",
       "      <td>-0.743226</td>\n",
       "      <td>0.863488</td>\n",
       "      <td>0.804480</td>\n",
       "    </tr>\n",
       "    <tr>\n",
       "      <th>94</th>\n",
       "      <td>weeteacups</td>\n",
       "      <td>-0.695817</td>\n",
       "      <td>-0.387806</td>\n",
       "      <td>0.652465</td>\n",
       "    </tr>\n",
       "    <tr>\n",
       "      <th>95</th>\n",
       "      <td>wizard680</td>\n",
       "      <td>-0.625427</td>\n",
       "      <td>-0.501302</td>\n",
       "      <td>-0.494387</td>\n",
       "    </tr>\n",
       "  </tbody>\n",
       "</table>\n",
       "<p>96 rows × 4 columns</p>\n",
       "</div>"
      ],
      "text/plain": [
       "                 user  stance_1  stance_2  stance_3\n",
       "0        AlbionPrince  0.171462 -0.055712 -0.427786\n",
       "1    BenFoldsFourLoko -0.995200  0.698206 -0.918101\n",
       "2         Betrashndie -0.939670  0.090637 -0.741719\n",
       "3            BloodWiz -0.558810  0.611499 -0.951529\n",
       "4   Call_Me_Hurr1cane -0.996521  0.575361  0.143879\n",
       "..                ...       ...       ...       ...\n",
       "91      thebigslapper -0.746673 -0.785728  0.598537\n",
       "92  throwrowrowawayyy -0.829177 -0.441413  0.999226\n",
       "93             trogon -0.743226  0.863488  0.804480\n",
       "94         weeteacups -0.695817 -0.387806  0.652465\n",
       "95          wizard680 -0.625427 -0.501302 -0.494387\n",
       "\n",
       "[96 rows x 4 columns]"
      ]
     },
     "execution_count": 17,
     "metadata": {},
     "output_type": "execute_result"
    }
   ],
   "source": [
    "merged_df = merged_df[[\"user\", \"stance_1\", \"stance_2\", \"stance_3\"]]\n",
    "merged_df"
   ]
  },
  {
   "cell_type": "markdown",
   "metadata": {},
   "source": [
    "#### Dimensionality reduction - UMAP "
   ]
  },
  {
   "cell_type": "code",
   "execution_count": 18,
   "metadata": {},
   "outputs": [
    {
     "name": "stderr",
     "output_type": "stream",
     "text": [
      "/home/dara/miniconda3/envs/bach_env/lib/python3.10/site-packages/tqdm/auto.py:21: TqdmWarning: IProgress not found. Please update jupyter and ipywidgets. See https://ipywidgets.readthedocs.io/en/stable/user_install.html\n",
      "  from .autonotebook import tqdm as notebook_tqdm\n"
     ]
    }
   ],
   "source": [
    "import umap\n",
    "from sklearn.preprocessing import StandardScaler\n",
    "import matplotlib.pyplot as plt"
   ]
  },
  {
   "cell_type": "code",
   "execution_count": 20,
   "metadata": {},
   "outputs": [],
   "source": [
    "merged_df_umap = merged_df.copy()"
   ]
  },
  {
   "cell_type": "code",
   "execution_count": 60,
   "metadata": {},
   "outputs": [],
   "source": [
    "reducer = umap.UMAP(random_state=42) #object of class UMAP\n",
    "scaler = StandardScaler()"
   ]
  },
  {
   "cell_type": "code",
   "execution_count": 61,
   "metadata": {},
   "outputs": [
    {
     "data": {
      "text/html": [
       "<div>\n",
       "<style scoped>\n",
       "    .dataframe tbody tr th:only-of-type {\n",
       "        vertical-align: middle;\n",
       "    }\n",
       "\n",
       "    .dataframe tbody tr th {\n",
       "        vertical-align: top;\n",
       "    }\n",
       "\n",
       "    .dataframe thead th {\n",
       "        text-align: right;\n",
       "    }\n",
       "</style>\n",
       "<table border=\"1\" class=\"dataframe\">\n",
       "  <thead>\n",
       "    <tr style=\"text-align: right;\">\n",
       "      <th></th>\n",
       "      <th>user</th>\n",
       "      <th>stance_1</th>\n",
       "      <th>stance_2</th>\n",
       "      <th>stance_3</th>\n",
       "    </tr>\n",
       "  </thead>\n",
       "  <tbody>\n",
       "    <tr>\n",
       "      <th>0</th>\n",
       "      <td>AlbionPrince</td>\n",
       "      <td>0.261182</td>\n",
       "      <td>1.455493</td>\n",
       "      <td>0.804391</td>\n",
       "    </tr>\n",
       "    <tr>\n",
       "      <th>1</th>\n",
       "      <td>BenFoldsFourLoko</td>\n",
       "      <td>1.022881</td>\n",
       "      <td>-1.310882</td>\n",
       "      <td>0.773403</td>\n",
       "    </tr>\n",
       "    <tr>\n",
       "      <th>2</th>\n",
       "      <td>Betrashndie</td>\n",
       "      <td>-0.888670</td>\n",
       "      <td>-0.910540</td>\n",
       "      <td>-0.652259</td>\n",
       "    </tr>\n",
       "    <tr>\n",
       "      <th>3</th>\n",
       "      <td>BloodWiz</td>\n",
       "      <td>-0.675771</td>\n",
       "      <td>1.083281</td>\n",
       "      <td>0.934980</td>\n",
       "    </tr>\n",
       "    <tr>\n",
       "      <th>4</th>\n",
       "      <td>Call_Me_Hurr1cane</td>\n",
       "      <td>1.133933</td>\n",
       "      <td>-1.314867</td>\n",
       "      <td>-0.665768</td>\n",
       "    </tr>\n",
       "  </tbody>\n",
       "</table>\n",
       "</div>"
      ],
      "text/plain": [
       "                user  stance_1  stance_2  stance_3\n",
       "0       AlbionPrince  0.261182  1.455493  0.804391\n",
       "1   BenFoldsFourLoko  1.022881 -1.310882  0.773403\n",
       "2        Betrashndie -0.888670 -0.910540 -0.652259\n",
       "3           BloodWiz -0.675771  1.083281  0.934980\n",
       "4  Call_Me_Hurr1cane  1.133933 -1.314867 -0.665768"
      ]
     },
     "execution_count": 61,
     "metadata": {},
     "output_type": "execute_result"
    }
   ],
   "source": [
    "# Fit and transform the numerical columns\n",
    "merged_df_umap[['stance_1', 'stance_2', 'stance_3']] = scaler.fit_transform(merged_df_umap[['stance_1', 'stance_2', 'stance_3']])\n",
    "merged_df_umap.head()"
   ]
  },
  {
   "cell_type": "code",
   "execution_count": 64,
   "metadata": {},
   "outputs": [
    {
     "name": "stderr",
     "output_type": "stream",
     "text": [
      "/home/dara/miniconda3/envs/bach_env/lib/python3.10/site-packages/sklearn/utils/deprecation.py:151: FutureWarning: 'force_all_finite' was renamed to 'ensure_all_finite' in 1.6 and will be removed in 1.8.\n",
      "  warnings.warn(\n"
     ]
    },
    {
     "name": "stdout",
     "output_type": "stream",
     "text": [
      "Features' shape: (96, 2)\n",
      "                user  Component 1  Component 2\n",
      "0       AlbionPrince     3.568209    -4.217590\n",
      "1   BenFoldsFourLoko    -2.893073     7.371824\n",
      "2        Betrashndie     2.321366     4.462049\n",
      "3           BloodWiz     4.802084     2.168251\n",
      "4  Call_Me_Hurr1cane    -0.092606     6.237177\n"
     ]
    },
    {
     "data": {
      "image/png": "[encoded data removed]",
      "text/plain": [
       "<Figure size 640x480 with 1 Axes>"
      ]
     },
     "metadata": {},
     "output_type": "display_data"
    }
   ],
   "source": [
    "#By default UMAP always reduces to 2D embeddings\n",
    "embedding_2D = reducer.fit_transform(merged_df_umap[['stance_1', 'stance_2', 'stance_3']])\n",
    "print(f\"Features' shape: {embedding_2D.shape}\")\n",
    "df_embedding_2D = pd.DataFrame(embedding_2D, columns=[\"Component 1\", \"Component 2\"])\n",
    "#adding back username column\n",
    "user_embedding_2D = pd.concat([merged_df_umap[\"user\"], df_embedding_2D], axis=1)\n",
    "print(user_embedding_2D.head())\n",
    "\n",
    "#plotting the 2 components\n",
    "plt.scatter(df_embedding_2D[\"Component 1\"], df_embedding_2D[\"Component 2\"], color='blue', marker='o')\n",
    "\n",
    "# Add labels and title\n",
    "plt.xlabel('Component 1')\n",
    "plt.ylabel('Component 2')\n",
    "plt.title('Scatter Plot of 2D embedding')\n",
    "\n",
    "# Show the plot\n",
    "plt.show()"
   ]
  },
  {
   "cell_type": "code",
   "execution_count": 22,
   "metadata": {},
   "outputs": [
    {
     "name": "stdout",
     "output_type": "stream",
     "text": [
      "Features' shape: (96, 1)\n"
     ]
    },
    {
     "name": "stderr",
     "output_type": "stream",
     "text": [
      "/home/dara/miniconda3/envs/bach_env/lib/python3.10/site-packages/sklearn/utils/deprecation.py:151: FutureWarning: 'force_all_finite' was renamed to 'ensure_all_finite' in 1.6 and will be removed in 1.8.\n",
      "  warnings.warn(\n",
      "/home/dara/miniconda3/envs/bach_env/lib/python3.10/site-packages/umap/umap_.py:1952: UserWarning: n_jobs value 1 overridden to 1 by setting random_state. Use no seed for parallelism.\n",
      "  warn(\n"
     ]
    },
    {
     "data": {
      "text/html": [
       "<div>\n",
       "<style scoped>\n",
       "    .dataframe tbody tr th:only-of-type {\n",
       "        vertical-align: middle;\n",
       "    }\n",
       "\n",
       "    .dataframe tbody tr th {\n",
       "        vertical-align: top;\n",
       "    }\n",
       "\n",
       "    .dataframe thead th {\n",
       "        text-align: right;\n",
       "    }\n",
       "</style>\n",
       "<table border=\"1\" class=\"dataframe\">\n",
       "  <thead>\n",
       "    <tr style=\"text-align: right;\">\n",
       "      <th></th>\n",
       "      <th>0</th>\n",
       "    </tr>\n",
       "  </thead>\n",
       "  <tbody>\n",
       "    <tr>\n",
       "      <th>0</th>\n",
       "      <td>-2.241299</td>\n",
       "    </tr>\n",
       "    <tr>\n",
       "      <th>1</th>\n",
       "      <td>5.360138</td>\n",
       "    </tr>\n",
       "    <tr>\n",
       "      <th>2</th>\n",
       "      <td>5.959476</td>\n",
       "    </tr>\n",
       "    <tr>\n",
       "      <th>3</th>\n",
       "      <td>4.689219</td>\n",
       "    </tr>\n",
       "    <tr>\n",
       "      <th>4</th>\n",
       "      <td>1.814633</td>\n",
       "    </tr>\n",
       "  </tbody>\n",
       "</table>\n",
       "</div>"
      ],
      "text/plain": [
       "          0\n",
       "0 -2.241299\n",
       "1  5.360138\n",
       "2  5.959476\n",
       "3  4.689219\n",
       "4  1.814633"
      ]
     },
     "execution_count": 22,
     "metadata": {},
     "output_type": "execute_result"
    }
   ],
   "source": [
    "#Same thing as above, but to 1D feature\n",
    "reducer_1D = umap.UMAP(n_components=1, random_state=42)\n",
    "embedding_1D = reducer_1D.fit_transform(merged_df_umap[['stance_1', 'stance_2', 'stance_3']])\n",
    "print(f\"Features' shape: {embedding_1D.shape}\")\n",
    "pd.DataFrame(embedding_1D).head()"
   ]
  },
  {
   "cell_type": "code",
   "execution_count": 23,
   "metadata": {},
   "outputs": [
    {
     "name": "stdout",
     "output_type": "stream",
     "text": [
      "                user  Component 1\n",
      "0       AlbionPrince    -2.241299\n",
      "1   BenFoldsFourLoko     5.360138\n",
      "2        Betrashndie     5.959476\n",
      "3           BloodWiz     4.689219\n",
      "4  Call_Me_Hurr1cane     1.814633\n"
     ]
    }
   ],
   "source": [
    "df_embedding_1D = pd.DataFrame(embedding_1D, columns=[\"Component 1\"])\n",
    "#adding back username column\n",
    "user_embedding_1D = pd.concat([merged_df_umap[\"user\"], df_embedding_1D], axis=1)\n",
    "print(user_embedding_1D.head())"
   ]
  },
  {
   "cell_type": "markdown",
   "metadata": {},
   "source": [
    "#### Adding the opinions on the network as node attributes"
   ]
  },
  {
   "cell_type": "code",
   "execution_count": 25,
   "metadata": {},
   "outputs": [],
   "source": [
    "user_nodeid = pd.read_csv(\"reddit_22_51/user_nodeid.csv\", sep=\"\\t\" )\n",
    "user_nodeid_dict = user_nodeid.set_index('index')['nodeid'].to_dict()"
   ]
  },
  {
   "cell_type": "code",
   "execution_count": 28,
   "metadata": {},
   "outputs": [],
   "source": [
    "#mapping usernames to ids\n",
    "user_nodeid = pd.read_csv(\"reddit_22_51/user_nodeid.csv\", sep=\"\\t\" )\n",
    "user_nodeid_dict = user_nodeid.set_index('index')['nodeid'].to_dict()\n",
    "user_embedding_1D['nodeid'] = user_embedding_1D['user'].map(user_nodeid_dict)"
   ]
  },
  {
   "cell_type": "code",
   "execution_count": 32,
   "metadata": {},
   "outputs": [
    {
     "name": "stdout",
     "output_type": "stream",
     "text": [
      "(96, 3)\n"
     ]
    },
    {
     "data": {
      "text/html": [
       "<div>\n",
       "<style scoped>\n",
       "    .dataframe tbody tr th:only-of-type {\n",
       "        vertical-align: middle;\n",
       "    }\n",
       "\n",
       "    .dataframe tbody tr th {\n",
       "        vertical-align: top;\n",
       "    }\n",
       "\n",
       "    .dataframe thead th {\n",
       "        text-align: right;\n",
       "    }\n",
       "</style>\n",
       "<table border=\"1\" class=\"dataframe\">\n",
       "  <thead>\n",
       "    <tr style=\"text-align: right;\">\n",
       "      <th></th>\n",
       "      <th>user</th>\n",
       "      <th>Component 1</th>\n",
       "      <th>nodeid</th>\n",
       "    </tr>\n",
       "  </thead>\n",
       "  <tbody>\n",
       "    <tr>\n",
       "      <th>0</th>\n",
       "      <td>AlbionPrince</td>\n",
       "      <td>-2.241299</td>\n",
       "      <td>858119.0</td>\n",
       "    </tr>\n",
       "    <tr>\n",
       "      <th>1</th>\n",
       "      <td>BenFoldsFourLoko</td>\n",
       "      <td>5.360138</td>\n",
       "      <td>146354.0</td>\n",
       "    </tr>\n",
       "    <tr>\n",
       "      <th>2</th>\n",
       "      <td>Betrashndie</td>\n",
       "      <td>5.959476</td>\n",
       "      <td>NaN</td>\n",
       "    </tr>\n",
       "    <tr>\n",
       "      <th>3</th>\n",
       "      <td>BloodWiz</td>\n",
       "      <td>4.689219</td>\n",
       "      <td>946726.0</td>\n",
       "    </tr>\n",
       "    <tr>\n",
       "      <th>4</th>\n",
       "      <td>Call_Me_Hurr1cane</td>\n",
       "      <td>1.814633</td>\n",
       "      <td>1234299.0</td>\n",
       "    </tr>\n",
       "  </tbody>\n",
       "</table>\n",
       "</div>"
      ],
      "text/plain": [
       "                user  Component 1     nodeid\n",
       "0       AlbionPrince    -2.241299   858119.0\n",
       "1   BenFoldsFourLoko     5.360138   146354.0\n",
       "2        Betrashndie     5.959476        NaN\n",
       "3           BloodWiz     4.689219   946726.0\n",
       "4  Call_Me_Hurr1cane     1.814633  1234299.0"
      ]
     },
     "execution_count": 32,
     "metadata": {},
     "output_type": "execute_result"
    }
   ],
   "source": [
    "print(user_embedding_1D.shape)\n",
    "user_embedding_1D.head()"
   ]
  },
  {
   "cell_type": "code",
   "execution_count": 34,
   "metadata": {},
   "outputs": [
    {
     "data": {
      "text/plain": [
       "(78, 3)"
      ]
     },
     "execution_count": 34,
     "metadata": {},
     "output_type": "execute_result"
    }
   ],
   "source": [
    "user_embedding_1D = user_embedding_1D.dropna(subset=['nodeid'])\n",
    "user_embedding_1D.shape"
   ]
  },
  {
   "cell_type": "code",
   "execution_count": 43,
   "metadata": {},
   "outputs": [
    {
     "data": {
      "text/html": [
       "<div>\n",
       "<style scoped>\n",
       "    .dataframe tbody tr th:only-of-type {\n",
       "        vertical-align: middle;\n",
       "    }\n",
       "\n",
       "    .dataframe tbody tr th {\n",
       "        vertical-align: top;\n",
       "    }\n",
       "\n",
       "    .dataframe thead th {\n",
       "        text-align: right;\n",
       "    }\n",
       "</style>\n",
       "<table border=\"1\" class=\"dataframe\">\n",
       "  <thead>\n",
       "    <tr style=\"text-align: right;\">\n",
       "      <th></th>\n",
       "      <th>src</th>\n",
       "      <th>trg</th>\n",
       "      <th>nij</th>\n",
       "      <th>score</th>\n",
       "    </tr>\n",
       "  </thead>\n",
       "  <tbody>\n",
       "    <tr>\n",
       "      <th>0</th>\n",
       "      <td>798787</td>\n",
       "      <td>254684</td>\n",
       "      <td>1</td>\n",
       "      <td>0.977561</td>\n",
       "    </tr>\n",
       "    <tr>\n",
       "      <th>1</th>\n",
       "      <td>15548</td>\n",
       "      <td>430231</td>\n",
       "      <td>16</td>\n",
       "      <td>0.999147</td>\n",
       "    </tr>\n",
       "    <tr>\n",
       "      <th>2</th>\n",
       "      <td>1209510</td>\n",
       "      <td>410689</td>\n",
       "      <td>13</td>\n",
       "      <td>0.998674</td>\n",
       "    </tr>\n",
       "    <tr>\n",
       "      <th>3</th>\n",
       "      <td>1209510</td>\n",
       "      <td>695649</td>\n",
       "      <td>1</td>\n",
       "      <td>0.915443</td>\n",
       "    </tr>\n",
       "    <tr>\n",
       "      <th>4</th>\n",
       "      <td>419460</td>\n",
       "      <td>1234244</td>\n",
       "      <td>3</td>\n",
       "      <td>0.981948</td>\n",
       "    </tr>\n",
       "  </tbody>\n",
       "</table>\n",
       "</div>"
      ],
      "text/plain": [
       "       src      trg  nij     score\n",
       "0   798787   254684    1  0.977561\n",
       "1    15548   430231   16  0.999147\n",
       "2  1209510   410689   13  0.998674\n",
       "3  1209510   695649    1  0.915443\n",
       "4   419460  1234244    3  0.981948"
      ]
     },
     "execution_count": 43,
     "metadata": {},
     "output_type": "execute_result"
    }
   ],
   "source": [
    "import networkx as nx\n",
    "net_file = pd.read_csv(\"output_network/combined_network.csv\", sep='\\t')\n",
    "G = nx.from_pandas_edgelist(net_file, \"src\", \"trg\")\n",
    "net_file.head()"
   ]
  },
  {
   "cell_type": "code",
   "execution_count": 44,
   "metadata": {},
   "outputs": [
    {
     "name": "stdout",
     "output_type": "stream",
     "text": [
      "Graph with 516 nodes and 2789 edges\n"
     ]
    }
   ],
   "source": [
    "print(G)"
   ]
  },
  {
   "cell_type": "code",
   "execution_count": 46,
   "metadata": {},
   "outputs": [],
   "source": [
    "node_attr_dict = user_embedding_1D.set_index('nodeid')['Component 1'].to_dict()\n",
    "nx.set_node_attributes(G, node_attr_dict, 'Component 1')\n",
    "\n",
    "# # Verify by printing a few node attributes\n",
    "# for node in user_embedding_1D['nodeid']:\n",
    "#     print(f\"Node {node}, Attribute: {G.nodes[node].get('Component 1', 'No attribute')}\")"
   ]
  },
  {
   "cell_type": "code",
   "execution_count": 48,
   "metadata": {},
   "outputs": [
    {
     "name": "stdout",
     "output_type": "stream",
     "text": [
      "{146354: 5.360138416290283, 1213020: 5.037425518035889, 928681: 3.5870556831359863, 150148: 14.080035209655762}\n"
     ]
    }
   ],
   "source": [
    "print(nx.get_node_attributes(G, \"Component 1\"))"
   ]
  },
  {
   "cell_type": "code",
   "execution_count": 50,
   "metadata": {},
   "outputs": [
    {
     "data": {
      "text/plain": [
       "1    5.360138\n",
       "Name: Component 1, dtype: float32"
      ]
     },
     "execution_count": 50,
     "metadata": {},
     "output_type": "execute_result"
    }
   ],
   "source": [
    "user_embedding_1D[\"Component 1\"][user_embedding_1D[\"nodeid\"]==146354]"
   ]
  },
  {
   "cell_type": "markdown",
   "metadata": {},
   "source": [
    "#### Dimensionality reduction - PCA"
   ]
  },
  {
   "cell_type": "code",
   "execution_count": 10,
   "metadata": {},
   "outputs": [],
   "source": [
    "merged_df_pca = merged_df.copy()"
   ]
  },
  {
   "cell_type": "code",
   "execution_count": 11,
   "metadata": {},
   "outputs": [],
   "source": [
    "from sklearn.decomposition import PCA\n",
    "import sklearn.preprocessing as pre"
   ]
  },
  {
   "cell_type": "code",
   "execution_count": 12,
   "metadata": {},
   "outputs": [],
   "source": [
    "# scaling the images\n",
    "scaler = pre.StandardScaler()\n",
    "merged_df_pca[[\"stance_1\", \"stance_2\", \"stance_3\"]] = scaler.fit_transform(merged_df_pca[[\"stance_1\", \"stance_2\", \"stance_3\"]])"
   ]
  },
  {
   "cell_type": "code",
   "execution_count": 13,
   "metadata": {},
   "outputs": [],
   "source": [
    "pca = PCA(n_components=1)"
   ]
  },
  {
   "cell_type": "code",
   "execution_count": 14,
   "metadata": {},
   "outputs": [],
   "source": [
    "merged_df_pca[\"pca_component\"] = pca.fit_transform(merged_df_pca[[\"stance_1\", \"stance_2\", \"stance_3\"]])"
   ]
  },
  {
   "cell_type": "code",
   "execution_count": 15,
   "metadata": {},
   "outputs": [
    {
     "data": {
      "text/html": [
       "<div>\n",
       "<style scoped>\n",
       "    .dataframe tbody tr th:only-of-type {\n",
       "        vertical-align: middle;\n",
       "    }\n",
       "\n",
       "    .dataframe tbody tr th {\n",
       "        vertical-align: top;\n",
       "    }\n",
       "\n",
       "    .dataframe thead th {\n",
       "        text-align: right;\n",
       "    }\n",
       "</style>\n",
       "<table border=\"1\" class=\"dataframe\">\n",
       "  <thead>\n",
       "    <tr style=\"text-align: right;\">\n",
       "      <th></th>\n",
       "      <th>user</th>\n",
       "      <th>stance_1</th>\n",
       "      <th>stance_2</th>\n",
       "      <th>stance_3</th>\n",
       "      <th>pca_component</th>\n",
       "    </tr>\n",
       "  </thead>\n",
       "  <tbody>\n",
       "    <tr>\n",
       "      <th>0</th>\n",
       "      <td>AlbionPrince</td>\n",
       "      <td>0.374997</td>\n",
       "      <td>-1.287706</td>\n",
       "      <td>-0.726856</td>\n",
       "      <td>0.879965</td>\n",
       "    </tr>\n",
       "    <tr>\n",
       "      <th>1</th>\n",
       "      <td>BenFoldsFourLoko</td>\n",
       "      <td>-0.421439</td>\n",
       "      <td>1.278376</td>\n",
       "      <td>-1.096213</td>\n",
       "      <td>-1.476139</td>\n",
       "    </tr>\n",
       "    <tr>\n",
       "      <th>2</th>\n",
       "      <td>Betrashndie</td>\n",
       "      <td>-0.909514</td>\n",
       "      <td>0.648128</td>\n",
       "      <td>-0.393114</td>\n",
       "      <td>-1.171584</td>\n",
       "    </tr>\n",
       "    <tr>\n",
       "      <th>3</th>\n",
       "      <td>BloodWiz</td>\n",
       "      <td>0.931112</td>\n",
       "      <td>-1.081101</td>\n",
       "      <td>-1.267376</td>\n",
       "      <td>0.952963</td>\n",
       "    </tr>\n",
       "    <tr>\n",
       "      <th>4</th>\n",
       "      <td>Call_Me_Hurr1cane</td>\n",
       "      <td>-1.204722</td>\n",
       "      <td>0.934025</td>\n",
       "      <td>-1.356047</td>\n",
       "      <td>-1.863328</td>\n",
       "    </tr>\n",
       "    <tr>\n",
       "      <th>...</th>\n",
       "      <td>...</td>\n",
       "      <td>...</td>\n",
       "      <td>...</td>\n",
       "      <td>...</td>\n",
       "      <td>...</td>\n",
       "    </tr>\n",
       "    <tr>\n",
       "      <th>91</th>\n",
       "      <td>thebigslapper</td>\n",
       "      <td>-1.390422</td>\n",
       "      <td>-1.328817</td>\n",
       "      <td>0.350217</td>\n",
       "      <td>0.041481</td>\n",
       "    </tr>\n",
       "    <tr>\n",
       "      <th>92</th>\n",
       "      <td>throwrowrowawayyy</td>\n",
       "      <td>-1.402966</td>\n",
       "      <td>0.490570</td>\n",
       "      <td>0.667000</td>\n",
       "      <td>-1.071683</td>\n",
       "    </tr>\n",
       "    <tr>\n",
       "      <th>93</th>\n",
       "      <td>trogon</td>\n",
       "      <td>-1.209249</td>\n",
       "      <td>0.739818</td>\n",
       "      <td>1.220435</td>\n",
       "      <td>-0.931359</td>\n",
       "    </tr>\n",
       "    <tr>\n",
       "      <th>94</th>\n",
       "      <td>weeteacups</td>\n",
       "      <td>-0.454440</td>\n",
       "      <td>-1.153001</td>\n",
       "      <td>-1.268825</td>\n",
       "      <td>0.056044</td>\n",
       "    </tr>\n",
       "    <tr>\n",
       "      <th>95</th>\n",
       "      <td>wizard680</td>\n",
       "      <td>-1.241710</td>\n",
       "      <td>-0.129896</td>\n",
       "      <td>-0.647838</td>\n",
       "      <td>-0.962891</td>\n",
       "    </tr>\n",
       "  </tbody>\n",
       "</table>\n",
       "<p>96 rows × 5 columns</p>\n",
       "</div>"
      ],
      "text/plain": [
       "                 user  stance_1  stance_2  stance_3  pca_component\n",
       "0        AlbionPrince  0.374997 -1.287706 -0.726856       0.879965\n",
       "1    BenFoldsFourLoko -0.421439  1.278376 -1.096213      -1.476139\n",
       "2         Betrashndie -0.909514  0.648128 -0.393114      -1.171584\n",
       "3            BloodWiz  0.931112 -1.081101 -1.267376       0.952963\n",
       "4   Call_Me_Hurr1cane -1.204722  0.934025 -1.356047      -1.863328\n",
       "..                ...       ...       ...       ...            ...\n",
       "91      thebigslapper -1.390422 -1.328817  0.350217       0.041481\n",
       "92  throwrowrowawayyy -1.402966  0.490570  0.667000      -1.071683\n",
       "93             trogon -1.209249  0.739818  1.220435      -0.931359\n",
       "94         weeteacups -0.454440 -1.153001 -1.268825       0.056044\n",
       "95          wizard680 -1.241710 -0.129896 -0.647838      -0.962891\n",
       "\n",
       "[96 rows x 5 columns]"
      ]
     },
     "execution_count": 15,
     "metadata": {},
     "output_type": "execute_result"
    }
   ],
   "source": [
    "merged_df_pca"
   ]
  },
  {
   "cell_type": "code",
   "execution_count": 15,
   "metadata": {},
   "outputs": [],
   "source": [
    "def apply_pca(merged_df_topics, colume_list): \n",
    "    # scaler\n",
    "    scaler = pre.StandardScaler()\n",
    "    merged_df_topics[colume_list] = scaler.fit_transform(merged_df_topics[colume_list])\n",
    "\n",
    "    # pca \n",
    "    pca = PCA(n_components=1)\n",
    "    merged_df_topics[\"pca_component\"] = pca.fit_transform(merged_df_topics[[\"stance_1\", \"stance_2\", \"stance_3\"]])\n",
    "    return merged_df_topics"
   ]
  },
  {
   "cell_type": "code",
   "execution_count": 16,
   "metadata": {},
   "outputs": [
    {
     "data": {
      "text/html": [
       "<div>\n",
       "<style scoped>\n",
       "    .dataframe tbody tr th:only-of-type {\n",
       "        vertical-align: middle;\n",
       "    }\n",
       "\n",
       "    .dataframe tbody tr th {\n",
       "        vertical-align: top;\n",
       "    }\n",
       "\n",
       "    .dataframe thead th {\n",
       "        text-align: right;\n",
       "    }\n",
       "</style>\n",
       "<table border=\"1\" class=\"dataframe\">\n",
       "  <thead>\n",
       "    <tr style=\"text-align: right;\">\n",
       "      <th></th>\n",
       "      <th>user</th>\n",
       "      <th>stance_1</th>\n",
       "      <th>stance_2</th>\n",
       "      <th>stance_3</th>\n",
       "      <th>pca_component</th>\n",
       "    </tr>\n",
       "  </thead>\n",
       "  <tbody>\n",
       "    <tr>\n",
       "      <th>0</th>\n",
       "      <td>AlbionPrince</td>\n",
       "      <td>-0.982052</td>\n",
       "      <td>-1.118597</td>\n",
       "      <td>-1.180277</td>\n",
       "      <td>-1.736947</td>\n",
       "    </tr>\n",
       "    <tr>\n",
       "      <th>1</th>\n",
       "      <td>BenFoldsFourLoko</td>\n",
       "      <td>1.120012</td>\n",
       "      <td>-0.382365</td>\n",
       "      <td>1.336297</td>\n",
       "      <td>0.809821</td>\n",
       "    </tr>\n",
       "    <tr>\n",
       "      <th>2</th>\n",
       "      <td>Betrashndie</td>\n",
       "      <td>-1.533003</td>\n",
       "      <td>1.486847</td>\n",
       "      <td>1.007579</td>\n",
       "      <td>1.555478</td>\n",
       "    </tr>\n",
       "    <tr>\n",
       "      <th>3</th>\n",
       "      <td>BloodWiz</td>\n",
       "      <td>1.138618</td>\n",
       "      <td>-0.579512</td>\n",
       "      <td>0.929322</td>\n",
       "      <td>0.388619</td>\n",
       "    </tr>\n",
       "    <tr>\n",
       "      <th>4</th>\n",
       "      <td>Call_Me_Hurr1cane</td>\n",
       "      <td>-0.910845</td>\n",
       "      <td>0.008304</td>\n",
       "      <td>0.950744</td>\n",
       "      <td>0.556389</td>\n",
       "    </tr>\n",
       "    <tr>\n",
       "      <th>...</th>\n",
       "      <td>...</td>\n",
       "      <td>...</td>\n",
       "      <td>...</td>\n",
       "      <td>...</td>\n",
       "      <td>...</td>\n",
       "    </tr>\n",
       "    <tr>\n",
       "      <th>91</th>\n",
       "      <td>thebigslapper</td>\n",
       "      <td>0.058330</td>\n",
       "      <td>-1.059824</td>\n",
       "      <td>-1.263380</td>\n",
       "      <td>-1.621922</td>\n",
       "    </tr>\n",
       "    <tr>\n",
       "      <th>92</th>\n",
       "      <td>throwrowrowawayyy</td>\n",
       "      <td>-1.514908</td>\n",
       "      <td>-1.004566</td>\n",
       "      <td>-1.214585</td>\n",
       "      <td>-1.748510</td>\n",
       "    </tr>\n",
       "    <tr>\n",
       "      <th>93</th>\n",
       "      <td>trogon</td>\n",
       "      <td>0.263054</td>\n",
       "      <td>-0.318900</td>\n",
       "      <td>-1.491373</td>\n",
       "      <td>-1.235430</td>\n",
       "    </tr>\n",
       "    <tr>\n",
       "      <th>94</th>\n",
       "      <td>weeteacups</td>\n",
       "      <td>0.921673</td>\n",
       "      <td>0.953872</td>\n",
       "      <td>-1.216253</td>\n",
       "      <td>-0.065420</td>\n",
       "    </tr>\n",
       "    <tr>\n",
       "      <th>95</th>\n",
       "      <td>wizard680</td>\n",
       "      <td>-1.511719</td>\n",
       "      <td>-1.017554</td>\n",
       "      <td>-0.762996</td>\n",
       "      <td>-1.440836</td>\n",
       "    </tr>\n",
       "  </tbody>\n",
       "</table>\n",
       "<p>96 rows × 5 columns</p>\n",
       "</div>"
      ],
      "text/plain": [
       "                 user  stance_1  stance_2  stance_3  pca_component\n",
       "0        AlbionPrince -0.982052 -1.118597 -1.180277      -1.736947\n",
       "1    BenFoldsFourLoko  1.120012 -0.382365  1.336297       0.809821\n",
       "2         Betrashndie -1.533003  1.486847  1.007579       1.555478\n",
       "3            BloodWiz  1.138618 -0.579512  0.929322       0.388619\n",
       "4   Call_Me_Hurr1cane -0.910845  0.008304  0.950744       0.556389\n",
       "..                ...       ...       ...       ...            ...\n",
       "91      thebigslapper  0.058330 -1.059824 -1.263380      -1.621922\n",
       "92  throwrowrowawayyy -1.514908 -1.004566 -1.214585      -1.748510\n",
       "93             trogon  0.263054 -0.318900 -1.491373      -1.235430\n",
       "94         weeteacups  0.921673  0.953872 -1.216253      -0.065420\n",
       "95          wizard680 -1.511719 -1.017554 -0.762996      -1.440836\n",
       "\n",
       "[96 rows x 5 columns]"
      ]
     },
     "execution_count": 16,
     "metadata": {},
     "output_type": "execute_result"
    }
   ],
   "source": [
    "apply_pca(merged_df_pca, [\"stance_1\", \"stance_2\", \"stance_3\"])"
   ]
  },
  {
   "cell_type": "code",
   "execution_count": 16,
   "metadata": {},
   "outputs": [
    {
     "data": {
      "text/plain": [
       "array([1.36669598])"
      ]
     },
     "execution_count": 16,
     "metadata": {},
     "output_type": "execute_result"
    }
   ],
   "source": [
    "pca.explained_variance_"
   ]
  },
  {
   "cell_type": "code",
   "execution_count": 17,
   "metadata": {},
   "outputs": [
    {
     "data": {
      "text/plain": [
       "array([0.45081986])"
      ]
     },
     "execution_count": 17,
     "metadata": {},
     "output_type": "execute_result"
    }
   ],
   "source": [
    "pca.explained_variance_ratio_"
   ]
  },
  {
   "cell_type": "markdown",
   "metadata": {},
   "source": [
    "#### Plotting the graphs for the dimensionality reduction"
   ]
  },
  {
   "cell_type": "code",
   "execution_count": 18,
   "metadata": {},
   "outputs": [],
   "source": [
    "num_users = merged_df_pca.shape[0]\n"
   ]
  },
  {
   "cell_type": "markdown",
   "metadata": {},
   "source": [
    "#### Missing users"
   ]
  },
  {
   "cell_type": "code",
   "execution_count": 20,
   "metadata": {},
   "outputs": [],
   "source": [
    "user_nodeid = pd.read_csv(\"reddit_22_51/user_nodeid.csv\", sep=\"\\t\" )"
   ]
  },
  {
   "cell_type": "code",
   "execution_count": 22,
   "metadata": {},
   "outputs": [],
   "source": [
    "user_nodeid_dict = user_nodeid.set_index('index')['nodeid'].to_dict()"
   ]
  },
  {
   "cell_type": "code",
   "execution_count": 43,
   "metadata": {},
   "outputs": [],
   "source": [
    "reclustered_monthly_data['nodeid'] = reclustered_monthly_data['user'].map(user_nodeid_dict)"
   ]
  },
  {
   "cell_type": "code",
   "execution_count": null,
   "metadata": {},
   "outputs": [
    {
     "data": {
      "text/plain": [
       "221607"
      ]
     },
     "execution_count": 48,
     "metadata": {},
     "output_type": "execute_result"
    }
   ],
   "source": [
    "\n",
    "len(reclustered_monthly_data[reclustered_monthly_data['nodeid'].isna()][\"user\"].to_list())"
   ]
  },
  {
   "cell_type": "code",
   "execution_count": 49,
   "metadata": {},
   "outputs": [
    {
     "data": {
      "text/plain": [
       "2162927"
      ]
     },
     "execution_count": 49,
     "metadata": {},
     "output_type": "execute_result"
    }
   ],
   "source": [
    "len(reclustered_monthly_data)"
   ]
  },
  {
   "cell_type": "code",
   "execution_count": 50,
   "metadata": {},
   "outputs": [
    {
     "data": {
      "text/plain": [
       "1240195"
      ]
     },
     "execution_count": 50,
     "metadata": {},
     "output_type": "execute_result"
    }
   ],
   "source": [
    "len(user_nodeid)"
   ]
  },
  {
   "cell_type": "code",
   "execution_count": 51,
   "metadata": {},
   "outputs": [
    {
     "data": {
      "text/plain": [
       "-922732"
      ]
     },
     "execution_count": 51,
     "metadata": {},
     "output_type": "execute_result"
    }
   ],
   "source": [
    "1240195-2162927"
   ]
  },
  {
   "cell_type": "code",
   "execution_count": 52,
   "metadata": {},
   "outputs": [],
   "source": [
    "data = pd.read_csv(\"month_data/22_12.csv\", sep = \"\\t\", encoding = \"utf-8\", quoting = csv.QUOTE_NONE )"
   ]
  },
  {
   "cell_type": "code",
   "execution_count": null,
   "metadata": {},
   "outputs": [],
   "source": [
    "user_nodeid = pd.read_csv(\"reddit_22_51/user_nodeid.csv\", sep=\"\\t\" )\n",
    "user_nodeid_dict = user_nodeid.set_index('index')['nodeid'].to_dict()"
   ]
  },
  {
   "cell_type": "code",
   "execution_count": 53,
   "metadata": {},
   "outputs": [],
   "source": [
    "data['nodeid'] = data['user'].map(user_nodeid_dict)"
   ]
  },
  {
   "cell_type": "code",
   "execution_count": 55,
   "metadata": {},
   "outputs": [
    {
     "data": {
      "text/plain": [
       "221607"
      ]
     },
     "execution_count": 55,
     "metadata": {},
     "output_type": "execute_result"
    }
   ],
   "source": [
    "len(data[data['nodeid'].isna()][\"user\"].to_list())"
   ]
  },
  {
   "cell_type": "code",
   "execution_count": 56,
   "metadata": {},
   "outputs": [],
   "source": [
    "missing_users = data[data['nodeid'].isna()][\"user\"].to_list()"
   ]
  }
 ],
 "metadata": {
  "kernelspec": {
   "display_name": "bach_env",
   "language": "python",
   "name": "python3"
  },
  "language_info": {
   "codemirror_mode": {
    "name": "ipython",
    "version": 3
   },
   "file_extension": ".py",
   "mimetype": "text/x-python",
   "name": "python",
   "nbconvert_exporter": "python",
   "pygments_lexer": "ipython3",
   "version": "3.10.16"
  }
 },
 "nbformat": 4,
 "nbformat_minor": 2
}
