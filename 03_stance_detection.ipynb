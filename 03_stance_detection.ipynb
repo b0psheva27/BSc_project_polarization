{
 "cells": [
  {
   "cell_type": "code",
   "execution_count": 1,
   "metadata": {},
   "outputs": [],
   "source": [
    "# imports \n",
    "import pandas as pd"
   ]
  },
  {
   "cell_type": "code",
   "execution_count": null,
   "metadata": {},
   "outputs": [
    {
     "data": {
      "text/html": [
       "<div>\n",
       "<style scoped>\n",
       "    .dataframe tbody tr th:only-of-type {\n",
       "        vertical-align: middle;\n",
       "    }\n",
       "\n",
       "    .dataframe tbody tr th {\n",
       "        vertical-align: top;\n",
       "    }\n",
       "\n",
       "    .dataframe thead th {\n",
       "        text-align: right;\n",
       "    }\n",
       "</style>\n",
       "<table border=\"1\" class=\"dataframe\">\n",
       "  <thead>\n",
       "    <tr style=\"text-align: right;\">\n",
       "      <th></th>\n",
       "      <th>Column1</th>\n",
       "      <th>w</th>\n",
       "      <th>Topic</th>\n",
       "      <th>Name</th>\n",
       "      <th>annotated_stance</th>\n",
       "    </tr>\n",
       "  </thead>\n",
       "  <tbody>\n",
       "    <tr>\n",
       "      <th>0</th>\n",
       "      <td>146306</td>\n",
       "      <td>There is no abortion ban. Abortions would be l...</td>\n",
       "      <td>0</td>\n",
       "      <td>0_abortion_abortions_fetus_pregnancy</td>\n",
       "      <td>against</td>\n",
       "    </tr>\n",
       "    <tr>\n",
       "      <th>1</th>\n",
       "      <td>87600</td>\n",
       "      <td>It is part of the mother. Individual entities ...</td>\n",
       "      <td>0</td>\n",
       "      <td>0_abortion_abortions_fetus_pregnancy</td>\n",
       "      <td>for</td>\n",
       "    </tr>\n",
       "    <tr>\n",
       "      <th>2</th>\n",
       "      <td>164466</td>\n",
       "      <td>The problem is that “abortion” would imply I a...</td>\n",
       "      <td>0</td>\n",
       "      <td>0_abortion_abortions_fetus_pregnancy</td>\n",
       "      <td>neutral</td>\n",
       "    </tr>\n",
       "    <tr>\n",
       "      <th>3</th>\n",
       "      <td>31887</td>\n",
       "      <td>It’s not really up for debate, to be honest. U...</td>\n",
       "      <td>0</td>\n",
       "      <td>0_abortion_abortions_fetus_pregnancy</td>\n",
       "      <td>for</td>\n",
       "    </tr>\n",
       "    <tr>\n",
       "      <th>4</th>\n",
       "      <td>51526</td>\n",
       "      <td>Okay maybe I jumped a few steps ahead in my la...</td>\n",
       "      <td>0</td>\n",
       "      <td>0_abortion_abortions_fetus_pregnancy</td>\n",
       "      <td>for</td>\n",
       "    </tr>\n",
       "    <tr>\n",
       "      <th>...</th>\n",
       "      <td>...</td>\n",
       "      <td>...</td>\n",
       "      <td>...</td>\n",
       "      <td>...</td>\n",
       "      <td>...</td>\n",
       "    </tr>\n",
       "    <tr>\n",
       "      <th>195</th>\n",
       "      <td>182077</td>\n",
       "      <td>Your argument is that they’re not responsible ...</td>\n",
       "      <td>0</td>\n",
       "      <td>0_abortion_abortions_fetus_pregnancy</td>\n",
       "      <td>against</td>\n",
       "    </tr>\n",
       "    <tr>\n",
       "      <th>196</th>\n",
       "      <td>39762</td>\n",
       "      <td>Nationally, the abortions didn't go down.   Co...</td>\n",
       "      <td>0</td>\n",
       "      <td>0_abortion_abortions_fetus_pregnancy</td>\n",
       "      <td>for</td>\n",
       "    </tr>\n",
       "    <tr>\n",
       "      <th>197</th>\n",
       "      <td>6066</td>\n",
       "      <td>Just ask yourself the question, why would some...</td>\n",
       "      <td>0</td>\n",
       "      <td>0_abortion_abortions_fetus_pregnancy</td>\n",
       "      <td>for</td>\n",
       "    </tr>\n",
       "    <tr>\n",
       "      <th>198</th>\n",
       "      <td>267599</td>\n",
       "      <td>To be honest - this is where my problem lies. ...</td>\n",
       "      <td>0</td>\n",
       "      <td>0_abortion_abortions_fetus_pregnancy</td>\n",
       "      <td>for</td>\n",
       "    </tr>\n",
       "    <tr>\n",
       "      <th>199</th>\n",
       "      <td>83106</td>\n",
       "      <td>Termination of pregnancy shouldn't equal \"not ...</td>\n",
       "      <td>0</td>\n",
       "      <td>0_abortion_abortions_fetus_pregnancy</td>\n",
       "      <td>for</td>\n",
       "    </tr>\n",
       "  </tbody>\n",
       "</table>\n",
       "<p>200 rows × 5 columns</p>\n",
       "</div>"
      ],
      "text/plain": [
       "     Column1                                                  w  Topic  \\\n",
       "0     146306  There is no abortion ban. Abortions would be l...      0   \n",
       "1      87600  It is part of the mother. Individual entities ...      0   \n",
       "2     164466  The problem is that “abortion” would imply I a...      0   \n",
       "3      31887  It’s not really up for debate, to be honest. U...      0   \n",
       "4      51526  Okay maybe I jumped a few steps ahead in my la...      0   \n",
       "..       ...                                                ...    ...   \n",
       "195   182077  Your argument is that they’re not responsible ...      0   \n",
       "196    39762  Nationally, the abortions didn't go down.   Co...      0   \n",
       "197     6066  Just ask yourself the question, why would some...      0   \n",
       "198   267599  To be honest - this is where my problem lies. ...      0   \n",
       "199    83106  Termination of pregnancy shouldn't equal \"not ...      0   \n",
       "\n",
       "                                     Name annotated_stance  \n",
       "0    0_abortion_abortions_fetus_pregnancy          against  \n",
       "1    0_abortion_abortions_fetus_pregnancy              for  \n",
       "2    0_abortion_abortions_fetus_pregnancy          neutral  \n",
       "3    0_abortion_abortions_fetus_pregnancy              for  \n",
       "4    0_abortion_abortions_fetus_pregnancy              for  \n",
       "..                                    ...              ...  \n",
       "195  0_abortion_abortions_fetus_pregnancy          against  \n",
       "196  0_abortion_abortions_fetus_pregnancy              for  \n",
       "197  0_abortion_abortions_fetus_pregnancy              for  \n",
       "198  0_abortion_abortions_fetus_pregnancy              for  \n",
       "199  0_abortion_abortions_fetus_pregnancy              for  \n",
       "\n",
       "[200 rows x 5 columns]"
      ]
     },
     "execution_count": 4,
     "metadata": {},
     "output_type": "execute_result"
    }
   ],
   "source": [
    "annotated_200_jose = pd.read_excel(\"annotated_df_jose.xlsx\")\n",
    "messages_list = annotated_200_jose[\"text\"].astype(str).tolist()\n"
   ]
  },
  {
   "cell_type": "markdown",
   "metadata": {},
   "source": [
    "##### Zero-shot stance classification"
   ]
  },
  {
   "cell_type": "code",
   "execution_count": 2,
   "metadata": {},
   "outputs": [
    {
     "name": "stderr",
     "output_type": "stream",
     "text": [
      "Device set to use cpu\n"
     ]
    }
   ],
   "source": [
    "from transformers import pipeline\n",
    "classifier = pipeline(\"zero-shot-classification\",\n",
    "                      model=\"facebook/bart-large-mnli\")"
   ]
  },
  {
   "cell_type": "code",
   "execution_count": null,
   "metadata": {},
   "outputs": [
    {
     "data": {
      "text/plain": [
       "[{'sequence': 'Trump should not be president, he is the worst',\n",
       "  'labels': ['against', 'for', 'neutral'],\n",
       "  'scores': [0.9462612271308899, 0.05052715167403221, 0.003211601870134473]},\n",
       " {'sequence': 'Hello there bitch',\n",
       "  'labels': ['for', 'against', 'neutral'],\n",
       "  'scores': [0.7418279051780701, 0.21732954680919647, 0.04084258899092674]}]"
      ]
     },
     "execution_count": 3,
     "metadata": {},
     "output_type": "execute_result"
    }
   ],
   "source": [
    "sequence_to_classify = \n",
    "candidate_labels = ['for', 'against', 'neutral']\n",
    "classifier(sequence_to_classify, candidate_labels)"
   ]
  }
 ],
 "metadata": {
  "kernelspec": {
   "display_name": "bach_env",
   "language": "python",
   "name": "python3"
  },
  "language_info": {
   "codemirror_mode": {
    "name": "ipython",
    "version": 3
   },
   "file_extension": ".py",
   "mimetype": "text/x-python",
   "name": "python",
   "nbconvert_exporter": "python",
   "pygments_lexer": "ipython3",
   "version": "3.10.16"
  }
 },
 "nbformat": 4,
 "nbformat_minor": 2
}
