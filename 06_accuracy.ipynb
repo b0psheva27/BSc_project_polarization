{
 "cells": [
  {
   "cell_type": "code",
   "execution_count": 2,
   "metadata": {},
   "outputs": [],
   "source": [
    "import pandas as pd"
   ]
  },
  {
   "cell_type": "code",
   "execution_count": 7,
   "metadata": {},
   "outputs": [
    {
     "data": {
      "text/html": [
       "<div>\n",
       "<style scoped>\n",
       "    .dataframe tbody tr th:only-of-type {\n",
       "        vertical-align: middle;\n",
       "    }\n",
       "\n",
       "    .dataframe tbody tr th {\n",
       "        vertical-align: top;\n",
       "    }\n",
       "\n",
       "    .dataframe thead th {\n",
       "        text-align: right;\n",
       "    }\n",
       "</style>\n",
       "<table border=\"1\" class=\"dataframe\">\n",
       "  <thead>\n",
       "    <tr style=\"text-align: right;\">\n",
       "      <th></th>\n",
       "      <th>Column2</th>\n",
       "      <th>Column1</th>\n",
       "      <th>w</th>\n",
       "      <th>Topic</th>\n",
       "      <th>Name</th>\n",
       "      <th>annotated_stance</th>\n",
       "    </tr>\n",
       "  </thead>\n",
       "  <tbody>\n",
       "    <tr>\n",
       "      <th>0</th>\n",
       "      <td>110</td>\n",
       "      <td>125192</td>\n",
       "      <td>Because pro life is a ridiculous position that...</td>\n",
       "      <td>0</td>\n",
       "      <td>0_abortion_abortions_fetus_pregnancy</td>\n",
       "      <td>for</td>\n",
       "    </tr>\n",
       "    <tr>\n",
       "      <th>1</th>\n",
       "      <td>6</td>\n",
       "      <td>75468</td>\n",
       "      <td>You know, you're actually making some good arg...</td>\n",
       "      <td>0</td>\n",
       "      <td>0_abortion_abortions_fetus_pregnancy</td>\n",
       "      <td>neutral</td>\n",
       "    </tr>\n",
       "    <tr>\n",
       "      <th>2</th>\n",
       "      <td>64</td>\n",
       "      <td>152667</td>\n",
       "      <td>You�re saying born people have more rights tha...</td>\n",
       "      <td>0</td>\n",
       "      <td>0_abortion_abortions_fetus_pregnancy</td>\n",
       "      <td>against</td>\n",
       "    </tr>\n",
       "    <tr>\n",
       "      <th>3</th>\n",
       "      <td>55</td>\n",
       "      <td>198206</td>\n",
       "      <td>No, we aren't. An embryo is not \"a child\".  A...</td>\n",
       "      <td>0</td>\n",
       "      <td>0_abortion_abortions_fetus_pregnancy</td>\n",
       "      <td>for</td>\n",
       "    </tr>\n",
       "    <tr>\n",
       "      <th>4</th>\n",
       "      <td>1</td>\n",
       "      <td>87600</td>\n",
       "      <td>It is part of the mother. Individual entities ...</td>\n",
       "      <td>0</td>\n",
       "      <td>0_abortion_abortions_fetus_pregnancy</td>\n",
       "      <td>for</td>\n",
       "    </tr>\n",
       "    <tr>\n",
       "      <th>...</th>\n",
       "      <td>...</td>\n",
       "      <td>...</td>\n",
       "      <td>...</td>\n",
       "      <td>...</td>\n",
       "      <td>...</td>\n",
       "      <td>...</td>\n",
       "    </tr>\n",
       "    <tr>\n",
       "      <th>95</th>\n",
       "      <td>89</td>\n",
       "      <td>126608</td>\n",
       "      <td>Are you saying a doctor isn't part if an abort...</td>\n",
       "      <td>0</td>\n",
       "      <td>0_abortion_abortions_fetus_pregnancy</td>\n",
       "      <td>neutral</td>\n",
       "    </tr>\n",
       "    <tr>\n",
       "      <th>96</th>\n",
       "      <td>91</td>\n",
       "      <td>283174</td>\n",
       "      <td>Then we agree, I suppose.  If I was to think ...</td>\n",
       "      <td>0</td>\n",
       "      <td>0_abortion_abortions_fetus_pregnancy</td>\n",
       "      <td>neutral</td>\n",
       "    </tr>\n",
       "    <tr>\n",
       "      <th>97</th>\n",
       "      <td>156</td>\n",
       "      <td>29808</td>\n",
       "      <td>Give the rights back to the states!  *Power no...</td>\n",
       "      <td>0</td>\n",
       "      <td>0_abortion_abortions_fetus_pregnancy</td>\n",
       "      <td>for</td>\n",
       "    </tr>\n",
       "    <tr>\n",
       "      <th>98</th>\n",
       "      <td>47</td>\n",
       "      <td>212662</td>\n",
       "      <td>idk about you guys but people shouldnt harass ...</td>\n",
       "      <td>0</td>\n",
       "      <td>0_abortion_abortions_fetus_pregnancy</td>\n",
       "      <td>for</td>\n",
       "    </tr>\n",
       "    <tr>\n",
       "      <th>99</th>\n",
       "      <td>44</td>\n",
       "      <td>51171</td>\n",
       "      <td>Abortion overall. If you want studies on the d...</td>\n",
       "      <td>0</td>\n",
       "      <td>0_abortion_abortions_fetus_pregnancy</td>\n",
       "      <td>neutral</td>\n",
       "    </tr>\n",
       "  </tbody>\n",
       "</table>\n",
       "<p>100 rows × 6 columns</p>\n",
       "</div>"
      ],
      "text/plain": [
       "    Column2  Column1                                                  w  \\\n",
       "0       110   125192  Because pro life is a ridiculous position that...   \n",
       "1         6    75468  You know, you're actually making some good arg...   \n",
       "2        64   152667  You�re saying born people have more rights tha...   \n",
       "3        55   198206   No, we aren't. An embryo is not \"a child\".  A...   \n",
       "4         1    87600  It is part of the mother. Individual entities ...   \n",
       "..      ...      ...                                                ...   \n",
       "95       89   126608  Are you saying a doctor isn't part if an abort...   \n",
       "96       91   283174   Then we agree, I suppose.  If I was to think ...   \n",
       "97      156    29808  Give the rights back to the states!  *Power no...   \n",
       "98       47   212662  idk about you guys but people shouldnt harass ...   \n",
       "99       44    51171  Abortion overall. If you want studies on the d...   \n",
       "\n",
       "    Topic                                  Name annotated_stance  \n",
       "0       0  0_abortion_abortions_fetus_pregnancy              for  \n",
       "1       0  0_abortion_abortions_fetus_pregnancy          neutral  \n",
       "2       0  0_abortion_abortions_fetus_pregnancy          against  \n",
       "3       0  0_abortion_abortions_fetus_pregnancy              for  \n",
       "4       0  0_abortion_abortions_fetus_pregnancy              for  \n",
       "..    ...                                   ...              ...  \n",
       "95      0  0_abortion_abortions_fetus_pregnancy          neutral  \n",
       "96      0  0_abortion_abortions_fetus_pregnancy          neutral  \n",
       "97      0  0_abortion_abortions_fetus_pregnancy              for  \n",
       "98      0  0_abortion_abortions_fetus_pregnancy              for  \n",
       "99      0  0_abortion_abortions_fetus_pregnancy          neutral  \n",
       "\n",
       "[100 rows x 6 columns]"
      ]
     },
     "execution_count": 7,
     "metadata": {},
     "output_type": "execute_result"
    }
   ],
   "source": [
    "llama_probs = pd.read_csv(\"llama_probabilities_chain.csv\")\n",
    "#true_labels = pd.read_csv(\"annotated/re_annotated_test_data.csv\", sep = \";\", encoding=\"utf-8\", encoding_errors=\"replace\")\n",
    "true_labels = pd.read_csv(\"annotated/re_annotated_test_data3.csv\")\n",
    "\n",
    "true_labels"
   ]
  },
  {
   "cell_type": "code",
   "execution_count": 8,
   "metadata": {},
   "outputs": [],
   "source": [
    "llama_probs['stance'] = llama_probs[['A','F', \"N\"]].idxmax(axis=1)\n",
    "dict_labels = {\"A\": \"against\", \"F\": \"for\", \"N\": \"neutral\"}\n",
    "llama_probs[\"stance\"] = llama_probs[\"stance\"].map(dict_labels)"
   ]
  },
  {
   "cell_type": "code",
   "execution_count": 9,
   "metadata": {},
   "outputs": [
    {
     "data": {
      "text/plain": [
       "np.int64(61)"
      ]
     },
     "execution_count": 9,
     "metadata": {},
     "output_type": "execute_result"
    }
   ],
   "source": [
    "matching_rows = (llama_probs[\"stance\"]==true_labels[\"annotated_stance\"]).sum()\n",
    "matching_rows"
   ]
  },
  {
   "cell_type": "code",
   "execution_count": 10,
   "metadata": {},
   "outputs": [],
   "source": [
    "llama_probs.to_csv(\"llama_stances.csv\", index=False)"
   ]
  }
 ],
 "metadata": {
  "kernelspec": {
   "display_name": "bach_env",
   "language": "python",
   "name": "python3"
  },
  "language_info": {
   "codemirror_mode": {
    "name": "ipython",
    "version": 3
   },
   "file_extension": ".py",
   "mimetype": "text/x-python",
   "name": "python",
   "nbconvert_exporter": "python",
   "pygments_lexer": "ipython3",
   "version": "3.10.16"
  }
 },
 "nbformat": 4,
 "nbformat_minor": 2
}
