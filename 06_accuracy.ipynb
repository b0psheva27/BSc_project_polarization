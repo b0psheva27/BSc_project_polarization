{
 "cells": [
  {
   "cell_type": "code",
   "execution_count": 25,
   "metadata": {},
   "outputs": [],
   "source": [
    "import pandas as pd"
   ]
  },
  {
   "cell_type": "code",
   "execution_count": 26,
   "metadata": {},
   "outputs": [],
   "source": [
    "llama_probs = pd.read_csv(\"llama_probabilities.csv\")\n",
    "true_labels = pd.read_csv(\"annotated/annotated_test_data.csv\")"
   ]
  },
  {
   "cell_type": "code",
   "execution_count": 27,
   "metadata": {},
   "outputs": [],
   "source": [
    "llama_probs['stance'] = llama_probs[['A','F', \"N\"]].idxmax(axis=1)\n",
    "dict_labels = {\"A\": \"against\", \"F\": \"for\", \"N\": \"neutral\"}\n",
    "llama_probs[\"stance\"] = llama_probs[\"stance\"].map(dict_labels)"
   ]
  },
  {
   "cell_type": "code",
   "execution_count": 29,
   "metadata": {},
   "outputs": [
    {
     "data": {
      "text/plain": [
       "np.int64(36)"
      ]
     },
     "execution_count": 29,
     "metadata": {},
     "output_type": "execute_result"
    }
   ],
   "source": [
    "matching_rows = (llama_probs[\"stance\"]==true_labels[\"annotated_stance\"]).sum()\n",
    "matching_rows"
   ]
  }
 ],
 "metadata": {
  "kernelspec": {
   "display_name": "bach_env",
   "language": "python",
   "name": "python3"
  },
  "language_info": {
   "codemirror_mode": {
    "name": "ipython",
    "version": 3
   },
   "file_extension": ".py",
   "mimetype": "text/x-python",
   "name": "python",
   "nbconvert_exporter": "python",
   "pygments_lexer": "ipython3",
   "version": "3.10.16"
  }
 },
 "nbformat": 4,
 "nbformat_minor": 2
}
