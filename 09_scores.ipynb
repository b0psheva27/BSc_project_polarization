{
 "cells": [
  {
   "cell_type": "code",
   "execution_count": 21,
   "metadata": {},
   "outputs": [],
   "source": [
    "# Imports\n",
    "import pandas as pd\n",
    "import numpy as np\n",
    "import nltk \n",
    "import matplotlib.pyplot as plt\n",
    "import csv\n",
    "import random"
   ]
  },
  {
   "cell_type": "code",
   "execution_count": 22,
   "metadata": {},
   "outputs": [],
   "source": [
    "reclustered_monthly_data = pd.read_csv(\"output_hpc/reclustered_monthly_data_final.csv\", sep = \"\\t\", encoding = \"utf-8\", quoting = csv.QUOTE_NONE )"
   ]
  },
  {
   "cell_type": "code",
   "execution_count": 23,
   "metadata": {},
   "outputs": [],
   "source": [
    "data = reclustered_monthly_data.head(100)"
   ]
  },
  {
   "cell_type": "code",
   "execution_count": 24,
   "metadata": {},
   "outputs": [],
   "source": [
    "n_rows = data.shape[0]"
   ]
  },
  {
   "cell_type": "code",
   "execution_count": 25,
   "metadata": {},
   "outputs": [
    {
     "name": "stderr",
     "output_type": "stream",
     "text": [
      "/tmp/ipykernel_950/686247784.py:1: SettingWithCopyWarning: \n",
      "A value is trying to be set on a copy of a slice from a DataFrame.\n",
      "Try using .loc[row_indexer,col_indexer] = value instead\n",
      "\n",
      "See the caveats in the documentation: https://pandas.pydata.org/pandas-docs/stable/user_guide/indexing.html#returning-a-view-versus-a-copy\n",
      "  data[\"A\"] = np.random.rand(n_rows)\n",
      "/tmp/ipykernel_950/686247784.py:2: SettingWithCopyWarning: \n",
      "A value is trying to be set on a copy of a slice from a DataFrame.\n",
      "Try using .loc[row_indexer,col_indexer] = value instead\n",
      "\n",
      "See the caveats in the documentation: https://pandas.pydata.org/pandas-docs/stable/user_guide/indexing.html#returning-a-view-versus-a-copy\n",
      "  data[\"F\"] = np.random.rand(n_rows)\n",
      "/tmp/ipykernel_950/686247784.py:3: SettingWithCopyWarning: \n",
      "A value is trying to be set on a copy of a slice from a DataFrame.\n",
      "Try using .loc[row_indexer,col_indexer] = value instead\n",
      "\n",
      "See the caveats in the documentation: https://pandas.pydata.org/pandas-docs/stable/user_guide/indexing.html#returning-a-view-versus-a-copy\n",
      "  data[\"N\"] = np.random.rand(n_rows)\n"
     ]
    }
   ],
   "source": [
    "data[\"A\"] = np.random.rand(n_rows)\n",
    "data[\"F\"] = np.random.rand(n_rows)\n",
    "data[\"N\"] = np.random.rand(n_rows)"
   ]
  },
  {
   "cell_type": "code",
   "execution_count": 26,
   "metadata": {},
   "outputs": [],
   "source": [
    "data_avg = data.groupby(\"user\")[['A', 'F', 'N']].mean().reset_index()"
   ]
  },
  {
   "cell_type": "code",
   "execution_count": 27,
   "metadata": {},
   "outputs": [
    {
     "name": "stdout",
     "output_type": "stream",
     "text": [
      "-0.4853049298901819\n",
      "0.4853049298901819 A\n"
     ]
    }
   ],
   "source": [
    "max_val = data_avg.iloc[1][[\"A\", \"F\", \"N\"]].max()\n",
    "max_col = data_avg.iloc[1][[\"A\", \"F\"]].idxmax()\n",
    "print(max_val *-1)\n",
    "print(max_val, max_col)"
   ]
  },
  {
   "cell_type": "code",
   "execution_count": 28,
   "metadata": {},
   "outputs": [],
   "source": [
    "def get_stance(row): \n",
    "    if row[\"N\"] == 1.0: \n",
    "        return 0\n",
    "    elif row[\"A\"] > row[\"F\"]:\n",
    "        return row[\"A\"]\n",
    "    elif row[\"F\"] > row[\"A\"]:\n",
    "        return row[\"F\"]*-1\n",
    "    else: \n",
    "        return random.choice([row[\"A\"], row[\"F\"]])"
   ]
  },
  {
   "cell_type": "code",
   "execution_count": 29,
   "metadata": {},
   "outputs": [],
   "source": [
    "data_avg[\"stance\"] = data_avg.apply(lambda x: get_stance(x), axis = 1)"
   ]
  },
  {
   "cell_type": "markdown",
   "metadata": {},
   "source": [
    "#### Getting the stance for each user for each topic"
   ]
  },
  {
   "cell_type": "code",
   "execution_count": 30,
   "metadata": {},
   "outputs": [],
   "source": [
    "def make_dataset(data):\n",
    "    data = reclustered_monthly_data.head(100)\n",
    "    n_rows = data.shape[0]\n",
    "    data[\"A\"] = np.random.rand(n_rows)\n",
    "    data[\"F\"] = np.random.rand(n_rows)\n",
    "    data[\"N\"] = np.random.rand(n_rows)\n",
    "    data_avg = data.groupby(\"user\")[['A', 'F', 'N']].mean().reset_index()\n",
    "    data_avg[\"stance\"] = data_avg.apply(lambda x: get_stance(x), axis = 1)\n",
    "    return data_avg"
   ]
  },
  {
   "cell_type": "code",
   "execution_count": 31,
   "metadata": {},
   "outputs": [
    {
     "name": "stderr",
     "output_type": "stream",
     "text": [
      "/tmp/ipykernel_950/2471956829.py:4: SettingWithCopyWarning: \n",
      "A value is trying to be set on a copy of a slice from a DataFrame.\n",
      "Try using .loc[row_indexer,col_indexer] = value instead\n",
      "\n",
      "See the caveats in the documentation: https://pandas.pydata.org/pandas-docs/stable/user_guide/indexing.html#returning-a-view-versus-a-copy\n",
      "  data[\"A\"] = np.random.rand(n_rows)\n",
      "/tmp/ipykernel_950/2471956829.py:5: SettingWithCopyWarning: \n",
      "A value is trying to be set on a copy of a slice from a DataFrame.\n",
      "Try using .loc[row_indexer,col_indexer] = value instead\n",
      "\n",
      "See the caveats in the documentation: https://pandas.pydata.org/pandas-docs/stable/user_guide/indexing.html#returning-a-view-versus-a-copy\n",
      "  data[\"F\"] = np.random.rand(n_rows)\n",
      "/tmp/ipykernel_950/2471956829.py:6: SettingWithCopyWarning: \n",
      "A value is trying to be set on a copy of a slice from a DataFrame.\n",
      "Try using .loc[row_indexer,col_indexer] = value instead\n",
      "\n",
      "See the caveats in the documentation: https://pandas.pydata.org/pandas-docs/stable/user_guide/indexing.html#returning-a-view-versus-a-copy\n",
      "  data[\"N\"] = np.random.rand(n_rows)\n",
      "/tmp/ipykernel_950/2471956829.py:4: SettingWithCopyWarning: \n",
      "A value is trying to be set on a copy of a slice from a DataFrame.\n",
      "Try using .loc[row_indexer,col_indexer] = value instead\n",
      "\n",
      "See the caveats in the documentation: https://pandas.pydata.org/pandas-docs/stable/user_guide/indexing.html#returning-a-view-versus-a-copy\n",
      "  data[\"A\"] = np.random.rand(n_rows)\n",
      "/tmp/ipykernel_950/2471956829.py:5: SettingWithCopyWarning: \n",
      "A value is trying to be set on a copy of a slice from a DataFrame.\n",
      "Try using .loc[row_indexer,col_indexer] = value instead\n",
      "\n",
      "See the caveats in the documentation: https://pandas.pydata.org/pandas-docs/stable/user_guide/indexing.html#returning-a-view-versus-a-copy\n",
      "  data[\"F\"] = np.random.rand(n_rows)\n",
      "/tmp/ipykernel_950/2471956829.py:6: SettingWithCopyWarning: \n",
      "A value is trying to be set on a copy of a slice from a DataFrame.\n",
      "Try using .loc[row_indexer,col_indexer] = value instead\n",
      "\n",
      "See the caveats in the documentation: https://pandas.pydata.org/pandas-docs/stable/user_guide/indexing.html#returning-a-view-versus-a-copy\n",
      "  data[\"N\"] = np.random.rand(n_rows)\n",
      "/tmp/ipykernel_950/2471956829.py:4: SettingWithCopyWarning: \n",
      "A value is trying to be set on a copy of a slice from a DataFrame.\n",
      "Try using .loc[row_indexer,col_indexer] = value instead\n",
      "\n",
      "See the caveats in the documentation: https://pandas.pydata.org/pandas-docs/stable/user_guide/indexing.html#returning-a-view-versus-a-copy\n",
      "  data[\"A\"] = np.random.rand(n_rows)\n",
      "/tmp/ipykernel_950/2471956829.py:5: SettingWithCopyWarning: \n",
      "A value is trying to be set on a copy of a slice from a DataFrame.\n",
      "Try using .loc[row_indexer,col_indexer] = value instead\n",
      "\n",
      "See the caveats in the documentation: https://pandas.pydata.org/pandas-docs/stable/user_guide/indexing.html#returning-a-view-versus-a-copy\n",
      "  data[\"F\"] = np.random.rand(n_rows)\n",
      "/tmp/ipykernel_950/2471956829.py:6: SettingWithCopyWarning: \n",
      "A value is trying to be set on a copy of a slice from a DataFrame.\n",
      "Try using .loc[row_indexer,col_indexer] = value instead\n",
      "\n",
      "See the caveats in the documentation: https://pandas.pydata.org/pandas-docs/stable/user_guide/indexing.html#returning-a-view-versus-a-copy\n",
      "  data[\"N\"] = np.random.rand(n_rows)\n"
     ]
    }
   ],
   "source": [
    "data_1 = make_dataset(reclustered_monthly_data)\n",
    "data_2 = make_dataset(reclustered_monthly_data)\n",
    "data_3 = make_dataset(reclustered_monthly_data)"
   ]
  },
  {
   "cell_type": "code",
   "execution_count": 32,
   "metadata": {},
   "outputs": [],
   "source": [
    "data1 = data_1.rename(columns={\"stance\": \"stance_1\"})\n",
    "data2 = data_2.rename(columns={\"stance\": \"stance_2\"})\n",
    "data3 = data_3.rename(columns={\"stance\": \"stance_3\"})"
   ]
  },
  {
   "cell_type": "code",
   "execution_count": 33,
   "metadata": {},
   "outputs": [],
   "source": [
    "merged_df = pd.merge(pd.merge(data1, data2, on='user'), data3, on='user')"
   ]
  },
  {
   "cell_type": "code",
   "execution_count": 34,
   "metadata": {},
   "outputs": [
    {
     "data": {
      "text/html": [
       "<div>\n",
       "<style scoped>\n",
       "    .dataframe tbody tr th:only-of-type {\n",
       "        vertical-align: middle;\n",
       "    }\n",
       "\n",
       "    .dataframe tbody tr th {\n",
       "        vertical-align: top;\n",
       "    }\n",
       "\n",
       "    .dataframe thead th {\n",
       "        text-align: right;\n",
       "    }\n",
       "</style>\n",
       "<table border=\"1\" class=\"dataframe\">\n",
       "  <thead>\n",
       "    <tr style=\"text-align: right;\">\n",
       "      <th></th>\n",
       "      <th>user</th>\n",
       "      <th>stance_1</th>\n",
       "      <th>stance_2</th>\n",
       "      <th>stance_3</th>\n",
       "    </tr>\n",
       "  </thead>\n",
       "  <tbody>\n",
       "    <tr>\n",
       "      <th>0</th>\n",
       "      <td>AlbionPrince</td>\n",
       "      <td>-0.899503</td>\n",
       "      <td>-0.197501</td>\n",
       "      <td>0.467632</td>\n",
       "    </tr>\n",
       "    <tr>\n",
       "      <th>1</th>\n",
       "      <td>BenFoldsFourLoko</td>\n",
       "      <td>0.899054</td>\n",
       "      <td>-0.467889</td>\n",
       "      <td>0.930038</td>\n",
       "    </tr>\n",
       "    <tr>\n",
       "      <th>2</th>\n",
       "      <td>Betrashndie</td>\n",
       "      <td>-0.986026</td>\n",
       "      <td>0.959480</td>\n",
       "      <td>-0.280052</td>\n",
       "    </tr>\n",
       "    <tr>\n",
       "      <th>3</th>\n",
       "      <td>BloodWiz</td>\n",
       "      <td>0.648485</td>\n",
       "      <td>0.665346</td>\n",
       "      <td>-0.712709</td>\n",
       "    </tr>\n",
       "    <tr>\n",
       "      <th>4</th>\n",
       "      <td>Call_Me_Hurr1cane</td>\n",
       "      <td>0.494927</td>\n",
       "      <td>-0.352391</td>\n",
       "      <td>0.756536</td>\n",
       "    </tr>\n",
       "    <tr>\n",
       "      <th>...</th>\n",
       "      <td>...</td>\n",
       "      <td>...</td>\n",
       "      <td>...</td>\n",
       "      <td>...</td>\n",
       "    </tr>\n",
       "    <tr>\n",
       "      <th>91</th>\n",
       "      <td>thebigslapper</td>\n",
       "      <td>0.609985</td>\n",
       "      <td>0.620845</td>\n",
       "      <td>0.297749</td>\n",
       "    </tr>\n",
       "    <tr>\n",
       "      <th>92</th>\n",
       "      <td>throwrowrowawayyy</td>\n",
       "      <td>-0.758959</td>\n",
       "      <td>0.205901</td>\n",
       "      <td>0.903658</td>\n",
       "    </tr>\n",
       "    <tr>\n",
       "      <th>93</th>\n",
       "      <td>trogon</td>\n",
       "      <td>-0.575962</td>\n",
       "      <td>0.281986</td>\n",
       "      <td>0.832892</td>\n",
       "    </tr>\n",
       "    <tr>\n",
       "      <th>94</th>\n",
       "      <td>weeteacups</td>\n",
       "      <td>0.930559</td>\n",
       "      <td>-0.935738</td>\n",
       "      <td>0.537766</td>\n",
       "    </tr>\n",
       "    <tr>\n",
       "      <th>95</th>\n",
       "      <td>wizard680</td>\n",
       "      <td>-0.687392</td>\n",
       "      <td>0.544375</td>\n",
       "      <td>0.623508</td>\n",
       "    </tr>\n",
       "  </tbody>\n",
       "</table>\n",
       "<p>96 rows × 4 columns</p>\n",
       "</div>"
      ],
      "text/plain": [
       "                 user  stance_1  stance_2  stance_3\n",
       "0        AlbionPrince -0.899503 -0.197501  0.467632\n",
       "1    BenFoldsFourLoko  0.899054 -0.467889  0.930038\n",
       "2         Betrashndie -0.986026  0.959480 -0.280052\n",
       "3            BloodWiz  0.648485  0.665346 -0.712709\n",
       "4   Call_Me_Hurr1cane  0.494927 -0.352391  0.756536\n",
       "..                ...       ...       ...       ...\n",
       "91      thebigslapper  0.609985  0.620845  0.297749\n",
       "92  throwrowrowawayyy -0.758959  0.205901  0.903658\n",
       "93             trogon -0.575962  0.281986  0.832892\n",
       "94         weeteacups  0.930559 -0.935738  0.537766\n",
       "95          wizard680 -0.687392  0.544375  0.623508\n",
       "\n",
       "[96 rows x 4 columns]"
      ]
     },
     "execution_count": 34,
     "metadata": {},
     "output_type": "execute_result"
    }
   ],
   "source": [
    "merged_df = merged_df[[\"user\", \"stance_1\", \"stance_2\", \"stance_3\"]]\n",
    "merged_df"
   ]
  },
  {
   "cell_type": "markdown",
   "metadata": {},
   "source": [
    "#### Dimensionality reduction - UMAP "
   ]
  },
  {
   "cell_type": "code",
   "execution_count": 43,
   "metadata": {},
   "outputs": [],
   "source": [
    "merged_df_umap = merged_df.copy()"
   ]
  },
  {
   "cell_type": "markdown",
   "metadata": {},
   "source": [
    "#### Dimensionality reduction - PCA"
   ]
  },
  {
   "cell_type": "code",
   "execution_count": 35,
   "metadata": {},
   "outputs": [],
   "source": [
    "merged_df_pca = merged_df.copy()"
   ]
  },
  {
   "cell_type": "code",
   "execution_count": 36,
   "metadata": {},
   "outputs": [],
   "source": [
    "from sklearn.decomposition import PCA\n",
    "import sklearn.preprocessing as pre"
   ]
  },
  {
   "cell_type": "code",
   "execution_count": null,
   "metadata": {},
   "outputs": [],
   "source": [
    "# scaling the images\n",
    "scaler = pre.StandardScaler()\n",
    "merged_df_pca[[\"stance_1\", \"stance_2\", \"stance_3\"]] = scaler.fit_transform(merged_df_pca[[\"stance_1\", \"stance_2\", \"stance_3\"]])"
   ]
  },
  {
   "cell_type": "code",
   "execution_count": 39,
   "metadata": {},
   "outputs": [],
   "source": [
    "pca = PCA(n_components=1)"
   ]
  },
  {
   "cell_type": "code",
   "execution_count": 40,
   "metadata": {},
   "outputs": [],
   "source": [
    "merged_df_pca[\"pca_component\"] = pca.fit_transform(merged_df_pca[[\"stance_1\", \"stance_2\", \"stance_3\"]])"
   ]
  },
  {
   "cell_type": "code",
   "execution_count": 41,
   "metadata": {},
   "outputs": [
    {
     "data": {
      "text/html": [
       "<div>\n",
       "<style scoped>\n",
       "    .dataframe tbody tr th:only-of-type {\n",
       "        vertical-align: middle;\n",
       "    }\n",
       "\n",
       "    .dataframe tbody tr th {\n",
       "        vertical-align: top;\n",
       "    }\n",
       "\n",
       "    .dataframe thead th {\n",
       "        text-align: right;\n",
       "    }\n",
       "</style>\n",
       "<table border=\"1\" class=\"dataframe\">\n",
       "  <thead>\n",
       "    <tr style=\"text-align: right;\">\n",
       "      <th></th>\n",
       "      <th>user</th>\n",
       "      <th>stance_1</th>\n",
       "      <th>stance_2</th>\n",
       "      <th>stance_3</th>\n",
       "      <th>pca_component</th>\n",
       "    </tr>\n",
       "  </thead>\n",
       "  <tbody>\n",
       "    <tr>\n",
       "      <th>0</th>\n",
       "      <td>AlbionPrince</td>\n",
       "      <td>-1.322767</td>\n",
       "      <td>-0.513050</td>\n",
       "      <td>0.528211</td>\n",
       "      <td>0.924612</td>\n",
       "    </tr>\n",
       "    <tr>\n",
       "      <th>1</th>\n",
       "      <td>BenFoldsFourLoko</td>\n",
       "      <td>1.239949</td>\n",
       "      <td>-0.913606</td>\n",
       "      <td>1.220091</td>\n",
       "      <td>1.317128</td>\n",
       "    </tr>\n",
       "    <tr>\n",
       "      <th>2</th>\n",
       "      <td>Betrashndie</td>\n",
       "      <td>-1.446052</td>\n",
       "      <td>1.200915</td>\n",
       "      <td>-0.590522</td>\n",
       "      <td>-1.009357</td>\n",
       "    </tr>\n",
       "    <tr>\n",
       "      <th>3</th>\n",
       "      <td>BloodWiz</td>\n",
       "      <td>0.882920</td>\n",
       "      <td>0.765182</td>\n",
       "      <td>-1.237890</td>\n",
       "      <td>-1.549382</td>\n",
       "    </tr>\n",
       "    <tr>\n",
       "      <th>4</th>\n",
       "      <td>Call_Me_Hurr1cane</td>\n",
       "      <td>0.664119</td>\n",
       "      <td>-0.742505</td>\n",
       "      <td>0.960486</td>\n",
       "      <td>1.098681</td>\n",
       "    </tr>\n",
       "    <tr>\n",
       "      <th>...</th>\n",
       "      <td>...</td>\n",
       "      <td>...</td>\n",
       "      <td>...</td>\n",
       "      <td>...</td>\n",
       "      <td>...</td>\n",
       "    </tr>\n",
       "    <tr>\n",
       "      <th>91</th>\n",
       "      <td>thebigslapper</td>\n",
       "      <td>0.828062</td>\n",
       "      <td>0.699258</td>\n",
       "      <td>0.274021</td>\n",
       "      <td>-0.379758</td>\n",
       "    </tr>\n",
       "    <tr>\n",
       "      <th>92</th>\n",
       "      <td>throwrowrowawayyy</td>\n",
       "      <td>-1.122510</td>\n",
       "      <td>0.084554</td>\n",
       "      <td>1.180619</td>\n",
       "      <td>0.985024</td>\n",
       "    </tr>\n",
       "    <tr>\n",
       "      <th>93</th>\n",
       "      <td>trogon</td>\n",
       "      <td>-0.861762</td>\n",
       "      <td>0.197267</td>\n",
       "      <td>1.074735</td>\n",
       "      <td>0.793859</td>\n",
       "    </tr>\n",
       "    <tr>\n",
       "      <th>94</th>\n",
       "      <td>weeteacups</td>\n",
       "      <td>1.284840</td>\n",
       "      <td>-1.606683</td>\n",
       "      <td>0.633148</td>\n",
       "      <td>1.331245</td>\n",
       "    </tr>\n",
       "    <tr>\n",
       "      <th>95</th>\n",
       "      <td>wizard680</td>\n",
       "      <td>-1.020536</td>\n",
       "      <td>0.585974</td>\n",
       "      <td>0.761441</td>\n",
       "      <td>0.330698</td>\n",
       "    </tr>\n",
       "  </tbody>\n",
       "</table>\n",
       "<p>96 rows × 5 columns</p>\n",
       "</div>"
      ],
      "text/plain": [
       "                 user  stance_1  stance_2  stance_3  pca_component\n",
       "0        AlbionPrince -1.322767 -0.513050  0.528211       0.924612\n",
       "1    BenFoldsFourLoko  1.239949 -0.913606  1.220091       1.317128\n",
       "2         Betrashndie -1.446052  1.200915 -0.590522      -1.009357\n",
       "3            BloodWiz  0.882920  0.765182 -1.237890      -1.549382\n",
       "4   Call_Me_Hurr1cane  0.664119 -0.742505  0.960486       1.098681\n",
       "..                ...       ...       ...       ...            ...\n",
       "91      thebigslapper  0.828062  0.699258  0.274021      -0.379758\n",
       "92  throwrowrowawayyy -1.122510  0.084554  1.180619       0.985024\n",
       "93             trogon -0.861762  0.197267  1.074735       0.793859\n",
       "94         weeteacups  1.284840 -1.606683  0.633148       1.331245\n",
       "95          wizard680 -1.020536  0.585974  0.761441       0.330698\n",
       "\n",
       "[96 rows x 5 columns]"
      ]
     },
     "execution_count": 41,
     "metadata": {},
     "output_type": "execute_result"
    }
   ],
   "source": [
    "merged_df_pca"
   ]
  },
  {
   "cell_type": "code",
   "execution_count": 45,
   "metadata": {},
   "outputs": [],
   "source": [
    "def apply_pca(merged_df_topics, colume_list): \n",
    "    # scaler\n",
    "    scaler = pre.StandardScaler()\n",
    "    merged_df_topics[colume_list] = scaler.fit_transform(merged_df_topics[colume_list])\n",
    "\n",
    "    # pca \n",
    "    pca = PCA(n_components=1)\n",
    "    merged_df_topics[\"pca_component\"] = pca.fit_transform(merged_df_topics[[\"stance_1\", \"stance_2\", \"stance_3\"]])\n",
    "    return merged_df_topics"
   ]
  },
  {
   "cell_type": "code",
   "execution_count": 47,
   "metadata": {},
   "outputs": [
    {
     "data": {
      "text/html": [
       "<div>\n",
       "<style scoped>\n",
       "    .dataframe tbody tr th:only-of-type {\n",
       "        vertical-align: middle;\n",
       "    }\n",
       "\n",
       "    .dataframe tbody tr th {\n",
       "        vertical-align: top;\n",
       "    }\n",
       "\n",
       "    .dataframe thead th {\n",
       "        text-align: right;\n",
       "    }\n",
       "</style>\n",
       "<table border=\"1\" class=\"dataframe\">\n",
       "  <thead>\n",
       "    <tr style=\"text-align: right;\">\n",
       "      <th></th>\n",
       "      <th>user</th>\n",
       "      <th>stance_1</th>\n",
       "      <th>stance_2</th>\n",
       "      <th>stance_3</th>\n",
       "      <th>pca_component</th>\n",
       "    </tr>\n",
       "  </thead>\n",
       "  <tbody>\n",
       "    <tr>\n",
       "      <th>0</th>\n",
       "      <td>AlbionPrince</td>\n",
       "      <td>-1.322767</td>\n",
       "      <td>-0.513050</td>\n",
       "      <td>0.528211</td>\n",
       "      <td>0.924612</td>\n",
       "    </tr>\n",
       "    <tr>\n",
       "      <th>1</th>\n",
       "      <td>BenFoldsFourLoko</td>\n",
       "      <td>1.239949</td>\n",
       "      <td>-0.913606</td>\n",
       "      <td>1.220091</td>\n",
       "      <td>1.317128</td>\n",
       "    </tr>\n",
       "    <tr>\n",
       "      <th>2</th>\n",
       "      <td>Betrashndie</td>\n",
       "      <td>-1.446052</td>\n",
       "      <td>1.200915</td>\n",
       "      <td>-0.590522</td>\n",
       "      <td>-1.009357</td>\n",
       "    </tr>\n",
       "    <tr>\n",
       "      <th>3</th>\n",
       "      <td>BloodWiz</td>\n",
       "      <td>0.882920</td>\n",
       "      <td>0.765182</td>\n",
       "      <td>-1.237890</td>\n",
       "      <td>-1.549382</td>\n",
       "    </tr>\n",
       "    <tr>\n",
       "      <th>4</th>\n",
       "      <td>Call_Me_Hurr1cane</td>\n",
       "      <td>0.664119</td>\n",
       "      <td>-0.742505</td>\n",
       "      <td>0.960486</td>\n",
       "      <td>1.098681</td>\n",
       "    </tr>\n",
       "    <tr>\n",
       "      <th>...</th>\n",
       "      <td>...</td>\n",
       "      <td>...</td>\n",
       "      <td>...</td>\n",
       "      <td>...</td>\n",
       "      <td>...</td>\n",
       "    </tr>\n",
       "    <tr>\n",
       "      <th>91</th>\n",
       "      <td>thebigslapper</td>\n",
       "      <td>0.828062</td>\n",
       "      <td>0.699258</td>\n",
       "      <td>0.274021</td>\n",
       "      <td>-0.379758</td>\n",
       "    </tr>\n",
       "    <tr>\n",
       "      <th>92</th>\n",
       "      <td>throwrowrowawayyy</td>\n",
       "      <td>-1.122510</td>\n",
       "      <td>0.084554</td>\n",
       "      <td>1.180619</td>\n",
       "      <td>0.985024</td>\n",
       "    </tr>\n",
       "    <tr>\n",
       "      <th>93</th>\n",
       "      <td>trogon</td>\n",
       "      <td>-0.861762</td>\n",
       "      <td>0.197267</td>\n",
       "      <td>1.074735</td>\n",
       "      <td>0.793859</td>\n",
       "    </tr>\n",
       "    <tr>\n",
       "      <th>94</th>\n",
       "      <td>weeteacups</td>\n",
       "      <td>1.284840</td>\n",
       "      <td>-1.606683</td>\n",
       "      <td>0.633148</td>\n",
       "      <td>1.331245</td>\n",
       "    </tr>\n",
       "    <tr>\n",
       "      <th>95</th>\n",
       "      <td>wizard680</td>\n",
       "      <td>-1.020536</td>\n",
       "      <td>0.585974</td>\n",
       "      <td>0.761441</td>\n",
       "      <td>0.330698</td>\n",
       "    </tr>\n",
       "  </tbody>\n",
       "</table>\n",
       "<p>96 rows × 5 columns</p>\n",
       "</div>"
      ],
      "text/plain": [
       "                 user  stance_1  stance_2  stance_3  pca_component\n",
       "0        AlbionPrince -1.322767 -0.513050  0.528211       0.924612\n",
       "1    BenFoldsFourLoko  1.239949 -0.913606  1.220091       1.317128\n",
       "2         Betrashndie -1.446052  1.200915 -0.590522      -1.009357\n",
       "3            BloodWiz  0.882920  0.765182 -1.237890      -1.549382\n",
       "4   Call_Me_Hurr1cane  0.664119 -0.742505  0.960486       1.098681\n",
       "..                ...       ...       ...       ...            ...\n",
       "91      thebigslapper  0.828062  0.699258  0.274021      -0.379758\n",
       "92  throwrowrowawayyy -1.122510  0.084554  1.180619       0.985024\n",
       "93             trogon -0.861762  0.197267  1.074735       0.793859\n",
       "94         weeteacups  1.284840 -1.606683  0.633148       1.331245\n",
       "95          wizard680 -1.020536  0.585974  0.761441       0.330698\n",
       "\n",
       "[96 rows x 5 columns]"
      ]
     },
     "execution_count": 47,
     "metadata": {},
     "output_type": "execute_result"
    }
   ],
   "source": [
    "apply_pca(merged_df_pca, [\"stance_1\", \"stance_2\", \"stance_3\"])"
   ]
  },
  {
   "cell_type": "markdown",
   "metadata": {},
   "source": [
    "#### Computing polarization "
   ]
  }
 ],
 "metadata": {
  "kernelspec": {
   "display_name": "bach_env",
   "language": "python",
   "name": "python3"
  },
  "language_info": {
   "codemirror_mode": {
    "name": "ipython",
    "version": 3
   },
   "file_extension": ".py",
   "mimetype": "text/x-python",
   "name": "python",
   "nbconvert_exporter": "python",
   "pygments_lexer": "ipython3",
   "version": "3.10.16"
  }
 },
 "nbformat": 4,
 "nbformat_minor": 2
}
