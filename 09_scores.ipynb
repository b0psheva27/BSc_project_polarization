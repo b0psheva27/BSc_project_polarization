{
 "cells": [
  {
   "cell_type": "code",
   "execution_count": 1,
   "metadata": {},
   "outputs": [],
   "source": [
    "# Imports\n",
    "import pandas as pd\n",
    "import numpy as np\n",
    "import nltk \n",
    "import matplotlib.pyplot as plt\n",
    "import csv\n",
    "import random"
   ]
  },
  {
   "cell_type": "code",
   "execution_count": 2,
   "metadata": {},
   "outputs": [],
   "source": [
    "reclustered_monthly_data = pd.read_csv(\"output_hpc/reclustered_monthly_data_final.csv\", sep = \"\\t\", encoding = \"utf-8\", quoting = csv.QUOTE_NONE )"
   ]
  },
  {
   "cell_type": "code",
   "execution_count": null,
   "metadata": {},
   "outputs": [],
   "source": [
    "data = reclustered_monthly_data.head(100)"
   ]
  },
  {
   "cell_type": "code",
   "execution_count": 74,
   "metadata": {},
   "outputs": [],
   "source": [
    "n_rows = data.shape[0]"
   ]
  },
  {
   "cell_type": "code",
   "execution_count": 75,
   "metadata": {},
   "outputs": [
    {
     "name": "stderr",
     "output_type": "stream",
     "text": [
      "/tmp/ipykernel_9866/686247784.py:1: SettingWithCopyWarning: \n",
      "A value is trying to be set on a copy of a slice from a DataFrame.\n",
      "Try using .loc[row_indexer,col_indexer] = value instead\n",
      "\n",
      "See the caveats in the documentation: https://pandas.pydata.org/pandas-docs/stable/user_guide/indexing.html#returning-a-view-versus-a-copy\n",
      "  data[\"A\"] = np.random.rand(n_rows)\n",
      "/tmp/ipykernel_9866/686247784.py:2: SettingWithCopyWarning: \n",
      "A value is trying to be set on a copy of a slice from a DataFrame.\n",
      "Try using .loc[row_indexer,col_indexer] = value instead\n",
      "\n",
      "See the caveats in the documentation: https://pandas.pydata.org/pandas-docs/stable/user_guide/indexing.html#returning-a-view-versus-a-copy\n",
      "  data[\"F\"] = np.random.rand(n_rows)\n",
      "/tmp/ipykernel_9866/686247784.py:3: SettingWithCopyWarning: \n",
      "A value is trying to be set on a copy of a slice from a DataFrame.\n",
      "Try using .loc[row_indexer,col_indexer] = value instead\n",
      "\n",
      "See the caveats in the documentation: https://pandas.pydata.org/pandas-docs/stable/user_guide/indexing.html#returning-a-view-versus-a-copy\n",
      "  data[\"N\"] = np.random.rand(n_rows)\n"
     ]
    }
   ],
   "source": [
    "data[\"A\"] = np.random.rand(n_rows)\n",
    "data[\"F\"] = np.random.rand(n_rows)\n",
    "data[\"N\"] = np.random.rand(n_rows)"
   ]
  },
  {
   "cell_type": "code",
   "execution_count": 76,
   "metadata": {},
   "outputs": [],
   "source": [
    "data_avg = data.groupby(\"user\")[['A', 'F', 'N']].mean().reset_index()"
   ]
  },
  {
   "cell_type": "code",
   "execution_count": 77,
   "metadata": {},
   "outputs": [
    {
     "name": "stdout",
     "output_type": "stream",
     "text": [
      "-0.974251290632651\n",
      "0.974251290632651 F\n"
     ]
    }
   ],
   "source": [
    "max_val = data_avg.iloc[1][[\"A\", \"F\", \"N\"]].max()\n",
    "max_col = data_avg.iloc[1][[\"A\", \"F\"]].idxmax()\n",
    "print(max_val *-1)\n",
    "print(max_val, max_col)"
   ]
  },
  {
   "cell_type": "code",
   "execution_count": 5,
   "metadata": {},
   "outputs": [],
   "source": [
    "def get_stance(row): \n",
    "    if row[\"N\"] == 1.0: \n",
    "        return 0\n",
    "    elif row[\"A\"] > row[\"F\"]:\n",
    "        return row[\"A\"]\n",
    "    elif row[\"F\"] > row[\"A\"]:\n",
    "        return row[\"F\"]*-1\n",
    "    else: \n",
    "        return random.choice([row[\"A\"], row[\"F\"]])"
   ]
  },
  {
   "cell_type": "code",
   "execution_count": 79,
   "metadata": {},
   "outputs": [],
   "source": [
    "data_avg[\"stance\"] = data_avg.apply(lambda x: get_stance(x), axis = 1)"
   ]
  },
  {
   "cell_type": "markdown",
   "metadata": {},
   "source": [
    "#### Getting the stance for each user for each topic"
   ]
  },
  {
   "cell_type": "code",
   "execution_count": 10,
   "metadata": {},
   "outputs": [],
   "source": [
    "def make_dataset(data):\n",
    "    data = reclustered_monthly_data.head(100)\n",
    "    n_rows = data.shape[0]\n",
    "    data[\"A\"] = np.random.rand(n_rows)\n",
    "    data[\"F\"] = np.random.rand(n_rows)\n",
    "    data[\"N\"] = np.random.rand(n_rows)\n",
    "    data_avg = data.groupby(\"user\")[['A', 'F', 'N']].mean().reset_index()\n",
    "    data_avg[\"stance\"] = data_avg.apply(lambda x: get_stance(x), axis = 1)\n",
    "    return data_avg"
   ]
  },
  {
   "cell_type": "code",
   "execution_count": 13,
   "metadata": {},
   "outputs": [
    {
     "name": "stderr",
     "output_type": "stream",
     "text": [
      "/tmp/ipykernel_869/2471956829.py:4: SettingWithCopyWarning: \n",
      "A value is trying to be set on a copy of a slice from a DataFrame.\n",
      "Try using .loc[row_indexer,col_indexer] = value instead\n",
      "\n",
      "See the caveats in the documentation: https://pandas.pydata.org/pandas-docs/stable/user_guide/indexing.html#returning-a-view-versus-a-copy\n",
      "  data[\"A\"] = np.random.rand(n_rows)\n",
      "/tmp/ipykernel_869/2471956829.py:5: SettingWithCopyWarning: \n",
      "A value is trying to be set on a copy of a slice from a DataFrame.\n",
      "Try using .loc[row_indexer,col_indexer] = value instead\n",
      "\n",
      "See the caveats in the documentation: https://pandas.pydata.org/pandas-docs/stable/user_guide/indexing.html#returning-a-view-versus-a-copy\n",
      "  data[\"F\"] = np.random.rand(n_rows)\n",
      "/tmp/ipykernel_869/2471956829.py:6: SettingWithCopyWarning: \n",
      "A value is trying to be set on a copy of a slice from a DataFrame.\n",
      "Try using .loc[row_indexer,col_indexer] = value instead\n",
      "\n",
      "See the caveats in the documentation: https://pandas.pydata.org/pandas-docs/stable/user_guide/indexing.html#returning-a-view-versus-a-copy\n",
      "  data[\"N\"] = np.random.rand(n_rows)\n",
      "/tmp/ipykernel_869/2471956829.py:4: SettingWithCopyWarning: \n",
      "A value is trying to be set on a copy of a slice from a DataFrame.\n",
      "Try using .loc[row_indexer,col_indexer] = value instead\n",
      "\n",
      "See the caveats in the documentation: https://pandas.pydata.org/pandas-docs/stable/user_guide/indexing.html#returning-a-view-versus-a-copy\n",
      "  data[\"A\"] = np.random.rand(n_rows)\n",
      "/tmp/ipykernel_869/2471956829.py:5: SettingWithCopyWarning: \n",
      "A value is trying to be set on a copy of a slice from a DataFrame.\n",
      "Try using .loc[row_indexer,col_indexer] = value instead\n",
      "\n",
      "See the caveats in the documentation: https://pandas.pydata.org/pandas-docs/stable/user_guide/indexing.html#returning-a-view-versus-a-copy\n",
      "  data[\"F\"] = np.random.rand(n_rows)\n",
      "/tmp/ipykernel_869/2471956829.py:6: SettingWithCopyWarning: \n",
      "A value is trying to be set on a copy of a slice from a DataFrame.\n",
      "Try using .loc[row_indexer,col_indexer] = value instead\n",
      "\n",
      "See the caveats in the documentation: https://pandas.pydata.org/pandas-docs/stable/user_guide/indexing.html#returning-a-view-versus-a-copy\n",
      "  data[\"N\"] = np.random.rand(n_rows)\n",
      "/tmp/ipykernel_869/2471956829.py:4: SettingWithCopyWarning: \n",
      "A value is trying to be set on a copy of a slice from a DataFrame.\n",
      "Try using .loc[row_indexer,col_indexer] = value instead\n",
      "\n",
      "See the caveats in the documentation: https://pandas.pydata.org/pandas-docs/stable/user_guide/indexing.html#returning-a-view-versus-a-copy\n",
      "  data[\"A\"] = np.random.rand(n_rows)\n",
      "/tmp/ipykernel_869/2471956829.py:5: SettingWithCopyWarning: \n",
      "A value is trying to be set on a copy of a slice from a DataFrame.\n",
      "Try using .loc[row_indexer,col_indexer] = value instead\n",
      "\n",
      "See the caveats in the documentation: https://pandas.pydata.org/pandas-docs/stable/user_guide/indexing.html#returning-a-view-versus-a-copy\n",
      "  data[\"F\"] = np.random.rand(n_rows)\n",
      "/tmp/ipykernel_869/2471956829.py:6: SettingWithCopyWarning: \n",
      "A value is trying to be set on a copy of a slice from a DataFrame.\n",
      "Try using .loc[row_indexer,col_indexer] = value instead\n",
      "\n",
      "See the caveats in the documentation: https://pandas.pydata.org/pandas-docs/stable/user_guide/indexing.html#returning-a-view-versus-a-copy\n",
      "  data[\"N\"] = np.random.rand(n_rows)\n"
     ]
    }
   ],
   "source": [
    "data_1 = make_dataset(reclustered_monthly_data)\n",
    "data_2 = make_dataset(reclustered_monthly_data)\n",
    "data_3 = make_dataset(reclustered_monthly_data)"
   ]
  },
  {
   "cell_type": "code",
   "execution_count": 23,
   "metadata": {},
   "outputs": [],
   "source": [
    "data1 = data_1.rename(columns={\"stance\": \"stance_1\"})\n",
    "data2 = data_2.rename(columns={\"stance\": \"stance_2\"})\n",
    "data3 = data_3.rename(columns={\"stance\": \"stance_3\"})"
   ]
  },
  {
   "cell_type": "code",
   "execution_count": 27,
   "metadata": {},
   "outputs": [],
   "source": [
    "merged_df = pd.merge(pd.merge(data1, data2, on='user'), data3, on='user')"
   ]
  },
  {
   "cell_type": "code",
   "execution_count": 31,
   "metadata": {},
   "outputs": [
    {
     "data": {
      "text/html": [
       "<div>\n",
       "<style scoped>\n",
       "    .dataframe tbody tr th:only-of-type {\n",
       "        vertical-align: middle;\n",
       "    }\n",
       "\n",
       "    .dataframe tbody tr th {\n",
       "        vertical-align: top;\n",
       "    }\n",
       "\n",
       "    .dataframe thead th {\n",
       "        text-align: right;\n",
       "    }\n",
       "</style>\n",
       "<table border=\"1\" class=\"dataframe\">\n",
       "  <thead>\n",
       "    <tr style=\"text-align: right;\">\n",
       "      <th></th>\n",
       "      <th>user</th>\n",
       "      <th>stance_1</th>\n",
       "      <th>stance_2</th>\n",
       "      <th>stance_3</th>\n",
       "    </tr>\n",
       "  </thead>\n",
       "  <tbody>\n",
       "    <tr>\n",
       "      <th>0</th>\n",
       "      <td>AlbionPrince</td>\n",
       "      <td>0.931657</td>\n",
       "      <td>-0.954651</td>\n",
       "      <td>-0.880233</td>\n",
       "    </tr>\n",
       "    <tr>\n",
       "      <th>1</th>\n",
       "      <td>BenFoldsFourLoko</td>\n",
       "      <td>0.408146</td>\n",
       "      <td>-0.705791</td>\n",
       "      <td>-0.519300</td>\n",
       "    </tr>\n",
       "    <tr>\n",
       "      <th>2</th>\n",
       "      <td>Betrashndie</td>\n",
       "      <td>-0.935226</td>\n",
       "      <td>-0.722485</td>\n",
       "      <td>-0.200872</td>\n",
       "    </tr>\n",
       "    <tr>\n",
       "      <th>3</th>\n",
       "      <td>BloodWiz</td>\n",
       "      <td>-0.473356</td>\n",
       "      <td>0.480935</td>\n",
       "      <td>0.778890</td>\n",
       "    </tr>\n",
       "    <tr>\n",
       "      <th>4</th>\n",
       "      <td>Call_Me_Hurr1cane</td>\n",
       "      <td>-0.681776</td>\n",
       "      <td>0.433288</td>\n",
       "      <td>-0.877143</td>\n",
       "    </tr>\n",
       "    <tr>\n",
       "      <th>...</th>\n",
       "      <td>...</td>\n",
       "      <td>...</td>\n",
       "      <td>...</td>\n",
       "      <td>...</td>\n",
       "    </tr>\n",
       "    <tr>\n",
       "      <th>91</th>\n",
       "      <td>thebigslapper</td>\n",
       "      <td>0.988245</td>\n",
       "      <td>0.494813</td>\n",
       "      <td>-0.624964</td>\n",
       "    </tr>\n",
       "    <tr>\n",
       "      <th>92</th>\n",
       "      <td>throwrowrowawayyy</td>\n",
       "      <td>0.863324</td>\n",
       "      <td>0.846066</td>\n",
       "      <td>-0.979942</td>\n",
       "    </tr>\n",
       "    <tr>\n",
       "      <th>93</th>\n",
       "      <td>trogon</td>\n",
       "      <td>0.622945</td>\n",
       "      <td>0.248133</td>\n",
       "      <td>0.751745</td>\n",
       "    </tr>\n",
       "    <tr>\n",
       "      <th>94</th>\n",
       "      <td>weeteacups</td>\n",
       "      <td>-0.778994</td>\n",
       "      <td>-0.314035</td>\n",
       "      <td>-0.754830</td>\n",
       "    </tr>\n",
       "    <tr>\n",
       "      <th>95</th>\n",
       "      <td>wizard680</td>\n",
       "      <td>-0.962667</td>\n",
       "      <td>0.883267</td>\n",
       "      <td>0.969428</td>\n",
       "    </tr>\n",
       "  </tbody>\n",
       "</table>\n",
       "<p>96 rows × 4 columns</p>\n",
       "</div>"
      ],
      "text/plain": [
       "                 user  stance_1  stance_2  stance_3\n",
       "0        AlbionPrince  0.931657 -0.954651 -0.880233\n",
       "1    BenFoldsFourLoko  0.408146 -0.705791 -0.519300\n",
       "2         Betrashndie -0.935226 -0.722485 -0.200872\n",
       "3            BloodWiz -0.473356  0.480935  0.778890\n",
       "4   Call_Me_Hurr1cane -0.681776  0.433288 -0.877143\n",
       "..                ...       ...       ...       ...\n",
       "91      thebigslapper  0.988245  0.494813 -0.624964\n",
       "92  throwrowrowawayyy  0.863324  0.846066 -0.979942\n",
       "93             trogon  0.622945  0.248133  0.751745\n",
       "94         weeteacups -0.778994 -0.314035 -0.754830\n",
       "95          wizard680 -0.962667  0.883267  0.969428\n",
       "\n",
       "[96 rows x 4 columns]"
      ]
     },
     "execution_count": 31,
     "metadata": {},
     "output_type": "execute_result"
    }
   ],
   "source": [
    "merged_df = merged_df[[\"user\", \"stance_1\", \"stance_2\", \"stance_3\"]]\n",
    "merged_df"
   ]
  },
  {
   "cell_type": "markdown",
   "metadata": {},
   "source": [
    "#### Dimensionality reduction"
   ]
  },
  {
   "cell_type": "code",
   "execution_count": null,
   "metadata": {},
   "outputs": [],
   "source": []
  },
  {
   "cell_type": "markdown",
   "metadata": {},
   "source": [
    "##### Computing polarization "
   ]
  }
 ],
 "metadata": {
  "kernelspec": {
   "display_name": "bach_env",
   "language": "python",
   "name": "python3"
  },
  "language_info": {
   "codemirror_mode": {
    "name": "ipython",
    "version": 3
   },
   "file_extension": ".py",
   "mimetype": "text/x-python",
   "name": "python",
   "nbconvert_exporter": "python",
   "pygments_lexer": "ipython3",
   "version": "3.10.16"
  }
 },
 "nbformat": 4,
 "nbformat_minor": 2
}
