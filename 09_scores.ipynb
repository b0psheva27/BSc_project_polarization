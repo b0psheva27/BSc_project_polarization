{
 "cells": [
  {
   "cell_type": "code",
   "execution_count": 59,
   "metadata": {},
   "outputs": [],
   "source": [
    "# Imports\n",
    "import pandas as pd\n",
    "import numpy as np\n",
    "import nltk \n",
    "import matplotlib.pyplot as plt\n",
    "import csv\n",
    "import random"
   ]
  },
  {
   "cell_type": "code",
   "execution_count": 63,
   "metadata": {},
   "outputs": [],
   "source": [
    "reclustered_monthly_data = pd.read_csv(\"output_hpc/reclustered_monthly_data_final.csv\", sep = \"\\t\", encoding = \"utf-8\", quoting = csv.QUOTE_NONE )"
   ]
  },
  {
   "cell_type": "code",
   "execution_count": 64,
   "metadata": {},
   "outputs": [],
   "source": [
    "data = reclustered_monthly_data.head(100)"
   ]
  },
  {
   "cell_type": "code",
   "execution_count": 74,
   "metadata": {},
   "outputs": [],
   "source": [
    "n_rows = data.shape[0]"
   ]
  },
  {
   "cell_type": "code",
   "execution_count": 75,
   "metadata": {},
   "outputs": [
    {
     "name": "stderr",
     "output_type": "stream",
     "text": [
      "/tmp/ipykernel_9866/686247784.py:1: SettingWithCopyWarning: \n",
      "A value is trying to be set on a copy of a slice from a DataFrame.\n",
      "Try using .loc[row_indexer,col_indexer] = value instead\n",
      "\n",
      "See the caveats in the documentation: https://pandas.pydata.org/pandas-docs/stable/user_guide/indexing.html#returning-a-view-versus-a-copy\n",
      "  data[\"A\"] = np.random.rand(n_rows)\n",
      "/tmp/ipykernel_9866/686247784.py:2: SettingWithCopyWarning: \n",
      "A value is trying to be set on a copy of a slice from a DataFrame.\n",
      "Try using .loc[row_indexer,col_indexer] = value instead\n",
      "\n",
      "See the caveats in the documentation: https://pandas.pydata.org/pandas-docs/stable/user_guide/indexing.html#returning-a-view-versus-a-copy\n",
      "  data[\"F\"] = np.random.rand(n_rows)\n",
      "/tmp/ipykernel_9866/686247784.py:3: SettingWithCopyWarning: \n",
      "A value is trying to be set on a copy of a slice from a DataFrame.\n",
      "Try using .loc[row_indexer,col_indexer] = value instead\n",
      "\n",
      "See the caveats in the documentation: https://pandas.pydata.org/pandas-docs/stable/user_guide/indexing.html#returning-a-view-versus-a-copy\n",
      "  data[\"N\"] = np.random.rand(n_rows)\n"
     ]
    }
   ],
   "source": [
    "data[\"A\"] = np.random.rand(n_rows)\n",
    "data[\"F\"] = np.random.rand(n_rows)\n",
    "data[\"N\"] = np.random.rand(n_rows)"
   ]
  },
  {
   "cell_type": "code",
   "execution_count": 76,
   "metadata": {},
   "outputs": [],
   "source": [
    "data_avg = data.groupby(\"user\")[['A', 'F', 'N']].mean().reset_index()"
   ]
  },
  {
   "cell_type": "code",
   "execution_count": 77,
   "metadata": {},
   "outputs": [
    {
     "name": "stdout",
     "output_type": "stream",
     "text": [
      "-0.974251290632651\n",
      "0.974251290632651 F\n"
     ]
    }
   ],
   "source": [
    "max_val = data_avg.iloc[1][[\"A\", \"F\", \"N\"]].max()\n",
    "max_col = data_avg.iloc[1][[\"A\", \"F\"]].idxmax()\n",
    "print(max_val *-1)\n",
    "print(max_val, max_col)"
   ]
  },
  {
   "cell_type": "code",
   "execution_count": 78,
   "metadata": {},
   "outputs": [],
   "source": [
    "\n",
    "def get_stance(row): \n",
    "    if row[\"N\"] == 1.0: \n",
    "        return 0\n",
    "    elif row[\"A\"] > row[\"F\"]:\n",
    "        return row[\"A\"]\n",
    "    elif row[\"F\"] > row[\"A\"]:\n",
    "        return row[\"F\"]*-1\n",
    "    else: \n",
    "        return random.choice([row[\"A\"], row[\"F\"]])\n",
    "\n",
    "        # max_val = row[[\"A\", \"F\"]].idxmax()\n",
    "        # if max_val == \"A\":\n",
    "        #     return row[\"A\"]\n",
    "        # elif max_val == \"F\": \n",
    "        #     return row[\"F\"]*-1\n",
    "        # else: \n",
    "        #     return \"ERROR\"\n"
   ]
  },
  {
   "cell_type": "code",
   "execution_count": 79,
   "metadata": {},
   "outputs": [],
   "source": [
    "data_avg[\"stance\"] = data_avg.apply(lambda x: get_stance(x), axis = 1)"
   ]
  },
  {
   "cell_type": "code",
   "execution_count": 80,
   "metadata": {},
   "outputs": [
    {
     "data": {
      "text/html": [
       "<div>\n",
       "<style scoped>\n",
       "    .dataframe tbody tr th:only-of-type {\n",
       "        vertical-align: middle;\n",
       "    }\n",
       "\n",
       "    .dataframe tbody tr th {\n",
       "        vertical-align: top;\n",
       "    }\n",
       "\n",
       "    .dataframe thead th {\n",
       "        text-align: right;\n",
       "    }\n",
       "</style>\n",
       "<table border=\"1\" class=\"dataframe\">\n",
       "  <thead>\n",
       "    <tr style=\"text-align: right;\">\n",
       "      <th></th>\n",
       "      <th>user</th>\n",
       "      <th>A</th>\n",
       "      <th>F</th>\n",
       "      <th>N</th>\n",
       "      <th>stance</th>\n",
       "    </tr>\n",
       "  </thead>\n",
       "  <tbody>\n",
       "    <tr>\n",
       "      <th>0</th>\n",
       "      <td>AlbionPrince</td>\n",
       "      <td>0.421794</td>\n",
       "      <td>0.818319</td>\n",
       "      <td>0.983197</td>\n",
       "      <td>-0.818319</td>\n",
       "    </tr>\n",
       "    <tr>\n",
       "      <th>1</th>\n",
       "      <td>BenFoldsFourLoko</td>\n",
       "      <td>0.424729</td>\n",
       "      <td>0.974251</td>\n",
       "      <td>0.620601</td>\n",
       "      <td>-0.974251</td>\n",
       "    </tr>\n",
       "    <tr>\n",
       "      <th>2</th>\n",
       "      <td>Betrashndie</td>\n",
       "      <td>0.863502</td>\n",
       "      <td>0.903815</td>\n",
       "      <td>0.055659</td>\n",
       "      <td>-0.903815</td>\n",
       "    </tr>\n",
       "    <tr>\n",
       "      <th>3</th>\n",
       "      <td>BloodWiz</td>\n",
       "      <td>0.363536</td>\n",
       "      <td>0.455848</td>\n",
       "      <td>0.748766</td>\n",
       "      <td>-0.455848</td>\n",
       "    </tr>\n",
       "    <tr>\n",
       "      <th>4</th>\n",
       "      <td>Call_Me_Hurr1cane</td>\n",
       "      <td>0.781419</td>\n",
       "      <td>0.370661</td>\n",
       "      <td>0.469383</td>\n",
       "      <td>0.781419</td>\n",
       "    </tr>\n",
       "    <tr>\n",
       "      <th>...</th>\n",
       "      <td>...</td>\n",
       "      <td>...</td>\n",
       "      <td>...</td>\n",
       "      <td>...</td>\n",
       "      <td>...</td>\n",
       "    </tr>\n",
       "    <tr>\n",
       "      <th>91</th>\n",
       "      <td>thebigslapper</td>\n",
       "      <td>0.130504</td>\n",
       "      <td>0.618875</td>\n",
       "      <td>0.491716</td>\n",
       "      <td>-0.618875</td>\n",
       "    </tr>\n",
       "    <tr>\n",
       "      <th>92</th>\n",
       "      <td>throwrowrowawayyy</td>\n",
       "      <td>0.761511</td>\n",
       "      <td>0.540064</td>\n",
       "      <td>0.221474</td>\n",
       "      <td>0.761511</td>\n",
       "    </tr>\n",
       "    <tr>\n",
       "      <th>93</th>\n",
       "      <td>trogon</td>\n",
       "      <td>0.552259</td>\n",
       "      <td>0.017077</td>\n",
       "      <td>0.725244</td>\n",
       "      <td>0.552259</td>\n",
       "    </tr>\n",
       "    <tr>\n",
       "      <th>94</th>\n",
       "      <td>weeteacups</td>\n",
       "      <td>0.327439</td>\n",
       "      <td>0.360535</td>\n",
       "      <td>0.405771</td>\n",
       "      <td>-0.360535</td>\n",
       "    </tr>\n",
       "    <tr>\n",
       "      <th>95</th>\n",
       "      <td>wizard680</td>\n",
       "      <td>0.825118</td>\n",
       "      <td>0.016052</td>\n",
       "      <td>0.239350</td>\n",
       "      <td>0.825118</td>\n",
       "    </tr>\n",
       "  </tbody>\n",
       "</table>\n",
       "<p>96 rows × 5 columns</p>\n",
       "</div>"
      ],
      "text/plain": [
       "                 user         A         F         N    stance\n",
       "0        AlbionPrince  0.421794  0.818319  0.983197 -0.818319\n",
       "1    BenFoldsFourLoko  0.424729  0.974251  0.620601 -0.974251\n",
       "2         Betrashndie  0.863502  0.903815  0.055659 -0.903815\n",
       "3            BloodWiz  0.363536  0.455848  0.748766 -0.455848\n",
       "4   Call_Me_Hurr1cane  0.781419  0.370661  0.469383  0.781419\n",
       "..                ...       ...       ...       ...       ...\n",
       "91      thebigslapper  0.130504  0.618875  0.491716 -0.618875\n",
       "92  throwrowrowawayyy  0.761511  0.540064  0.221474  0.761511\n",
       "93             trogon  0.552259  0.017077  0.725244  0.552259\n",
       "94         weeteacups  0.327439  0.360535  0.405771 -0.360535\n",
       "95          wizard680  0.825118  0.016052  0.239350  0.825118\n",
       "\n",
       "[96 rows x 5 columns]"
      ]
     },
     "execution_count": 80,
     "metadata": {},
     "output_type": "execute_result"
    }
   ],
   "source": [
    "data_avg"
   ]
  }
 ],
 "metadata": {
  "kernelspec": {
   "display_name": "bach_env",
   "language": "python",
   "name": "python3"
  },
  "language_info": {
   "codemirror_mode": {
    "name": "ipython",
    "version": 3
   },
   "file_extension": ".py",
   "mimetype": "text/x-python",
   "name": "python",
   "nbconvert_exporter": "python",
   "pygments_lexer": "ipython3",
   "version": "3.10.16"
  }
 },
 "nbformat": 4,
 "nbformat_minor": 2
}
