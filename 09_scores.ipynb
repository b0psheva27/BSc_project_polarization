{
 "cells": [
  {
   "cell_type": "code",
   "execution_count": null,
   "metadata": {},
   "outputs": [],
   "source": [
    "# Imports\n",
    "import pandas as pd\n",
    "import numpy as np\n",
    "import nltk \n",
    "import matplotlib.pyplot as plt\n",
    "import csv\n",
    "import random\n",
    "from reduction_function import apply_umap, apply_pca, plot_c, "
   ]
  },
  {
   "cell_type": "code",
   "execution_count": 2,
   "metadata": {},
   "outputs": [],
   "source": [
    "reclustered_monthly_data = pd.read_csv(\"output_hpc/reclustered_monthly_data_final.csv\", sep = \"\\t\", encoding = \"utf-8\", quoting = csv.QUOTE_NONE )"
   ]
  },
  {
   "cell_type": "code",
   "execution_count": 3,
   "metadata": {},
   "outputs": [],
   "source": [
    "data = reclustered_monthly_data.head(100)"
   ]
  },
  {
   "cell_type": "code",
   "execution_count": null,
   "metadata": {},
   "outputs": [],
   "source": [
    "n_rows = data.shape[0]"
   ]
  },
  {
   "cell_type": "code",
   "execution_count": 31,
   "metadata": {},
   "outputs": [
    {
     "name": "stderr",
     "output_type": "stream",
     "text": [
      "/tmp/ipykernel_9179/686247784.py:1: SettingWithCopyWarning: \n",
      "A value is trying to be set on a copy of a slice from a DataFrame.\n",
      "Try using .loc[row_indexer,col_indexer] = value instead\n",
      "\n",
      "See the caveats in the documentation: https://pandas.pydata.org/pandas-docs/stable/user_guide/indexing.html#returning-a-view-versus-a-copy\n",
      "  data[\"A\"] = np.random.rand(n_rows)\n",
      "/tmp/ipykernel_9179/686247784.py:2: SettingWithCopyWarning: \n",
      "A value is trying to be set on a copy of a slice from a DataFrame.\n",
      "Try using .loc[row_indexer,col_indexer] = value instead\n",
      "\n",
      "See the caveats in the documentation: https://pandas.pydata.org/pandas-docs/stable/user_guide/indexing.html#returning-a-view-versus-a-copy\n",
      "  data[\"F\"] = np.random.rand(n_rows)\n",
      "/tmp/ipykernel_9179/686247784.py:3: SettingWithCopyWarning: \n",
      "A value is trying to be set on a copy of a slice from a DataFrame.\n",
      "Try using .loc[row_indexer,col_indexer] = value instead\n",
      "\n",
      "See the caveats in the documentation: https://pandas.pydata.org/pandas-docs/stable/user_guide/indexing.html#returning-a-view-versus-a-copy\n",
      "  data[\"N\"] = np.random.rand(n_rows)\n"
     ]
    }
   ],
   "source": [
    "data[\"A\"] = np.random.rand(n_rows)\n",
    "data[\"F\"] = np.random.rand(n_rows)\n",
    "data[\"N\"] = np.random.rand(n_rows)"
   ]
  },
  {
   "cell_type": "code",
   "execution_count": 32,
   "metadata": {},
   "outputs": [],
   "source": [
    "data_avg = data.groupby(\"user\")[['A', 'F', 'N']].mean().reset_index()"
   ]
  },
  {
   "cell_type": "code",
   "execution_count": 33,
   "metadata": {},
   "outputs": [
    {
     "name": "stdout",
     "output_type": "stream",
     "text": [
      "-0.9164021220578908\n",
      "0.9164021220578908 F\n"
     ]
    }
   ],
   "source": [
    "max_val = data_avg.iloc[1][[\"A\", \"F\", \"N\"]].max()\n",
    "max_col = data_avg.iloc[1][[\"A\", \"F\"]].idxmax()\n",
    "print(max_val *-1)\n",
    "print(max_val, max_col)"
   ]
  },
  {
   "cell_type": "code",
   "execution_count": 4,
   "metadata": {},
   "outputs": [],
   "source": [
    "def get_stance(row): \n",
    "    if row[\"N\"] == 1.0: \n",
    "        return 0\n",
    "    elif row[\"A\"] > row[\"F\"]:\n",
    "        return row[\"A\"]\n",
    "    elif row[\"F\"] > row[\"A\"]:\n",
    "        return row[\"F\"]*-1\n",
    "    else: \n",
    "        return random.choice([row[\"A\"], row[\"F\"]])"
   ]
  },
  {
   "cell_type": "code",
   "execution_count": 35,
   "metadata": {},
   "outputs": [],
   "source": [
    "data_avg[\"stance\"] = data_avg.apply(lambda x: get_stance(x), axis = 1)"
   ]
  },
  {
   "cell_type": "markdown",
   "metadata": {},
   "source": [
    "#### Getting the stance for each user for each topic"
   ]
  },
  {
   "cell_type": "code",
   "execution_count": 5,
   "metadata": {},
   "outputs": [],
   "source": [
    "def make_dataset(data):\n",
    "    data = reclustered_monthly_data.head(100)\n",
    "    n_rows = data.shape[0]\n",
    "    data[\"A\"] = np.random.rand(n_rows)\n",
    "    data[\"F\"] = np.random.rand(n_rows)\n",
    "    data[\"N\"] = np.random.rand(n_rows)\n",
    "    data_avg = data.groupby(\"user\")[['A', 'F', 'N']].mean().reset_index()\n",
    "    data_avg[\"stance\"] = data_avg.apply(lambda x: get_stance(x), axis = 1)\n",
    "    return data_avg"
   ]
  },
  {
   "cell_type": "code",
   "execution_count": 6,
   "metadata": {},
   "outputs": [
    {
     "name": "stderr",
     "output_type": "stream",
     "text": [
      "/tmp/ipykernel_963/2471956829.py:4: SettingWithCopyWarning: \n",
      "A value is trying to be set on a copy of a slice from a DataFrame.\n",
      "Try using .loc[row_indexer,col_indexer] = value instead\n",
      "\n",
      "See the caveats in the documentation: https://pandas.pydata.org/pandas-docs/stable/user_guide/indexing.html#returning-a-view-versus-a-copy\n",
      "  data[\"A\"] = np.random.rand(n_rows)\n",
      "/tmp/ipykernel_963/2471956829.py:5: SettingWithCopyWarning: \n",
      "A value is trying to be set on a copy of a slice from a DataFrame.\n",
      "Try using .loc[row_indexer,col_indexer] = value instead\n",
      "\n",
      "See the caveats in the documentation: https://pandas.pydata.org/pandas-docs/stable/user_guide/indexing.html#returning-a-view-versus-a-copy\n",
      "  data[\"F\"] = np.random.rand(n_rows)\n",
      "/tmp/ipykernel_963/2471956829.py:6: SettingWithCopyWarning: \n",
      "A value is trying to be set on a copy of a slice from a DataFrame.\n",
      "Try using .loc[row_indexer,col_indexer] = value instead\n",
      "\n",
      "See the caveats in the documentation: https://pandas.pydata.org/pandas-docs/stable/user_guide/indexing.html#returning-a-view-versus-a-copy\n",
      "  data[\"N\"] = np.random.rand(n_rows)\n",
      "/tmp/ipykernel_963/2471956829.py:4: SettingWithCopyWarning: \n",
      "A value is trying to be set on a copy of a slice from a DataFrame.\n",
      "Try using .loc[row_indexer,col_indexer] = value instead\n",
      "\n",
      "See the caveats in the documentation: https://pandas.pydata.org/pandas-docs/stable/user_guide/indexing.html#returning-a-view-versus-a-copy\n",
      "  data[\"A\"] = np.random.rand(n_rows)\n",
      "/tmp/ipykernel_963/2471956829.py:5: SettingWithCopyWarning: \n",
      "A value is trying to be set on a copy of a slice from a DataFrame.\n",
      "Try using .loc[row_indexer,col_indexer] = value instead\n",
      "\n",
      "See the caveats in the documentation: https://pandas.pydata.org/pandas-docs/stable/user_guide/indexing.html#returning-a-view-versus-a-copy\n",
      "  data[\"F\"] = np.random.rand(n_rows)\n",
      "/tmp/ipykernel_963/2471956829.py:6: SettingWithCopyWarning: \n",
      "A value is trying to be set on a copy of a slice from a DataFrame.\n",
      "Try using .loc[row_indexer,col_indexer] = value instead\n",
      "\n",
      "See the caveats in the documentation: https://pandas.pydata.org/pandas-docs/stable/user_guide/indexing.html#returning-a-view-versus-a-copy\n",
      "  data[\"N\"] = np.random.rand(n_rows)\n",
      "/tmp/ipykernel_963/2471956829.py:4: SettingWithCopyWarning: \n",
      "A value is trying to be set on a copy of a slice from a DataFrame.\n",
      "Try using .loc[row_indexer,col_indexer] = value instead\n",
      "\n",
      "See the caveats in the documentation: https://pandas.pydata.org/pandas-docs/stable/user_guide/indexing.html#returning-a-view-versus-a-copy\n",
      "  data[\"A\"] = np.random.rand(n_rows)\n",
      "/tmp/ipykernel_963/2471956829.py:5: SettingWithCopyWarning: \n",
      "A value is trying to be set on a copy of a slice from a DataFrame.\n",
      "Try using .loc[row_indexer,col_indexer] = value instead\n",
      "\n",
      "See the caveats in the documentation: https://pandas.pydata.org/pandas-docs/stable/user_guide/indexing.html#returning-a-view-versus-a-copy\n",
      "  data[\"F\"] = np.random.rand(n_rows)\n",
      "/tmp/ipykernel_963/2471956829.py:6: SettingWithCopyWarning: \n",
      "A value is trying to be set on a copy of a slice from a DataFrame.\n",
      "Try using .loc[row_indexer,col_indexer] = value instead\n",
      "\n",
      "See the caveats in the documentation: https://pandas.pydata.org/pandas-docs/stable/user_guide/indexing.html#returning-a-view-versus-a-copy\n",
      "  data[\"N\"] = np.random.rand(n_rows)\n"
     ]
    }
   ],
   "source": [
    "data_1 = make_dataset(reclustered_monthly_data)\n",
    "data_2 = make_dataset(reclustered_monthly_data)\n",
    "data_3 = make_dataset(reclustered_monthly_data)"
   ]
  },
  {
   "cell_type": "code",
   "execution_count": 7,
   "metadata": {},
   "outputs": [],
   "source": [
    "data1 = data_1.rename(columns={\"stance\": \"stance_1\"})\n",
    "data2 = data_2.rename(columns={\"stance\": \"stance_2\"})\n",
    "data3 = data_3.rename(columns={\"stance\": \"stance_3\"})"
   ]
  },
  {
   "cell_type": "code",
   "execution_count": 8,
   "metadata": {},
   "outputs": [],
   "source": [
    "merged_df = pd.merge(pd.merge(data1, data2, on='user'), data3, on='user')"
   ]
  },
  {
   "cell_type": "code",
   "execution_count": 9,
   "metadata": {},
   "outputs": [
    {
     "data": {
      "text/html": [
       "<div>\n",
       "<style scoped>\n",
       "    .dataframe tbody tr th:only-of-type {\n",
       "        vertical-align: middle;\n",
       "    }\n",
       "\n",
       "    .dataframe tbody tr th {\n",
       "        vertical-align: top;\n",
       "    }\n",
       "\n",
       "    .dataframe thead th {\n",
       "        text-align: right;\n",
       "    }\n",
       "</style>\n",
       "<table border=\"1\" class=\"dataframe\">\n",
       "  <thead>\n",
       "    <tr style=\"text-align: right;\">\n",
       "      <th></th>\n",
       "      <th>user</th>\n",
       "      <th>stance_1</th>\n",
       "      <th>stance_2</th>\n",
       "      <th>stance_3</th>\n",
       "    </tr>\n",
       "  </thead>\n",
       "  <tbody>\n",
       "    <tr>\n",
       "      <th>0</th>\n",
       "      <td>AlbionPrince</td>\n",
       "      <td>0.262788</td>\n",
       "      <td>-0.858518</td>\n",
       "      <td>-0.457995</td>\n",
       "    </tr>\n",
       "    <tr>\n",
       "      <th>1</th>\n",
       "      <td>BenFoldsFourLoko</td>\n",
       "      <td>-0.299325</td>\n",
       "      <td>0.876291</td>\n",
       "      <td>-0.703058</td>\n",
       "    </tr>\n",
       "    <tr>\n",
       "      <th>2</th>\n",
       "      <td>Betrashndie</td>\n",
       "      <td>-0.643802</td>\n",
       "      <td>0.450210</td>\n",
       "      <td>-0.236562</td>\n",
       "    </tr>\n",
       "    <tr>\n",
       "      <th>3</th>\n",
       "      <td>BloodWiz</td>\n",
       "      <td>0.655287</td>\n",
       "      <td>-0.718841</td>\n",
       "      <td>-0.816623</td>\n",
       "    </tr>\n",
       "    <tr>\n",
       "      <th>4</th>\n",
       "      <td>Call_Me_Hurr1cane</td>\n",
       "      <td>-0.852156</td>\n",
       "      <td>0.643492</td>\n",
       "      <td>-0.875455</td>\n",
       "    </tr>\n",
       "    <tr>\n",
       "      <th>...</th>\n",
       "      <td>...</td>\n",
       "      <td>...</td>\n",
       "      <td>...</td>\n",
       "      <td>...</td>\n",
       "    </tr>\n",
       "    <tr>\n",
       "      <th>91</th>\n",
       "      <td>thebigslapper</td>\n",
       "      <td>-0.983220</td>\n",
       "      <td>-0.886311</td>\n",
       "      <td>0.256628</td>\n",
       "    </tr>\n",
       "    <tr>\n",
       "      <th>92</th>\n",
       "      <td>throwrowrowawayyy</td>\n",
       "      <td>-0.992074</td>\n",
       "      <td>0.343692</td>\n",
       "      <td>0.466809</td>\n",
       "    </tr>\n",
       "    <tr>\n",
       "      <th>93</th>\n",
       "      <td>trogon</td>\n",
       "      <td>-0.855351</td>\n",
       "      <td>0.512198</td>\n",
       "      <td>0.834005</td>\n",
       "    </tr>\n",
       "    <tr>\n",
       "      <th>94</th>\n",
       "      <td>weeteacups</td>\n",
       "      <td>-0.322617</td>\n",
       "      <td>-0.767450</td>\n",
       "      <td>-0.817584</td>\n",
       "    </tr>\n",
       "    <tr>\n",
       "      <th>95</th>\n",
       "      <td>wizard680</td>\n",
       "      <td>-0.878261</td>\n",
       "      <td>-0.075776</td>\n",
       "      <td>-0.405568</td>\n",
       "    </tr>\n",
       "  </tbody>\n",
       "</table>\n",
       "<p>96 rows × 4 columns</p>\n",
       "</div>"
      ],
      "text/plain": [
       "                 user  stance_1  stance_2  stance_3\n",
       "0        AlbionPrince  0.262788 -0.858518 -0.457995\n",
       "1    BenFoldsFourLoko -0.299325  0.876291 -0.703058\n",
       "2         Betrashndie -0.643802  0.450210 -0.236562\n",
       "3            BloodWiz  0.655287 -0.718841 -0.816623\n",
       "4   Call_Me_Hurr1cane -0.852156  0.643492 -0.875455\n",
       "..                ...       ...       ...       ...\n",
       "91      thebigslapper -0.983220 -0.886311  0.256628\n",
       "92  throwrowrowawayyy -0.992074  0.343692  0.466809\n",
       "93             trogon -0.855351  0.512198  0.834005\n",
       "94         weeteacups -0.322617 -0.767450 -0.817584\n",
       "95          wizard680 -0.878261 -0.075776 -0.405568\n",
       "\n",
       "[96 rows x 4 columns]"
      ]
     },
     "execution_count": 9,
     "metadata": {},
     "output_type": "execute_result"
    }
   ],
   "source": [
    "merged_df = merged_df[[\"user\", \"stance_1\", \"stance_2\", \"stance_3\"]]\n",
    "merged_df"
   ]
  },
  {
   "cell_type": "markdown",
   "metadata": {},
   "source": [
    "#### Dimensionality reduction - UMAP "
   ]
  },
  {
   "cell_type": "code",
   "execution_count": null,
   "metadata": {},
   "outputs": [],
   "source": [
    "import umap\n",
    "from sklearn.preprocessing import StandardScaler\n",
    "import matplotlib.pyplot as plt"
   ]
  },
  {
   "cell_type": "code",
   "execution_count": 51,
   "metadata": {},
   "outputs": [],
   "source": [
    "merged_df_umap = merged_df.copy()"
   ]
  },
  {
   "cell_type": "code",
   "execution_count": null,
   "metadata": {},
   "outputs": [
    {
     "name": "stderr",
     "output_type": "stream",
     "text": [
      "/home/jnye/miniconda3/envs/bach_env/lib/python3.10/site-packages/sklearn/utils/deprecation.py:151: FutureWarning: 'force_all_finite' was renamed to 'ensure_all_finite' in 1.6 and will be removed in 1.8.\n",
      "  warnings.warn(\n",
      "/home/jnye/miniconda3/envs/bach_env/lib/python3.10/site-packages/umap/umap_.py:1952: UserWarning: n_jobs value 1 overridden to 1 by setting random_state. Use no seed for parallelism.\n",
      "  warn(\n"
     ]
    },
    {
     "data": {
      "text/html": [
       "<div>\n",
       "<style scoped>\n",
       "    .dataframe tbody tr th:only-of-type {\n",
       "        vertical-align: middle;\n",
       "    }\n",
       "\n",
       "    .dataframe tbody tr th {\n",
       "        vertical-align: top;\n",
       "    }\n",
       "\n",
       "    .dataframe thead th {\n",
       "        text-align: right;\n",
       "    }\n",
       "</style>\n",
       "<table border=\"1\" class=\"dataframe\">\n",
       "  <thead>\n",
       "    <tr style=\"text-align: right;\">\n",
       "      <th></th>\n",
       "      <th>user</th>\n",
       "      <th>stance_1</th>\n",
       "      <th>stance_2</th>\n",
       "      <th>stance_3</th>\n",
       "      <th>umap_component</th>\n",
       "    </tr>\n",
       "  </thead>\n",
       "  <tbody>\n",
       "    <tr>\n",
       "      <th>0</th>\n",
       "      <td>AlbionPrince</td>\n",
       "      <td>0.374997</td>\n",
       "      <td>-1.287706</td>\n",
       "      <td>-0.726856</td>\n",
       "      <td>13.080755</td>\n",
       "    </tr>\n",
       "    <tr>\n",
       "      <th>1</th>\n",
       "      <td>BenFoldsFourLoko</td>\n",
       "      <td>-0.421439</td>\n",
       "      <td>1.278376</td>\n",
       "      <td>-1.096213</td>\n",
       "      <td>7.919227</td>\n",
       "    </tr>\n",
       "    <tr>\n",
       "      <th>2</th>\n",
       "      <td>Betrashndie</td>\n",
       "      <td>-0.909514</td>\n",
       "      <td>0.648128</td>\n",
       "      <td>-0.393114</td>\n",
       "      <td>5.901335</td>\n",
       "    </tr>\n",
       "    <tr>\n",
       "      <th>3</th>\n",
       "      <td>BloodWiz</td>\n",
       "      <td>0.931112</td>\n",
       "      <td>-1.081101</td>\n",
       "      <td>-1.267376</td>\n",
       "      <td>13.414395</td>\n",
       "    </tr>\n",
       "    <tr>\n",
       "      <th>4</th>\n",
       "      <td>Call_Me_Hurr1cane</td>\n",
       "      <td>-1.204722</td>\n",
       "      <td>0.934025</td>\n",
       "      <td>-1.356047</td>\n",
       "      <td>7.360206</td>\n",
       "    </tr>\n",
       "    <tr>\n",
       "      <th>...</th>\n",
       "      <td>...</td>\n",
       "      <td>...</td>\n",
       "      <td>...</td>\n",
       "      <td>...</td>\n",
       "      <td>...</td>\n",
       "    </tr>\n",
       "    <tr>\n",
       "      <th>91</th>\n",
       "      <td>thebigslapper</td>\n",
       "      <td>-1.390422</td>\n",
       "      <td>-1.328817</td>\n",
       "      <td>0.350217</td>\n",
       "      <td>4.456283</td>\n",
       "    </tr>\n",
       "    <tr>\n",
       "      <th>92</th>\n",
       "      <td>throwrowrowawayyy</td>\n",
       "      <td>-1.402966</td>\n",
       "      <td>0.490570</td>\n",
       "      <td>0.667000</td>\n",
       "      <td>-4.239312</td>\n",
       "    </tr>\n",
       "    <tr>\n",
       "      <th>93</th>\n",
       "      <td>trogon</td>\n",
       "      <td>-1.209249</td>\n",
       "      <td>0.739818</td>\n",
       "      <td>1.220435</td>\n",
       "      <td>-4.958436</td>\n",
       "    </tr>\n",
       "    <tr>\n",
       "      <th>94</th>\n",
       "      <td>weeteacups</td>\n",
       "      <td>-0.454440</td>\n",
       "      <td>-1.153001</td>\n",
       "      <td>-1.268825</td>\n",
       "      <td>12.095720</td>\n",
       "    </tr>\n",
       "    <tr>\n",
       "      <th>95</th>\n",
       "      <td>wizard680</td>\n",
       "      <td>-1.241710</td>\n",
       "      <td>-0.129896</td>\n",
       "      <td>-0.647838</td>\n",
       "      <td>5.306612</td>\n",
       "    </tr>\n",
       "  </tbody>\n",
       "</table>\n",
       "<p>96 rows × 5 columns</p>\n",
       "</div>"
      ],
      "text/plain": [
       "                 user  stance_1  stance_2  stance_3  umap_component\n",
       "0        AlbionPrince  0.374997 -1.287706 -0.726856       13.080755\n",
       "1    BenFoldsFourLoko -0.421439  1.278376 -1.096213        7.919227\n",
       "2         Betrashndie -0.909514  0.648128 -0.393114        5.901335\n",
       "3            BloodWiz  0.931112 -1.081101 -1.267376       13.414395\n",
       "4   Call_Me_Hurr1cane -1.204722  0.934025 -1.356047        7.360206\n",
       "..                ...       ...       ...       ...             ...\n",
       "91      thebigslapper -1.390422 -1.328817  0.350217        4.456283\n",
       "92  throwrowrowawayyy -1.402966  0.490570  0.667000       -4.239312\n",
       "93             trogon -1.209249  0.739818  1.220435       -4.958436\n",
       "94         weeteacups -0.454440 -1.153001 -1.268825       12.095720\n",
       "95          wizard680 -1.241710 -0.129896 -0.647838        5.306612\n",
       "\n",
       "[96 rows x 5 columns]"
      ]
     },
     "execution_count": 52,
     "metadata": {},
     "output_type": "execute_result"
    }
   ],
   "source": [
    "column_list = ['stance_1', 'stance_2', 'stance_3']\n",
    "apply_umap(merged_df_umap, column_list)"
   ]
  },
  {
   "cell_type": "code",
   "execution_count": 39,
   "metadata": {},
   "outputs": [],
   "source": [
    "reducer = umap.UMAP(random_state=42) #object of class UMAP\n",
    "scaler = StandardScaler()"
   ]
  },
  {
   "cell_type": "code",
   "execution_count": 40,
   "metadata": {},
   "outputs": [
    {
     "data": {
      "text/html": [
       "<div>\n",
       "<style scoped>\n",
       "    .dataframe tbody tr th:only-of-type {\n",
       "        vertical-align: middle;\n",
       "    }\n",
       "\n",
       "    .dataframe tbody tr th {\n",
       "        vertical-align: top;\n",
       "    }\n",
       "\n",
       "    .dataframe thead th {\n",
       "        text-align: right;\n",
       "    }\n",
       "</style>\n",
       "<table border=\"1\" class=\"dataframe\">\n",
       "  <thead>\n",
       "    <tr style=\"text-align: right;\">\n",
       "      <th></th>\n",
       "      <th>user</th>\n",
       "      <th>stance_1</th>\n",
       "      <th>stance_2</th>\n",
       "      <th>stance_3</th>\n",
       "    </tr>\n",
       "  </thead>\n",
       "  <tbody>\n",
       "    <tr>\n",
       "      <th>0</th>\n",
       "      <td>AlbionPrince</td>\n",
       "      <td>0.374997</td>\n",
       "      <td>-1.287706</td>\n",
       "      <td>-0.726856</td>\n",
       "    </tr>\n",
       "    <tr>\n",
       "      <th>1</th>\n",
       "      <td>BenFoldsFourLoko</td>\n",
       "      <td>-0.421439</td>\n",
       "      <td>1.278376</td>\n",
       "      <td>-1.096213</td>\n",
       "    </tr>\n",
       "    <tr>\n",
       "      <th>2</th>\n",
       "      <td>Betrashndie</td>\n",
       "      <td>-0.909514</td>\n",
       "      <td>0.648128</td>\n",
       "      <td>-0.393114</td>\n",
       "    </tr>\n",
       "    <tr>\n",
       "      <th>3</th>\n",
       "      <td>BloodWiz</td>\n",
       "      <td>0.931112</td>\n",
       "      <td>-1.081101</td>\n",
       "      <td>-1.267376</td>\n",
       "    </tr>\n",
       "    <tr>\n",
       "      <th>4</th>\n",
       "      <td>Call_Me_Hurr1cane</td>\n",
       "      <td>-1.204722</td>\n",
       "      <td>0.934025</td>\n",
       "      <td>-1.356047</td>\n",
       "    </tr>\n",
       "  </tbody>\n",
       "</table>\n",
       "</div>"
      ],
      "text/plain": [
       "                user  stance_1  stance_2  stance_3\n",
       "0       AlbionPrince  0.374997 -1.287706 -0.726856\n",
       "1   BenFoldsFourLoko -0.421439  1.278376 -1.096213\n",
       "2        Betrashndie -0.909514  0.648128 -0.393114\n",
       "3           BloodWiz  0.931112 -1.081101 -1.267376\n",
       "4  Call_Me_Hurr1cane -1.204722  0.934025 -1.356047"
      ]
     },
     "execution_count": 40,
     "metadata": {},
     "output_type": "execute_result"
    }
   ],
   "source": [
    "# Fit and transform the numerical columns\n",
    "merged_df_umap[['stance_1', 'stance_2', 'stance_3']] = scaler.fit_transform(merged_df_umap[['stance_1', 'stance_2', 'stance_3']])\n",
    "merged_df_umap.head()"
   ]
  },
  {
   "cell_type": "code",
   "execution_count": 64,
   "metadata": {},
   "outputs": [
    {
     "name": "stderr",
     "output_type": "stream",
     "text": [
      "/home/dara/miniconda3/envs/bach_env/lib/python3.10/site-packages/sklearn/utils/deprecation.py:151: FutureWarning: 'force_all_finite' was renamed to 'ensure_all_finite' in 1.6 and will be removed in 1.8.\n",
      "  warnings.warn(\n"
     ]
    },
    {
     "name": "stdout",
     "output_type": "stream",
     "text": [
      "Features' shape: (96, 2)\n",
      "                user  Component 1  Component 2\n",
      "0       AlbionPrince     3.568209    -4.217590\n",
      "1   BenFoldsFourLoko    -2.893073     7.371824\n",
      "2        Betrashndie     2.321366     4.462049\n",
      "3           BloodWiz     4.802084     2.168251\n",
      "4  Call_Me_Hurr1cane    -0.092606     6.237177\n"
     ]
    },
    {
     "data": {
      "image/png": "[encoded data removed]",
      "text/plain": [
       "<Figure size 640x480 with 1 Axes>"
      ]
     },
     "metadata": {},
     "output_type": "display_data"
    }
   ],
   "source": [
    "#By default UMAP always reduces to 2D embeddings\n",
    "embedding_2D = reducer.fit_transform(merged_df_umap[['stance_1', 'stance_2', 'stance_3']])\n",
    "print(f\"Features' shape: {embedding_2D.shape}\")\n",
    "df_embedding_2D = pd.DataFrame(embedding_2D, columns=[\"Component 1\", \"Component 2\"])\n",
    "#adding back username column\n",
    "user_embedding_2D = pd.concat([merged_df_umap[\"user\"], df_embedding_2D], axis=1)\n",
    "print(user_embedding_2D.head())\n",
    "\n",
    "#plotting the 2 components\n",
    "plt.scatter(df_embedding_2D[\"Component 1\"], df_embedding_2D[\"Component 2\"], color='blue', marker='o')\n",
    "\n",
    "# Add labels and title\n",
    "plt.xlabel('Component 1')\n",
    "plt.ylabel('Component 2')\n",
    "plt.title('Scatter Plot of 2D embedding')\n",
    "\n",
    "# Show the plot\n",
    "plt.show()"
   ]
  },
  {
   "cell_type": "code",
   "execution_count": 41,
   "metadata": {},
   "outputs": [
    {
     "name": "stdout",
     "output_type": "stream",
     "text": [
      "Features' shape: (96, 1)\n"
     ]
    },
    {
     "name": "stderr",
     "output_type": "stream",
     "text": [
      "/home/jnye/miniconda3/envs/bach_env/lib/python3.10/site-packages/sklearn/utils/deprecation.py:151: FutureWarning: 'force_all_finite' was renamed to 'ensure_all_finite' in 1.6 and will be removed in 1.8.\n",
      "  warnings.warn(\n",
      "/home/jnye/miniconda3/envs/bach_env/lib/python3.10/site-packages/umap/umap_.py:1952: UserWarning: n_jobs value 1 overridden to 1 by setting random_state. Use no seed for parallelism.\n",
      "  warn(\n",
      "/home/jnye/miniconda3/envs/bach_env/lib/python3.10/site-packages/sklearn/utils/deprecation.py:151: FutureWarning: 'force_all_finite' was renamed to 'ensure_all_finite' in 1.6 and will be removed in 1.8.\n",
      "  warnings.warn(\n"
     ]
    }
   ],
   "source": [
    "#Same thing as above, but to 1D feature\n",
    "reducer_1D = umap.UMAP(n_components=1, random_state=42)\n",
    "embedding_1D = reducer_1D.fit_transform(merged_df_umap[['stance_1', 'stance_2', 'stance_3']])\n",
    "print(f\"Features' shape: {embedding_1D.shape}\")\n",
    "pd.DataFrame(embedding_1D).head()\n",
    "#adding back username column\n",
    "# user_embedding = pd.concat([merged_df_umap[\"user\"], embedding_2D], axis=1)\n",
    "merged_df_umap[\"umap_component\"] = reducer_1D.fit_transform(merged_df_umap[['stance_1', 'stance_2', 'stance_3']])"
   ]
  },
  {
   "cell_type": "code",
   "execution_count": 42,
   "metadata": {},
   "outputs": [
    {
     "data": {
      "text/html": [
       "<div>\n",
       "<style scoped>\n",
       "    .dataframe tbody tr th:only-of-type {\n",
       "        vertical-align: middle;\n",
       "    }\n",
       "\n",
       "    .dataframe tbody tr th {\n",
       "        vertical-align: top;\n",
       "    }\n",
       "\n",
       "    .dataframe thead th {\n",
       "        text-align: right;\n",
       "    }\n",
       "</style>\n",
       "<table border=\"1\" class=\"dataframe\">\n",
       "  <thead>\n",
       "    <tr style=\"text-align: right;\">\n",
       "      <th></th>\n",
       "      <th>user</th>\n",
       "      <th>stance_1</th>\n",
       "      <th>stance_2</th>\n",
       "      <th>stance_3</th>\n",
       "      <th>umap_component</th>\n",
       "    </tr>\n",
       "  </thead>\n",
       "  <tbody>\n",
       "    <tr>\n",
       "      <th>0</th>\n",
       "      <td>AlbionPrince</td>\n",
       "      <td>0.374997</td>\n",
       "      <td>-1.287706</td>\n",
       "      <td>-0.726856</td>\n",
       "      <td>13.080755</td>\n",
       "    </tr>\n",
       "    <tr>\n",
       "      <th>1</th>\n",
       "      <td>BenFoldsFourLoko</td>\n",
       "      <td>-0.421439</td>\n",
       "      <td>1.278376</td>\n",
       "      <td>-1.096213</td>\n",
       "      <td>7.919227</td>\n",
       "    </tr>\n",
       "    <tr>\n",
       "      <th>2</th>\n",
       "      <td>Betrashndie</td>\n",
       "      <td>-0.909514</td>\n",
       "      <td>0.648128</td>\n",
       "      <td>-0.393114</td>\n",
       "      <td>5.901335</td>\n",
       "    </tr>\n",
       "    <tr>\n",
       "      <th>3</th>\n",
       "      <td>BloodWiz</td>\n",
       "      <td>0.931112</td>\n",
       "      <td>-1.081101</td>\n",
       "      <td>-1.267376</td>\n",
       "      <td>13.414395</td>\n",
       "    </tr>\n",
       "    <tr>\n",
       "      <th>4</th>\n",
       "      <td>Call_Me_Hurr1cane</td>\n",
       "      <td>-1.204722</td>\n",
       "      <td>0.934025</td>\n",
       "      <td>-1.356047</td>\n",
       "      <td>7.360206</td>\n",
       "    </tr>\n",
       "    <tr>\n",
       "      <th>...</th>\n",
       "      <td>...</td>\n",
       "      <td>...</td>\n",
       "      <td>...</td>\n",
       "      <td>...</td>\n",
       "      <td>...</td>\n",
       "    </tr>\n",
       "    <tr>\n",
       "      <th>91</th>\n",
       "      <td>thebigslapper</td>\n",
       "      <td>-1.390422</td>\n",
       "      <td>-1.328817</td>\n",
       "      <td>0.350217</td>\n",
       "      <td>4.456283</td>\n",
       "    </tr>\n",
       "    <tr>\n",
       "      <th>92</th>\n",
       "      <td>throwrowrowawayyy</td>\n",
       "      <td>-1.402966</td>\n",
       "      <td>0.490570</td>\n",
       "      <td>0.667000</td>\n",
       "      <td>-4.239312</td>\n",
       "    </tr>\n",
       "    <tr>\n",
       "      <th>93</th>\n",
       "      <td>trogon</td>\n",
       "      <td>-1.209249</td>\n",
       "      <td>0.739818</td>\n",
       "      <td>1.220435</td>\n",
       "      <td>-4.958436</td>\n",
       "    </tr>\n",
       "    <tr>\n",
       "      <th>94</th>\n",
       "      <td>weeteacups</td>\n",
       "      <td>-0.454440</td>\n",
       "      <td>-1.153001</td>\n",
       "      <td>-1.268825</td>\n",
       "      <td>12.095720</td>\n",
       "    </tr>\n",
       "    <tr>\n",
       "      <th>95</th>\n",
       "      <td>wizard680</td>\n",
       "      <td>-1.241710</td>\n",
       "      <td>-0.129896</td>\n",
       "      <td>-0.647838</td>\n",
       "      <td>5.306612</td>\n",
       "    </tr>\n",
       "  </tbody>\n",
       "</table>\n",
       "<p>96 rows × 5 columns</p>\n",
       "</div>"
      ],
      "text/plain": [
       "                 user  stance_1  stance_2  stance_3  umap_component\n",
       "0        AlbionPrince  0.374997 -1.287706 -0.726856       13.080755\n",
       "1    BenFoldsFourLoko -0.421439  1.278376 -1.096213        7.919227\n",
       "2         Betrashndie -0.909514  0.648128 -0.393114        5.901335\n",
       "3            BloodWiz  0.931112 -1.081101 -1.267376       13.414395\n",
       "4   Call_Me_Hurr1cane -1.204722  0.934025 -1.356047        7.360206\n",
       "..                ...       ...       ...       ...             ...\n",
       "91      thebigslapper -1.390422 -1.328817  0.350217        4.456283\n",
       "92  throwrowrowawayyy -1.402966  0.490570  0.667000       -4.239312\n",
       "93             trogon -1.209249  0.739818  1.220435       -4.958436\n",
       "94         weeteacups -0.454440 -1.153001 -1.268825       12.095720\n",
       "95          wizard680 -1.241710 -0.129896 -0.647838        5.306612\n",
       "\n",
       "[96 rows x 5 columns]"
      ]
     },
     "execution_count": 42,
     "metadata": {},
     "output_type": "execute_result"
    }
   ],
   "source": [
    "merged_df_umap"
   ]
  },
  {
   "cell_type": "markdown",
   "metadata": {},
   "source": [
    "#### Dimensionality reduction - PCA"
   ]
  },
  {
   "cell_type": "code",
   "execution_count": 10,
   "metadata": {},
   "outputs": [],
   "source": [
    "merged_df_pca = merged_df.copy()"
   ]
  },
  {
   "cell_type": "code",
   "execution_count": 11,
   "metadata": {},
   "outputs": [],
   "source": [
    "from sklearn.decomposition import PCA\n",
    "import sklearn.preprocessing as pre"
   ]
  },
  {
   "cell_type": "code",
   "execution_count": 12,
   "metadata": {},
   "outputs": [],
   "source": [
    "# scaling the images\n",
    "scaler = pre.StandardScaler()\n",
    "merged_df_pca[[\"stance_1\", \"stance_2\", \"stance_3\"]] = scaler.fit_transform(merged_df_pca[[\"stance_1\", \"stance_2\", \"stance_3\"]])"
   ]
  },
  {
   "cell_type": "code",
   "execution_count": 13,
   "metadata": {},
   "outputs": [],
   "source": [
    "pca = PCA(n_components=1)"
   ]
  },
  {
   "cell_type": "code",
   "execution_count": 14,
   "metadata": {},
   "outputs": [],
   "source": [
    "merged_df_pca[\"pca_component\"] = pca.fit_transform(merged_df_pca[[\"stance_1\", \"stance_2\", \"stance_3\"]])"
   ]
  },
  {
   "cell_type": "code",
   "execution_count": 33,
   "metadata": {},
   "outputs": [
    {
     "data": {
      "text/plain": [
       "array([[ 0.87996457],\n",
       "       [-1.47613941],\n",
       "       [-1.17158416],\n",
       "       [ 0.95296346],\n",
       "       [-1.86332761],\n",
       "       [ 2.10153942],\n",
       "       [ 1.12213575],\n",
       "       [-0.04474873],\n",
       "       [-0.05842907],\n",
       "       [ 0.19168757],\n",
       "       [-0.41935412],\n",
       "       [-0.17836894],\n",
       "       [ 0.08358425],\n",
       "       [ 1.08195842],\n",
       "       [-0.23059534],\n",
       "       [-0.61912863],\n",
       "       [ 1.60576365],\n",
       "       [ 0.38009871],\n",
       "       [-1.07621956],\n",
       "       [-1.78500354],\n",
       "       [ 0.12703401],\n",
       "       [ 0.03677948],\n",
       "       [ 1.52306571],\n",
       "       [ 1.74827158],\n",
       "       [ 0.96805505],\n",
       "       [ 1.50931733],\n",
       "       [ 0.26479518],\n",
       "       [-0.80902749],\n",
       "       [-1.67151603],\n",
       "       [ 0.61265317],\n",
       "       [ 1.77221747],\n",
       "       [-1.73982691],\n",
       "       [-0.61282545],\n",
       "       [ 1.69595472],\n",
       "       [-1.99887476],\n",
       "       [-0.36854055],\n",
       "       [-1.81029544],\n",
       "       [-1.75949985],\n",
       "       [-0.88553753],\n",
       "       [ 1.26843444],\n",
       "       [-0.8135338 ],\n",
       "       [ 0.61292437],\n",
       "       [-0.91933409],\n",
       "       [ 1.24917889],\n",
       "       [ 0.27974222],\n",
       "       [-0.84888036],\n",
       "       [ 0.5647811 ],\n",
       "       [-0.88524242],\n",
       "       [ 1.12227112],\n",
       "       [ 1.84928154],\n",
       "       [-0.373923  ],\n",
       "       [-0.998521  ],\n",
       "       [ 1.34413907],\n",
       "       [ 0.38674644],\n",
       "       [-1.26551116],\n",
       "       [ 0.8815485 ],\n",
       "       [-1.06570546],\n",
       "       [-1.95719307],\n",
       "       [ 0.51188661],\n",
       "       [ 1.67576997],\n",
       "       [ 1.92226738],\n",
       "       [ 1.55143345],\n",
       "       [ 0.09184909],\n",
       "       [-1.17826467],\n",
       "       [-0.05475541],\n",
       "       [ 1.62234927],\n",
       "       [ 0.61250879],\n",
       "       [-1.63965528],\n",
       "       [ 0.99617376],\n",
       "       [-1.62940939],\n",
       "       [ 0.31625201],\n",
       "       [-0.87897135],\n",
       "       [-1.53821523],\n",
       "       [-1.13770725],\n",
       "       [ 0.62511732],\n",
       "       [ 0.99724715],\n",
       "       [-0.36689681],\n",
       "       [-0.59444325],\n",
       "       [-1.73505652],\n",
       "       [-2.13011126],\n",
       "       [-1.87685393],\n",
       "       [-0.3823139 ],\n",
       "       [ 1.62430748],\n",
       "       [ 0.95900765],\n",
       "       [ 0.89897891],\n",
       "       [ 0.67245044],\n",
       "       [ 0.80809734],\n",
       "       [ 1.31196586],\n",
       "       [-0.30332331],\n",
       "       [ 1.11143629],\n",
       "       [ 1.49508581],\n",
       "       [ 0.04148103],\n",
       "       [-1.0716831 ],\n",
       "       [-0.93135858],\n",
       "       [ 0.05604445],\n",
       "       [-0.96289057]])"
      ]
     },
     "execution_count": 33,
     "metadata": {},
     "output_type": "execute_result"
    }
   ],
   "source": [
    "pca.fit_transform(merged_df_pca[[\"stance_1\", \"stance_2\", \"stance_3\"]])"
   ]
  },
  {
   "cell_type": "code",
   "execution_count": 15,
   "metadata": {},
   "outputs": [
    {
     "data": {
      "text/html": [
       "<div>\n",
       "<style scoped>\n",
       "    .dataframe tbody tr th:only-of-type {\n",
       "        vertical-align: middle;\n",
       "    }\n",
       "\n",
       "    .dataframe tbody tr th {\n",
       "        vertical-align: top;\n",
       "    }\n",
       "\n",
       "    .dataframe thead th {\n",
       "        text-align: right;\n",
       "    }\n",
       "</style>\n",
       "<table border=\"1\" class=\"dataframe\">\n",
       "  <thead>\n",
       "    <tr style=\"text-align: right;\">\n",
       "      <th></th>\n",
       "      <th>user</th>\n",
       "      <th>stance_1</th>\n",
       "      <th>stance_2</th>\n",
       "      <th>stance_3</th>\n",
       "      <th>pca_component</th>\n",
       "    </tr>\n",
       "  </thead>\n",
       "  <tbody>\n",
       "    <tr>\n",
       "      <th>0</th>\n",
       "      <td>AlbionPrince</td>\n",
       "      <td>0.374997</td>\n",
       "      <td>-1.287706</td>\n",
       "      <td>-0.726856</td>\n",
       "      <td>0.879965</td>\n",
       "    </tr>\n",
       "    <tr>\n",
       "      <th>1</th>\n",
       "      <td>BenFoldsFourLoko</td>\n",
       "      <td>-0.421439</td>\n",
       "      <td>1.278376</td>\n",
       "      <td>-1.096213</td>\n",
       "      <td>-1.476139</td>\n",
       "    </tr>\n",
       "    <tr>\n",
       "      <th>2</th>\n",
       "      <td>Betrashndie</td>\n",
       "      <td>-0.909514</td>\n",
       "      <td>0.648128</td>\n",
       "      <td>-0.393114</td>\n",
       "      <td>-1.171584</td>\n",
       "    </tr>\n",
       "    <tr>\n",
       "      <th>3</th>\n",
       "      <td>BloodWiz</td>\n",
       "      <td>0.931112</td>\n",
       "      <td>-1.081101</td>\n",
       "      <td>-1.267376</td>\n",
       "      <td>0.952963</td>\n",
       "    </tr>\n",
       "    <tr>\n",
       "      <th>4</th>\n",
       "      <td>Call_Me_Hurr1cane</td>\n",
       "      <td>-1.204722</td>\n",
       "      <td>0.934025</td>\n",
       "      <td>-1.356047</td>\n",
       "      <td>-1.863328</td>\n",
       "    </tr>\n",
       "    <tr>\n",
       "      <th>...</th>\n",
       "      <td>...</td>\n",
       "      <td>...</td>\n",
       "      <td>...</td>\n",
       "      <td>...</td>\n",
       "      <td>...</td>\n",
       "    </tr>\n",
       "    <tr>\n",
       "      <th>91</th>\n",
       "      <td>thebigslapper</td>\n",
       "      <td>-1.390422</td>\n",
       "      <td>-1.328817</td>\n",
       "      <td>0.350217</td>\n",
       "      <td>0.041481</td>\n",
       "    </tr>\n",
       "    <tr>\n",
       "      <th>92</th>\n",
       "      <td>throwrowrowawayyy</td>\n",
       "      <td>-1.402966</td>\n",
       "      <td>0.490570</td>\n",
       "      <td>0.667000</td>\n",
       "      <td>-1.071683</td>\n",
       "    </tr>\n",
       "    <tr>\n",
       "      <th>93</th>\n",
       "      <td>trogon</td>\n",
       "      <td>-1.209249</td>\n",
       "      <td>0.739818</td>\n",
       "      <td>1.220435</td>\n",
       "      <td>-0.931359</td>\n",
       "    </tr>\n",
       "    <tr>\n",
       "      <th>94</th>\n",
       "      <td>weeteacups</td>\n",
       "      <td>-0.454440</td>\n",
       "      <td>-1.153001</td>\n",
       "      <td>-1.268825</td>\n",
       "      <td>0.056044</td>\n",
       "    </tr>\n",
       "    <tr>\n",
       "      <th>95</th>\n",
       "      <td>wizard680</td>\n",
       "      <td>-1.241710</td>\n",
       "      <td>-0.129896</td>\n",
       "      <td>-0.647838</td>\n",
       "      <td>-0.962891</td>\n",
       "    </tr>\n",
       "  </tbody>\n",
       "</table>\n",
       "<p>96 rows × 5 columns</p>\n",
       "</div>"
      ],
      "text/plain": [
       "                 user  stance_1  stance_2  stance_3  pca_component\n",
       "0        AlbionPrince  0.374997 -1.287706 -0.726856       0.879965\n",
       "1    BenFoldsFourLoko -0.421439  1.278376 -1.096213      -1.476139\n",
       "2         Betrashndie -0.909514  0.648128 -0.393114      -1.171584\n",
       "3            BloodWiz  0.931112 -1.081101 -1.267376       0.952963\n",
       "4   Call_Me_Hurr1cane -1.204722  0.934025 -1.356047      -1.863328\n",
       "..                ...       ...       ...       ...            ...\n",
       "91      thebigslapper -1.390422 -1.328817  0.350217       0.041481\n",
       "92  throwrowrowawayyy -1.402966  0.490570  0.667000      -1.071683\n",
       "93             trogon -1.209249  0.739818  1.220435      -0.931359\n",
       "94         weeteacups -0.454440 -1.153001 -1.268825       0.056044\n",
       "95          wizard680 -1.241710 -0.129896 -0.647838      -0.962891\n",
       "\n",
       "[96 rows x 5 columns]"
      ]
     },
     "execution_count": 15,
     "metadata": {},
     "output_type": "execute_result"
    }
   ],
   "source": [
    "merged_df_pca"
   ]
  },
  {
   "cell_type": "code",
   "execution_count": null,
   "metadata": {},
   "outputs": [],
   "source": [
    "def apply_pca(merged_df_topics, colume_list): \n",
    "    # scaler\n",
    "    scaler = pre.StandardScaler()\n",
    "    merged_df_topics[colume_list] = scaler.fit_transform(merged_df_topics[colume_list])\n",
    "\n",
    "    # pca \n",
    "    pca = PCA(n_components=1)\n",
    "    merged_df_topics[\"pca_component\"] = pca.fit_transform(merged_df_topics[[\"stance_1\", \"stance_2\", \"stance_3\"]])\n",
    "    return merged_df_topics"
   ]
  },
  {
   "cell_type": "code",
   "execution_count": 16,
   "metadata": {},
   "outputs": [
    {
     "data": {
      "text/html": [
       "<div>\n",
       "<style scoped>\n",
       "    .dataframe tbody tr th:only-of-type {\n",
       "        vertical-align: middle;\n",
       "    }\n",
       "\n",
       "    .dataframe tbody tr th {\n",
       "        vertical-align: top;\n",
       "    }\n",
       "\n",
       "    .dataframe thead th {\n",
       "        text-align: right;\n",
       "    }\n",
       "</style>\n",
       "<table border=\"1\" class=\"dataframe\">\n",
       "  <thead>\n",
       "    <tr style=\"text-align: right;\">\n",
       "      <th></th>\n",
       "      <th>user</th>\n",
       "      <th>stance_1</th>\n",
       "      <th>stance_2</th>\n",
       "      <th>stance_3</th>\n",
       "      <th>pca_component</th>\n",
       "    </tr>\n",
       "  </thead>\n",
       "  <tbody>\n",
       "    <tr>\n",
       "      <th>0</th>\n",
       "      <td>AlbionPrince</td>\n",
       "      <td>-0.982052</td>\n",
       "      <td>-1.118597</td>\n",
       "      <td>-1.180277</td>\n",
       "      <td>-1.736947</td>\n",
       "    </tr>\n",
       "    <tr>\n",
       "      <th>1</th>\n",
       "      <td>BenFoldsFourLoko</td>\n",
       "      <td>1.120012</td>\n",
       "      <td>-0.382365</td>\n",
       "      <td>1.336297</td>\n",
       "      <td>0.809821</td>\n",
       "    </tr>\n",
       "    <tr>\n",
       "      <th>2</th>\n",
       "      <td>Betrashndie</td>\n",
       "      <td>-1.533003</td>\n",
       "      <td>1.486847</td>\n",
       "      <td>1.007579</td>\n",
       "      <td>1.555478</td>\n",
       "    </tr>\n",
       "    <tr>\n",
       "      <th>3</th>\n",
       "      <td>BloodWiz</td>\n",
       "      <td>1.138618</td>\n",
       "      <td>-0.579512</td>\n",
       "      <td>0.929322</td>\n",
       "      <td>0.388619</td>\n",
       "    </tr>\n",
       "    <tr>\n",
       "      <th>4</th>\n",
       "      <td>Call_Me_Hurr1cane</td>\n",
       "      <td>-0.910845</td>\n",
       "      <td>0.008304</td>\n",
       "      <td>0.950744</td>\n",
       "      <td>0.556389</td>\n",
       "    </tr>\n",
       "    <tr>\n",
       "      <th>...</th>\n",
       "      <td>...</td>\n",
       "      <td>...</td>\n",
       "      <td>...</td>\n",
       "      <td>...</td>\n",
       "      <td>...</td>\n",
       "    </tr>\n",
       "    <tr>\n",
       "      <th>91</th>\n",
       "      <td>thebigslapper</td>\n",
       "      <td>0.058330</td>\n",
       "      <td>-1.059824</td>\n",
       "      <td>-1.263380</td>\n",
       "      <td>-1.621922</td>\n",
       "    </tr>\n",
       "    <tr>\n",
       "      <th>92</th>\n",
       "      <td>throwrowrowawayyy</td>\n",
       "      <td>-1.514908</td>\n",
       "      <td>-1.004566</td>\n",
       "      <td>-1.214585</td>\n",
       "      <td>-1.748510</td>\n",
       "    </tr>\n",
       "    <tr>\n",
       "      <th>93</th>\n",
       "      <td>trogon</td>\n",
       "      <td>0.263054</td>\n",
       "      <td>-0.318900</td>\n",
       "      <td>-1.491373</td>\n",
       "      <td>-1.235430</td>\n",
       "    </tr>\n",
       "    <tr>\n",
       "      <th>94</th>\n",
       "      <td>weeteacups</td>\n",
       "      <td>0.921673</td>\n",
       "      <td>0.953872</td>\n",
       "      <td>-1.216253</td>\n",
       "      <td>-0.065420</td>\n",
       "    </tr>\n",
       "    <tr>\n",
       "      <th>95</th>\n",
       "      <td>wizard680</td>\n",
       "      <td>-1.511719</td>\n",
       "      <td>-1.017554</td>\n",
       "      <td>-0.762996</td>\n",
       "      <td>-1.440836</td>\n",
       "    </tr>\n",
       "  </tbody>\n",
       "</table>\n",
       "<p>96 rows × 5 columns</p>\n",
       "</div>"
      ],
      "text/plain": [
       "                 user  stance_1  stance_2  stance_3  pca_component\n",
       "0        AlbionPrince -0.982052 -1.118597 -1.180277      -1.736947\n",
       "1    BenFoldsFourLoko  1.120012 -0.382365  1.336297       0.809821\n",
       "2         Betrashndie -1.533003  1.486847  1.007579       1.555478\n",
       "3            BloodWiz  1.138618 -0.579512  0.929322       0.388619\n",
       "4   Call_Me_Hurr1cane -0.910845  0.008304  0.950744       0.556389\n",
       "..                ...       ...       ...       ...            ...\n",
       "91      thebigslapper  0.058330 -1.059824 -1.263380      -1.621922\n",
       "92  throwrowrowawayyy -1.514908 -1.004566 -1.214585      -1.748510\n",
       "93             trogon  0.263054 -0.318900 -1.491373      -1.235430\n",
       "94         weeteacups  0.921673  0.953872 -1.216253      -0.065420\n",
       "95          wizard680 -1.511719 -1.017554 -0.762996      -1.440836\n",
       "\n",
       "[96 rows x 5 columns]"
      ]
     },
     "execution_count": 16,
     "metadata": {},
     "output_type": "execute_result"
    }
   ],
   "source": [
    "apply_pca(merged_df_pca, [\"stance_1\", \"stance_2\", \"stance_3\"])"
   ]
  },
  {
   "cell_type": "code",
   "execution_count": 16,
   "metadata": {},
   "outputs": [
    {
     "data": {
      "text/plain": [
       "array([1.36669598])"
      ]
     },
     "execution_count": 16,
     "metadata": {},
     "output_type": "execute_result"
    }
   ],
   "source": [
    "pca.explained_variance_"
   ]
  },
  {
   "cell_type": "code",
   "execution_count": 17,
   "metadata": {},
   "outputs": [
    {
     "data": {
      "text/plain": [
       "array([0.45081986])"
      ]
     },
     "execution_count": 17,
     "metadata": {},
     "output_type": "execute_result"
    }
   ],
   "source": [
    "pca.explained_variance_ratio_"
   ]
  },
  {
   "cell_type": "markdown",
   "metadata": {},
   "source": [
    "#### Plotting the graphs for the dimensionality reduction"
   ]
  },
  {
   "cell_type": "code",
   "execution_count": 44,
   "metadata": {},
   "outputs": [],
   "source": [
    "num_users = merged_df_umap.shape[0]\n",
    "y_axis = np.random.rand(num_users)"
   ]
  },
  {
   "cell_type": "code",
   "execution_count": 45,
   "metadata": {},
   "outputs": [
    {
     "data": {
      "image/png": "[encoded data removed]",
      "text/plain": [
       "<Figure size 640x480 with 2 Axes>"
      ]
     },
     "metadata": {},
     "output_type": "display_data"
    }
   ],
   "source": [
    "scatter = plt.scatter(merged_df_umap[\"umap_component\"], y_axis, c=merged_df_umap['stance_1'], cmap='coolwarm')\n",
    "cbar = plt.colorbar(scatter)\n",
    "cbar.set_label('Abortion stance')\n",
    "plt.xlabel('Pricipal component')\n",
    "#plt.ylabel('Weight (kg)')\n",
    "plt.title('Scatter plot of the principal component')\n",
    "plt.show()"
   ]
  },
  {
   "cell_type": "markdown",
   "metadata": {},
   "source": [
    "#### Missing users"
   ]
  },
  {
   "cell_type": "code",
   "execution_count": 20,
   "metadata": {},
   "outputs": [],
   "source": [
    "user_nodeid = pd.read_csv(\"reddit_22_51/user_nodeid.csv\", sep=\"\\t\" )"
   ]
  },
  {
   "cell_type": "code",
   "execution_count": 22,
   "metadata": {},
   "outputs": [],
   "source": [
    "user_nodeid_dict = user_nodeid.set_index('index')['nodeid'].to_dict()"
   ]
  },
  {
   "cell_type": "code",
   "execution_count": 43,
   "metadata": {},
   "outputs": [],
   "source": [
    "reclustered_monthly_data['nodeid'] = reclustered_monthly_data['user'].map(user_nodeid_dict)"
   ]
  },
  {
   "cell_type": "code",
   "execution_count": null,
   "metadata": {},
   "outputs": [
    {
     "data": {
      "text/plain": [
       "221607"
      ]
     },
     "execution_count": 48,
     "metadata": {},
     "output_type": "execute_result"
    }
   ],
   "source": [
    "\n",
    "len(reclustered_monthly_data[reclustered_monthly_data['nodeid'].isna()][\"user\"].to_list())"
   ]
  },
  {
   "cell_type": "code",
   "execution_count": 49,
   "metadata": {},
   "outputs": [
    {
     "data": {
      "text/plain": [
       "2162927"
      ]
     },
     "execution_count": 49,
     "metadata": {},
     "output_type": "execute_result"
    }
   ],
   "source": [
    "len(reclustered_monthly_data)"
   ]
  },
  {
   "cell_type": "code",
   "execution_count": 50,
   "metadata": {},
   "outputs": [
    {
     "data": {
      "text/plain": [
       "1240195"
      ]
     },
     "execution_count": 50,
     "metadata": {},
     "output_type": "execute_result"
    }
   ],
   "source": [
    "len(user_nodeid)"
   ]
  },
  {
   "cell_type": "code",
   "execution_count": 51,
   "metadata": {},
   "outputs": [
    {
     "data": {
      "text/plain": [
       "-922732"
      ]
     },
     "execution_count": 51,
     "metadata": {},
     "output_type": "execute_result"
    }
   ],
   "source": [
    "1240195-2162927"
   ]
  },
  {
   "cell_type": "code",
   "execution_count": 52,
   "metadata": {},
   "outputs": [],
   "source": [
    "data = pd.read_csv(\"month_data/22_12.csv\", sep = \"\\t\", encoding = \"utf-8\", quoting = csv.QUOTE_NONE )"
   ]
  },
  {
   "cell_type": "code",
   "execution_count": null,
   "metadata": {},
   "outputs": [],
   "source": [
    "user_nodeid = pd.read_csv(\"reddit_22_51/user_nodeid.csv\", sep=\"\\t\" )\n",
    "user_nodeid_dict = user_nodeid.set_index('index')['nodeid'].to_dict()"
   ]
  },
  {
   "cell_type": "code",
   "execution_count": 53,
   "metadata": {},
   "outputs": [],
   "source": [
    "data['nodeid'] = data['user'].map(user_nodeid_dict)"
   ]
  },
  {
   "cell_type": "code",
   "execution_count": 55,
   "metadata": {},
   "outputs": [
    {
     "data": {
      "text/plain": [
       "221607"
      ]
     },
     "execution_count": 55,
     "metadata": {},
     "output_type": "execute_result"
    }
   ],
   "source": [
    "len(data[data['nodeid'].isna()][\"user\"].to_list())"
   ]
  },
  {
   "cell_type": "code",
   "execution_count": 56,
   "metadata": {},
   "outputs": [],
   "source": [
    "missing_users = data[data['nodeid'].isna()][\"user\"].to_list()"
   ]
  }
 ],
 "metadata": {
  "kernelspec": {
   "display_name": "bach_env",
   "language": "python",
   "name": "python3"
  },
  "language_info": {
   "codemirror_mode": {
    "name": "ipython",
    "version": 3
   },
   "file_extension": ".py",
   "mimetype": "text/x-python",
   "name": "python",
   "nbconvert_exporter": "python",
   "pygments_lexer": "ipython3",
   "version": "3.10.16"
  }
 },
 "nbformat": 4,
 "nbformat_minor": 2
}
