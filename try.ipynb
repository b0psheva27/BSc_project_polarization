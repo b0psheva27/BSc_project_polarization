{
 "cells": [
  {
   "cell_type": "code",
   "execution_count": 1,
   "metadata": {},
   "outputs": [],
   "source": [
    "import pandas as pd\n",
    "import networkx as nx"
   ]
  },
  {
   "cell_type": "code",
   "execution_count": null,
   "metadata": {},
   "outputs": [
    {
     "data": {
      "text/html": [
       "<div>\n",
       "<style scoped>\n",
       "    .dataframe tbody tr th:only-of-type {\n",
       "        vertical-align: middle;\n",
       "    }\n",
       "\n",
       "    .dataframe tbody tr th {\n",
       "        vertical-align: top;\n",
       "    }\n",
       "\n",
       "    .dataframe thead th {\n",
       "        text-align: right;\n",
       "    }\n",
       "</style>\n",
       "<table border=\"1\" class=\"dataframe\">\n",
       "  <thead>\n",
       "    <tr style=\"text-align: right;\">\n",
       "      <th></th>\n",
       "      <th>src</th>\n",
       "      <th>trg</th>\n",
       "      <th>nij</th>\n",
       "      <th>score</th>\n",
       "    </tr>\n",
       "  </thead>\n",
       "  <tbody>\n",
       "    <tr>\n",
       "      <th>0</th>\n",
       "      <td>807295</td>\n",
       "      <td>1137952</td>\n",
       "      <td>2</td>\n",
       "      <td>0.999402</td>\n",
       "    </tr>\n",
       "    <tr>\n",
       "      <th>1</th>\n",
       "      <td>807295</td>\n",
       "      <td>54459</td>\n",
       "      <td>1</td>\n",
       "      <td>0.999335</td>\n",
       "    </tr>\n",
       "    <tr>\n",
       "      <th>2</th>\n",
       "      <td>807295</td>\n",
       "      <td>1109558</td>\n",
       "      <td>1</td>\n",
       "      <td>0.998848</td>\n",
       "    </tr>\n",
       "    <tr>\n",
       "      <th>3</th>\n",
       "      <td>807295</td>\n",
       "      <td>798787</td>\n",
       "      <td>1</td>\n",
       "      <td>0.995841</td>\n",
       "    </tr>\n",
       "    <tr>\n",
       "      <th>4</th>\n",
       "      <td>807295</td>\n",
       "      <td>279258</td>\n",
       "      <td>1</td>\n",
       "      <td>0.999690</td>\n",
       "    </tr>\n",
       "  </tbody>\n",
       "</table>\n",
       "</div>"
      ],
      "text/plain": [
       "      src      trg  nij     score\n",
       "0  807295  1137952    2  0.999402\n",
       "1  807295    54459    1  0.999335\n",
       "2  807295  1109558    1  0.998848\n",
       "3  807295   798787    1  0.995841\n",
       "4  807295   279258    1  0.999690"
      ]
     },
     "execution_count": 3,
     "metadata": {},
     "output_type": "execute_result"
    }
   ],
   "source": [
    "df48 = pd.read_csv(\"22_12_networks/22_48_network.csv\", sep=\"\\t\")\n",
    "df49 = pd.read_csv(\"22_12_networks/22_49_network.csv\", sep=\"\\t\")\n",
    "df50 = pd.read_csv(\"22_12_networks/22_50_network.csv\", sep=\"\\t\")\n",
    "df48.head()"
   ]
  },
  {
   "cell_type": "code",
   "execution_count": 5,
   "metadata": {},
   "outputs": [],
   "source": [
    "dfs = [df48, df49, df50]\n",
    "df = pd.concat(dfs)"
   ]
  },
  {
   "cell_type": "code",
   "execution_count": 14,
   "metadata": {},
   "outputs": [
    {
     "data": {
      "text/plain": [
       "(242364, 4)"
      ]
     },
     "execution_count": 14,
     "metadata": {},
     "output_type": "execute_result"
    }
   ],
   "source": [
    "df.shape"
   ]
  },
  {
   "cell_type": "code",
   "execution_count": 11,
   "metadata": {},
   "outputs": [
    {
     "data": {
      "text/plain": [
       "True"
      ]
     },
     "execution_count": 11,
     "metadata": {},
     "output_type": "execute_result"
    }
   ],
   "source": [
    "df48.shape[0]+df49.shape[0]+df50.shape[0] == df.shape[0]"
   ]
  },
  {
   "cell_type": "code",
   "execution_count": 22,
   "metadata": {},
   "outputs": [
    {
     "data": {
      "text/plain": [
       "42319"
      ]
     },
     "execution_count": 22,
     "metadata": {},
     "output_type": "execute_result"
    }
   ],
   "source": [
    "all_idxs = pd.concat([df[\"src\"], df[\"trg\"]], axis=0)\n",
    "unique_idxs = all_idxs.unique()\n",
    "len(unique_idxs)"
   ]
  },
  {
   "cell_type": "code",
   "execution_count": 28,
   "metadata": {},
   "outputs": [],
   "source": [
    "user_node_id = pd.read_csv(\"reddit_22_51/user_nodeid.csv\", sep=\"\\t\")\n",
    "for node in unique_idxs:\n",
    "    if node not in user_node_id[\"nodeid\"].to_list():\n",
    "        print(f\"Node {node} is not in the user_nodeid.csv file (username can't be mapped)\")"
   ]
  },
  {
   "cell_type": "code",
   "execution_count": 42,
   "metadata": {},
   "outputs": [
    {
     "data": {
      "text/html": [
       "<div>\n",
       "<style scoped>\n",
       "    .dataframe tbody tr th:only-of-type {\n",
       "        vertical-align: middle;\n",
       "    }\n",
       "\n",
       "    .dataframe tbody tr th {\n",
       "        vertical-align: top;\n",
       "    }\n",
       "\n",
       "    .dataframe thead th {\n",
       "        text-align: right;\n",
       "    }\n",
       "</style>\n",
       "<table border=\"1\" class=\"dataframe\">\n",
       "  <thead>\n",
       "    <tr style=\"text-align: right;\">\n",
       "      <th></th>\n",
       "      <th>index</th>\n",
       "      <th>nodeid</th>\n",
       "    </tr>\n",
       "  </thead>\n",
       "  <tbody>\n",
       "  </tbody>\n",
       "</table>\n",
       "</div>"
      ],
      "text/plain": [
       "Empty DataFrame\n",
       "Columns: [index, nodeid]\n",
       "Index: []"
      ]
     },
     "execution_count": 42,
     "metadata": {},
     "output_type": "execute_result"
    }
   ],
   "source": [
    "user_node_id[(user_node_id[\"index\"]==\"Momolith97\") | (user_node_id[\"index\"]==\"fftsteven\")]"
   ]
  },
  {
   "cell_type": "code",
   "execution_count": 43,
   "metadata": {},
   "outputs": [
    {
     "data": {
      "text/plain": [
       "(1240195, 2)"
      ]
     },
     "execution_count": 43,
     "metadata": {},
     "output_type": "execute_result"
    }
   ],
   "source": [
    "user_node_id.shape"
   ]
  },
  {
   "cell_type": "markdown",
   "metadata": {},
   "source": [
    "# Checking number of nodes available"
   ]
  },
  {
   "cell_type": "code",
   "execution_count": 2,
   "metadata": {},
   "outputs": [],
   "source": [
    "import csv"
   ]
  },
  {
   "cell_type": "code",
   "execution_count": 4,
   "metadata": {},
   "outputs": [],
   "source": [
    "data = pd.read_csv(\"output_hpc/reclustered_monthly_data_final.csv\", sep=\"\\t\", encoding = \"utf-8\", quoting = csv.QUOTE_NONE)\n",
    "user_node_id = pd.read_csv(\"reddit_22_51/user_nodeid.csv\", sep=\"\\t\")"
   ]
  },
  {
   "cell_type": "code",
   "execution_count": 5,
   "metadata": {},
   "outputs": [
    {
     "data": {
      "text/html": [
       "<div>\n",
       "<style scoped>\n",
       "    .dataframe tbody tr th:only-of-type {\n",
       "        vertical-align: middle;\n",
       "    }\n",
       "\n",
       "    .dataframe tbody tr th {\n",
       "        vertical-align: top;\n",
       "    }\n",
       "\n",
       "    .dataframe thead th {\n",
       "        text-align: right;\n",
       "    }\n",
       "</style>\n",
       "<table border=\"1\" class=\"dataframe\">\n",
       "  <thead>\n",
       "    <tr style=\"text-align: right;\">\n",
       "      <th></th>\n",
       "      <th>id</th>\n",
       "      <th>subreddit</th>\n",
       "      <th>parent_id</th>\n",
       "      <th>post_id</th>\n",
       "      <th>date</th>\n",
       "      <th>score</th>\n",
       "      <th>user</th>\n",
       "      <th>text</th>\n",
       "      <th>topic</th>\n",
       "      <th>topic_name</th>\n",
       "    </tr>\n",
       "  </thead>\n",
       "  <tbody>\n",
       "    <tr>\n",
       "      <th>0</th>\n",
       "      <td>iyfeodo</td>\n",
       "      <td>politics</td>\n",
       "      <td>iydnjyv</td>\n",
       "      <td>z8ozez</td>\n",
       "      <td>20221201</td>\n",
       "      <td>1</td>\n",
       "      <td>Stardustchaser</td>\n",
       "      <td>I mean, we got plenty of mental institution ho...</td>\n",
       "      <td>94.0</td>\n",
       "      <td>94_budget_spending_military_pentagon</td>\n",
       "    </tr>\n",
       "    <tr>\n",
       "      <th>1</th>\n",
       "      <td>iyfeody</td>\n",
       "      <td>wayofthebern</td>\n",
       "      <td>iyddpzk</td>\n",
       "      <td>z8mnfn</td>\n",
       "      <td>20221201</td>\n",
       "      <td>2</td>\n",
       "      <td>LandmassWave</td>\n",
       "      <td>Both will pass the House. Then that darn parli...</td>\n",
       "      <td>22.0</td>\n",
       "      <td>22_bill_bills_senate_congress</td>\n",
       "    </tr>\n",
       "    <tr>\n",
       "      <th>2</th>\n",
       "      <td>iyfeohm</td>\n",
       "      <td>politicalcompassmemes</td>\n",
       "      <td>iyf9d3g</td>\n",
       "      <td>z95g29</td>\n",
       "      <td>20221201</td>\n",
       "      <td>-17</td>\n",
       "      <td>wizard680</td>\n",
       "      <td>Crusades? Cringe. Let's form another caliphate...</td>\n",
       "      <td>281.0</td>\n",
       "      <td>281_islam_muslim_muslims_islamophobic</td>\n",
       "    </tr>\n",
       "    <tr>\n",
       "      <th>3</th>\n",
       "      <td>iyfeoie</td>\n",
       "      <td>conspiracy</td>\n",
       "      <td>iyf63ur</td>\n",
       "      <td>z8tnrg</td>\n",
       "      <td>20221201</td>\n",
       "      <td>2</td>\n",
       "      <td>bearlegion</td>\n",
       "      <td>Spite.</td>\n",
       "      <td>121.0</td>\n",
       "      <td>121_accountable_victim_blame_accusation</td>\n",
       "    </tr>\n",
       "    <tr>\n",
       "      <th>4</th>\n",
       "      <td>iyfeoop</td>\n",
       "      <td>askconservatives</td>\n",
       "      <td>iyfd52z</td>\n",
       "      <td>z95ftn</td>\n",
       "      <td>20221201</td>\n",
       "      <td>8</td>\n",
       "      <td>SwollenRaccoon</td>\n",
       "      <td>\"Your question was \"\"who enforces contracts\"\"....</td>\n",
       "      <td>832.0</td>\n",
       "      <td>832_contracts_contract_haggle_signing</td>\n",
       "    </tr>\n",
       "  </tbody>\n",
       "</table>\n",
       "</div>"
      ],
      "text/plain": [
       "        id              subreddit parent_id post_id      date  score  \\\n",
       "0  iyfeodo               politics   iydnjyv  z8ozez  20221201      1   \n",
       "1  iyfeody           wayofthebern   iyddpzk  z8mnfn  20221201      2   \n",
       "2  iyfeohm  politicalcompassmemes   iyf9d3g  z95g29  20221201    -17   \n",
       "3  iyfeoie             conspiracy   iyf63ur  z8tnrg  20221201      2   \n",
       "4  iyfeoop       askconservatives   iyfd52z  z95ftn  20221201      8   \n",
       "\n",
       "             user                                               text  topic  \\\n",
       "0  Stardustchaser  I mean, we got plenty of mental institution ho...   94.0   \n",
       "1    LandmassWave  Both will pass the House. Then that darn parli...   22.0   \n",
       "2       wizard680  Crusades? Cringe. Let's form another caliphate...  281.0   \n",
       "3      bearlegion                                             Spite.  121.0   \n",
       "4  SwollenRaccoon  \"Your question was \"\"who enforces contracts\"\"....  832.0   \n",
       "\n",
       "                                topic_name  \n",
       "0     94_budget_spending_military_pentagon  \n",
       "1            22_bill_bills_senate_congress  \n",
       "2    281_islam_muslim_muslims_islamophobic  \n",
       "3  121_accountable_victim_blame_accusation  \n",
       "4    832_contracts_contract_haggle_signing  "
      ]
     },
     "execution_count": 5,
     "metadata": {},
     "output_type": "execute_result"
    }
   ],
   "source": [
    "data.head()"
   ]
  },
  {
   "cell_type": "code",
   "execution_count": 9,
   "metadata": {},
   "outputs": [
    {
     "data": {
      "text/plain": [
       "(58304, 10)"
      ]
     },
     "execution_count": 9,
     "metadata": {},
     "output_type": "execute_result"
    }
   ],
   "source": [
    "subset = data[data[\"topic\"].isin([1,3,12])]\n",
    "subset.shape"
   ]
  },
  {
   "cell_type": "code",
   "execution_count": 11,
   "metadata": {},
   "outputs": [
    {
     "data": {
      "text/html": [
       "<div>\n",
       "<style scoped>\n",
       "    .dataframe tbody tr th:only-of-type {\n",
       "        vertical-align: middle;\n",
       "    }\n",
       "\n",
       "    .dataframe tbody tr th {\n",
       "        vertical-align: top;\n",
       "    }\n",
       "\n",
       "    .dataframe thead th {\n",
       "        text-align: right;\n",
       "    }\n",
       "</style>\n",
       "<table border=\"1\" class=\"dataframe\">\n",
       "  <thead>\n",
       "    <tr style=\"text-align: right;\">\n",
       "      <th></th>\n",
       "      <th>index</th>\n",
       "      <th>nodeid</th>\n",
       "    </tr>\n",
       "  </thead>\n",
       "  <tbody>\n",
       "    <tr>\n",
       "      <th>0</th>\n",
       "      <td>beowulf</td>\n",
       "      <td>0</td>\n",
       "    </tr>\n",
       "    <tr>\n",
       "      <th>1</th>\n",
       "      <td>mutatron</td>\n",
       "      <td>1</td>\n",
       "    </tr>\n",
       "    <tr>\n",
       "      <th>2</th>\n",
       "      <td>kripkenstein</td>\n",
       "      <td>2</td>\n",
       "    </tr>\n",
       "    <tr>\n",
       "      <th>3</th>\n",
       "      <td>garyp714</td>\n",
       "      <td>3</td>\n",
       "    </tr>\n",
       "    <tr>\n",
       "      <th>4</th>\n",
       "      <td>justinpgardner</td>\n",
       "      <td>4</td>\n",
       "    </tr>\n",
       "  </tbody>\n",
       "</table>\n",
       "</div>"
      ],
      "text/plain": [
       "            index  nodeid\n",
       "0         beowulf       0\n",
       "1        mutatron       1\n",
       "2    kripkenstein       2\n",
       "3        garyp714       3\n",
       "4  justinpgardner       4"
      ]
     },
     "execution_count": 11,
     "metadata": {},
     "output_type": "execute_result"
    }
   ],
   "source": [
    "user_node_id.head()"
   ]
  },
  {
   "cell_type": "code",
   "execution_count": 13,
   "metadata": {},
   "outputs": [],
   "source": [
    "usernames = user_node_id[\"index\"].to_list()\n",
    "relevant_data = subset[subset[\"user\"].isin(usernames)] #messages on the three topics from users in the usernodeid"
   ]
  },
  {
   "cell_type": "code",
   "execution_count": 15,
   "metadata": {},
   "outputs": [
    {
     "data": {
      "text/plain": [
       "(54329, 10)"
      ]
     },
     "execution_count": 15,
     "metadata": {},
     "output_type": "execute_result"
    }
   ],
   "source": [
    "relevant_data.shape"
   ]
  }
 ],
 "metadata": {
  "kernelspec": {
   "display_name": "bach_env",
   "language": "python",
   "name": "python3"
  },
  "language_info": {
   "codemirror_mode": {
    "name": "ipython",
    "version": 3
   },
   "file_extension": ".py",
   "mimetype": "text/x-python",
   "name": "python",
   "nbconvert_exporter": "python",
   "pygments_lexer": "ipython3",
   "version": "3.10.16"
  }
 },
 "nbformat": 4,
 "nbformat_minor": 2
}
