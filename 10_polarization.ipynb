{
 "cells": [
  {
   "cell_type": "code",
   "execution_count": 31,
   "metadata": {},
   "outputs": [],
   "source": [
    "import pandas as pd\n",
    "import numpy as np\n",
    "import reduction_function as rfun\n",
    "import polarization_function as pfun\n",
    "import networkx as nx"
   ]
  },
  {
   "cell_type": "code",
   "execution_count": 32,
   "metadata": {},
   "outputs": [
    {
     "name": "stdout",
     "output_type": "stream",
     "text": [
      "Graph with 511 nodes and 2785 edges\n"
     ]
    }
   ],
   "source": [
    "net_file = pd.read_csv(\"output_network/network_filtered.csv\", sep=\"\\t\")\n",
    "G = nx.from_pandas_edgelist(net_file, \"src\", \"trg\")\n",
    "print(G)"
   ]
  },
  {
   "cell_type": "markdown",
   "metadata": {},
   "source": [
    "#### In the real scenario, we won't be reading network_users_combined.csv, we will be getting the reclustered labelled monthly messages on each topic and merging them in single df. \n",
    "\n",
    "#### After that we will have to apply averaging for the users who write more than 1 message for a single topic."
   ]
  },
  {
   "cell_type": "code",
   "execution_count": 33,
   "metadata": {},
   "outputs": [
    {
     "data": {
      "text/plain": [
       "(            index  nodeid\n",
       " 0     novagenesis     473\n",
       " 1         jscoppe    6978\n",
       " 2           sje46    8280\n",
       " 3  reconditecache    8339\n",
       " 4         Delheru   14848,\n",
       " (511, 2))"
      ]
     },
     "execution_count": 33,
     "metadata": {},
     "output_type": "execute_result"
    }
   ],
   "source": [
    "data = pd.read_csv(\"output_network/network_users_combined.csv\", sep=\"\\t\")\n",
    "data.head(), data.shape"
   ]
  },
  {
   "cell_type": "code",
   "execution_count": 34,
   "metadata": {},
   "outputs": [],
   "source": [
    "#dataset for the other 2 topics\n",
    "data2 = data.copy()\n",
    "data3 = data.copy()"
   ]
  },
  {
   "cell_type": "markdown",
   "metadata": {},
   "source": [
    "Each dataset holds the person's stance on a single topic"
   ]
  },
  {
   "cell_type": "code",
   "execution_count": 35,
   "metadata": {},
   "outputs": [],
   "source": [
    "def simulate_data(data, topic):\n",
    "    n_rows = data.shape[0]\n",
    "    data[\"A\"] = np.random.rand(n_rows)\n",
    "    data[\"F\"] = np.random.rand(n_rows)\n",
    "    data[\"N\"] = np.random.rand(n_rows)\n",
    "    data[f\"stance_{topic}\"] = data.apply(lambda x: rfun.get_stance(x), axis = 1)\n",
    "    return data"
   ]
  },
  {
   "cell_type": "code",
   "execution_count": 36,
   "metadata": {},
   "outputs": [],
   "source": [
    "data1 = simulate_data(data, \"lib\")\n",
    "data2 = simulate_data(data2, \"abortion\")\n",
    "data3 = simulate_data(data3, \"marriage\")"
   ]
  },
  {
   "cell_type": "code",
   "execution_count": 39,
   "metadata": {},
   "outputs": [
    {
     "data": {
      "text/html": [
       "<div>\n",
       "<style scoped>\n",
       "    .dataframe tbody tr th:only-of-type {\n",
       "        vertical-align: middle;\n",
       "    }\n",
       "\n",
       "    .dataframe tbody tr th {\n",
       "        vertical-align: top;\n",
       "    }\n",
       "\n",
       "    .dataframe thead th {\n",
       "        text-align: right;\n",
       "    }\n",
       "</style>\n",
       "<table border=\"1\" class=\"dataframe\">\n",
       "  <thead>\n",
       "    <tr style=\"text-align: right;\">\n",
       "      <th></th>\n",
       "      <th>index</th>\n",
       "      <th>nodeid</th>\n",
       "      <th>A</th>\n",
       "      <th>F</th>\n",
       "      <th>N</th>\n",
       "      <th>stance_marriage</th>\n",
       "    </tr>\n",
       "  </thead>\n",
       "  <tbody>\n",
       "    <tr>\n",
       "      <th>0</th>\n",
       "      <td>novagenesis</td>\n",
       "      <td>473</td>\n",
       "      <td>0.252707</td>\n",
       "      <td>0.881912</td>\n",
       "      <td>0.387267</td>\n",
       "      <td>-0.881912</td>\n",
       "    </tr>\n",
       "    <tr>\n",
       "      <th>1</th>\n",
       "      <td>jscoppe</td>\n",
       "      <td>6978</td>\n",
       "      <td>0.790447</td>\n",
       "      <td>0.675034</td>\n",
       "      <td>0.808380</td>\n",
       "      <td>0.790447</td>\n",
       "    </tr>\n",
       "    <tr>\n",
       "      <th>2</th>\n",
       "      <td>sje46</td>\n",
       "      <td>8280</td>\n",
       "      <td>0.161014</td>\n",
       "      <td>0.294906</td>\n",
       "      <td>0.401649</td>\n",
       "      <td>-0.294906</td>\n",
       "    </tr>\n",
       "    <tr>\n",
       "      <th>3</th>\n",
       "      <td>reconditecache</td>\n",
       "      <td>8339</td>\n",
       "      <td>0.343747</td>\n",
       "      <td>0.319886</td>\n",
       "      <td>0.251532</td>\n",
       "      <td>0.343747</td>\n",
       "    </tr>\n",
       "    <tr>\n",
       "      <th>4</th>\n",
       "      <td>Delheru</td>\n",
       "      <td>14848</td>\n",
       "      <td>0.658554</td>\n",
       "      <td>0.672088</td>\n",
       "      <td>0.205418</td>\n",
       "      <td>-0.672088</td>\n",
       "    </tr>\n",
       "  </tbody>\n",
       "</table>\n",
       "</div>"
      ],
      "text/plain": [
       "            index  nodeid         A         F         N  stance_marriage\n",
       "0     novagenesis     473  0.252707  0.881912  0.387267        -0.881912\n",
       "1         jscoppe    6978  0.790447  0.675034  0.808380         0.790447\n",
       "2           sje46    8280  0.161014  0.294906  0.401649        -0.294906\n",
       "3  reconditecache    8339  0.343747  0.319886  0.251532         0.343747\n",
       "4         Delheru   14848  0.658554  0.672088  0.205418        -0.672088"
      ]
     },
     "execution_count": 39,
     "metadata": {},
     "output_type": "execute_result"
    }
   ],
   "source": [
    "data3.head()"
   ]
  },
  {
   "cell_type": "markdown",
   "metadata": {},
   "source": [
    "UMAP and PCA on the simulated data"
   ]
  },
  {
   "cell_type": "code",
   "execution_count": 42,
   "metadata": {},
   "outputs": [],
   "source": [
    "# full_data = rfun.merge_datasets(data1, data2, data3) ##use this on the real data\n",
    "merged_df = pd.merge(pd.merge(data1, data2, on=['nodeid', 'index']), data3, on=['nodeid', 'index'])"
   ]
  },
  {
   "cell_type": "code",
   "execution_count": 43,
   "metadata": {},
   "outputs": [
    {
     "data": {
      "text/html": [
       "<div>\n",
       "<style scoped>\n",
       "    .dataframe tbody tr th:only-of-type {\n",
       "        vertical-align: middle;\n",
       "    }\n",
       "\n",
       "    .dataframe tbody tr th {\n",
       "        vertical-align: top;\n",
       "    }\n",
       "\n",
       "    .dataframe thead th {\n",
       "        text-align: right;\n",
       "    }\n",
       "</style>\n",
       "<table border=\"1\" class=\"dataframe\">\n",
       "  <thead>\n",
       "    <tr style=\"text-align: right;\">\n",
       "      <th></th>\n",
       "      <th>index</th>\n",
       "      <th>nodeid</th>\n",
       "      <th>A_x</th>\n",
       "      <th>F_x</th>\n",
       "      <th>N_x</th>\n",
       "      <th>stance_lib</th>\n",
       "      <th>A_y</th>\n",
       "      <th>F_y</th>\n",
       "      <th>N_y</th>\n",
       "      <th>stance_abortion</th>\n",
       "      <th>A</th>\n",
       "      <th>F</th>\n",
       "      <th>N</th>\n",
       "      <th>stance_marriage</th>\n",
       "    </tr>\n",
       "  </thead>\n",
       "  <tbody>\n",
       "    <tr>\n",
       "      <th>0</th>\n",
       "      <td>novagenesis</td>\n",
       "      <td>473</td>\n",
       "      <td>0.890809</td>\n",
       "      <td>0.747099</td>\n",
       "      <td>0.533479</td>\n",
       "      <td>0.890809</td>\n",
       "      <td>0.704796</td>\n",
       "      <td>0.557835</td>\n",
       "      <td>0.707656</td>\n",
       "      <td>0.704796</td>\n",
       "      <td>0.252707</td>\n",
       "      <td>0.881912</td>\n",
       "      <td>0.387267</td>\n",
       "      <td>-0.881912</td>\n",
       "    </tr>\n",
       "    <tr>\n",
       "      <th>1</th>\n",
       "      <td>jscoppe</td>\n",
       "      <td>6978</td>\n",
       "      <td>0.332314</td>\n",
       "      <td>0.773613</td>\n",
       "      <td>0.059779</td>\n",
       "      <td>-0.773613</td>\n",
       "      <td>0.102991</td>\n",
       "      <td>0.275417</td>\n",
       "      <td>0.935592</td>\n",
       "      <td>-0.275417</td>\n",
       "      <td>0.790447</td>\n",
       "      <td>0.675034</td>\n",
       "      <td>0.808380</td>\n",
       "      <td>0.790447</td>\n",
       "    </tr>\n",
       "    <tr>\n",
       "      <th>2</th>\n",
       "      <td>sje46</td>\n",
       "      <td>8280</td>\n",
       "      <td>0.566678</td>\n",
       "      <td>0.637696</td>\n",
       "      <td>0.026786</td>\n",
       "      <td>-0.637696</td>\n",
       "      <td>0.234849</td>\n",
       "      <td>0.308586</td>\n",
       "      <td>0.730204</td>\n",
       "      <td>-0.308586</td>\n",
       "      <td>0.161014</td>\n",
       "      <td>0.294906</td>\n",
       "      <td>0.401649</td>\n",
       "      <td>-0.294906</td>\n",
       "    </tr>\n",
       "    <tr>\n",
       "      <th>3</th>\n",
       "      <td>reconditecache</td>\n",
       "      <td>8339</td>\n",
       "      <td>0.248231</td>\n",
       "      <td>0.359356</td>\n",
       "      <td>0.043993</td>\n",
       "      <td>-0.359356</td>\n",
       "      <td>0.223438</td>\n",
       "      <td>0.559271</td>\n",
       "      <td>0.050597</td>\n",
       "      <td>-0.559271</td>\n",
       "      <td>0.343747</td>\n",
       "      <td>0.319886</td>\n",
       "      <td>0.251532</td>\n",
       "      <td>0.343747</td>\n",
       "    </tr>\n",
       "    <tr>\n",
       "      <th>4</th>\n",
       "      <td>Delheru</td>\n",
       "      <td>14848</td>\n",
       "      <td>0.971852</td>\n",
       "      <td>0.410611</td>\n",
       "      <td>0.268629</td>\n",
       "      <td>0.971852</td>\n",
       "      <td>0.399841</td>\n",
       "      <td>0.269053</td>\n",
       "      <td>0.109526</td>\n",
       "      <td>0.399841</td>\n",
       "      <td>0.658554</td>\n",
       "      <td>0.672088</td>\n",
       "      <td>0.205418</td>\n",
       "      <td>-0.672088</td>\n",
       "    </tr>\n",
       "  </tbody>\n",
       "</table>\n",
       "</div>"
      ],
      "text/plain": [
       "            index  nodeid       A_x       F_x       N_x  stance_lib       A_y  \\\n",
       "0     novagenesis     473  0.890809  0.747099  0.533479    0.890809  0.704796   \n",
       "1         jscoppe    6978  0.332314  0.773613  0.059779   -0.773613  0.102991   \n",
       "2           sje46    8280  0.566678  0.637696  0.026786   -0.637696  0.234849   \n",
       "3  reconditecache    8339  0.248231  0.359356  0.043993   -0.359356  0.223438   \n",
       "4         Delheru   14848  0.971852  0.410611  0.268629    0.971852  0.399841   \n",
       "\n",
       "        F_y       N_y  stance_abortion         A         F         N  \\\n",
       "0  0.557835  0.707656         0.704796  0.252707  0.881912  0.387267   \n",
       "1  0.275417  0.935592        -0.275417  0.790447  0.675034  0.808380   \n",
       "2  0.308586  0.730204        -0.308586  0.161014  0.294906  0.401649   \n",
       "3  0.559271  0.050597        -0.559271  0.343747  0.319886  0.251532   \n",
       "4  0.269053  0.109526         0.399841  0.658554  0.672088  0.205418   \n",
       "\n",
       "   stance_marriage  \n",
       "0        -0.881912  \n",
       "1         0.790447  \n",
       "2        -0.294906  \n",
       "3         0.343747  \n",
       "4        -0.672088  "
      ]
     },
     "execution_count": 43,
     "metadata": {},
     "output_type": "execute_result"
    }
   ],
   "source": [
    "merged_df.head()"
   ]
  },
  {
   "cell_type": "code",
   "execution_count": null,
   "metadata": {},
   "outputs": [],
   "source": []
  }
 ],
 "metadata": {
  "kernelspec": {
   "display_name": "bach_env",
   "language": "python",
   "name": "python3"
  },
  "language_info": {
   "codemirror_mode": {
    "name": "ipython",
    "version": 3
   },
   "file_extension": ".py",
   "mimetype": "text/x-python",
   "name": "python",
   "nbconvert_exporter": "python",
   "pygments_lexer": "ipython3",
   "version": "3.10.16"
  }
 },
 "nbformat": 4,
 "nbformat_minor": 2
}
