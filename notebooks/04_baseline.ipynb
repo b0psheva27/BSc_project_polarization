{
 "cells": [
  {
   "cell_type": "code",
   "execution_count": 1,
   "metadata": {},
   "outputs": [],
   "source": [
    "import pandas as pd \n",
    "dec_data = pd.read_csv(\"../month_data/22_12.csv\", sep='\\t')"
   ]
  },
  {
   "cell_type": "code",
   "execution_count": 2,
   "metadata": {},
   "outputs": [
    {
     "data": {
      "text/html": [
       "<div>\n",
       "<style scoped>\n",
       "    .dataframe tbody tr th:only-of-type {\n",
       "        vertical-align: middle;\n",
       "    }\n",
       "\n",
       "    .dataframe tbody tr th {\n",
       "        vertical-align: top;\n",
       "    }\n",
       "\n",
       "    .dataframe thead th {\n",
       "        text-align: right;\n",
       "    }\n",
       "</style>\n",
       "<table border=\"1\" class=\"dataframe\">\n",
       "  <thead>\n",
       "    <tr style=\"text-align: right;\">\n",
       "      <th></th>\n",
       "      <th>id</th>\n",
       "      <th>subreddit</th>\n",
       "      <th>parent_id</th>\n",
       "      <th>post_id</th>\n",
       "      <th>date</th>\n",
       "      <th>score</th>\n",
       "      <th>user</th>\n",
       "      <th>text</th>\n",
       "    </tr>\n",
       "  </thead>\n",
       "  <tbody>\n",
       "    <tr>\n",
       "      <th>0</th>\n",
       "      <td>iyfeodo</td>\n",
       "      <td>politics</td>\n",
       "      <td>iydnjyv</td>\n",
       "      <td>z8ozez</td>\n",
       "      <td>20221201</td>\n",
       "      <td>1</td>\n",
       "      <td>Stardustchaser</td>\n",
       "      <td>I mean, we got plenty of mental institution ho...</td>\n",
       "    </tr>\n",
       "    <tr>\n",
       "      <th>1</th>\n",
       "      <td>iyfeody</td>\n",
       "      <td>wayofthebern</td>\n",
       "      <td>iyddpzk</td>\n",
       "      <td>z8mnfn</td>\n",
       "      <td>20221201</td>\n",
       "      <td>2</td>\n",
       "      <td>LandmassWave</td>\n",
       "      <td>Both will pass the House. Then that darn parli...</td>\n",
       "    </tr>\n",
       "    <tr>\n",
       "      <th>2</th>\n",
       "      <td>iyfeohm</td>\n",
       "      <td>politicalcompassmemes</td>\n",
       "      <td>iyf9d3g</td>\n",
       "      <td>z95g29</td>\n",
       "      <td>20221201</td>\n",
       "      <td>-17</td>\n",
       "      <td>wizard680</td>\n",
       "      <td>Crusades? Cringe. Let's form another caliphate...</td>\n",
       "    </tr>\n",
       "    <tr>\n",
       "      <th>3</th>\n",
       "      <td>iyfeoie</td>\n",
       "      <td>conspiracy</td>\n",
       "      <td>iyf63ur</td>\n",
       "      <td>z8tnrg</td>\n",
       "      <td>20221201</td>\n",
       "      <td>2</td>\n",
       "      <td>bearlegion</td>\n",
       "      <td>Spite.</td>\n",
       "    </tr>\n",
       "    <tr>\n",
       "      <th>4</th>\n",
       "      <td>iyfeoop</td>\n",
       "      <td>askconservatives</td>\n",
       "      <td>iyfd52z</td>\n",
       "      <td>z95ftn</td>\n",
       "      <td>20221201</td>\n",
       "      <td>8</td>\n",
       "      <td>SwollenRaccoon</td>\n",
       "      <td>Your question was \"who enforces contracts\".  Y...</td>\n",
       "    </tr>\n",
       "  </tbody>\n",
       "</table>\n",
       "</div>"
      ],
      "text/plain": [
       "        id  ...                                               text\n",
       "0  iyfeodo  ...  I mean, we got plenty of mental institution ho...\n",
       "1  iyfeody  ...  Both will pass the House. Then that darn parli...\n",
       "2  iyfeohm  ...  Crusades? Cringe. Let's form another caliphate...\n",
       "3  iyfeoie  ...                                             Spite.\n",
       "4  iyfeoop  ...  Your question was \"who enforces contracts\".  Y...\n",
       "\n",
       "[5 rows x 8 columns]"
      ]
     },
     "execution_count": 2,
     "metadata": {},
     "output_type": "execute_result"
    }
   ],
   "source": [
    "dec_data.head()"
   ]
  },
  {
   "cell_type": "code",
   "execution_count": 3,
   "metadata": {},
   "outputs": [],
   "source": [
    "week_data = pd.read_csv(\"../annotated/re_annotated_test_data.csv\", sep=\",\")"
   ]
  },
  {
   "cell_type": "code",
   "execution_count": 4,
   "metadata": {},
   "outputs": [
    {
     "data": {
      "text/html": [
       "<div>\n",
       "<style scoped>\n",
       "    .dataframe tbody tr th:only-of-type {\n",
       "        vertical-align: middle;\n",
       "    }\n",
       "\n",
       "    .dataframe tbody tr th {\n",
       "        vertical-align: top;\n",
       "    }\n",
       "\n",
       "    .dataframe thead th {\n",
       "        text-align: right;\n",
       "    }\n",
       "</style>\n",
       "<table border=\"1\" class=\"dataframe\">\n",
       "  <thead>\n",
       "    <tr style=\"text-align: right;\">\n",
       "      <th></th>\n",
       "      <th>Unnamed: 0.1</th>\n",
       "      <th>Unnamed: 0</th>\n",
       "      <th>Column1</th>\n",
       "      <th>text</th>\n",
       "      <th>Topic</th>\n",
       "      <th>Name</th>\n",
       "      <th>annotated_stance</th>\n",
       "    </tr>\n",
       "  </thead>\n",
       "  <tbody>\n",
       "    <tr>\n",
       "      <th>0</th>\n",
       "      <td>0</td>\n",
       "      <td>110</td>\n",
       "      <td>125192</td>\n",
       "      <td>Because pro life is a ridiculous position that...</td>\n",
       "      <td>0</td>\n",
       "      <td>0_abortion_abortions_fetus_pregnancy</td>\n",
       "      <td>for</td>\n",
       "    </tr>\n",
       "    <tr>\n",
       "      <th>1</th>\n",
       "      <td>1</td>\n",
       "      <td>6</td>\n",
       "      <td>75468</td>\n",
       "      <td>You know, you're actually making some good arg...</td>\n",
       "      <td>0</td>\n",
       "      <td>0_abortion_abortions_fetus_pregnancy</td>\n",
       "      <td>neutral</td>\n",
       "    </tr>\n",
       "    <tr>\n",
       "      <th>2</th>\n",
       "      <td>2</td>\n",
       "      <td>64</td>\n",
       "      <td>152667</td>\n",
       "      <td>You’re saying born people have more rights tha...</td>\n",
       "      <td>0</td>\n",
       "      <td>0_abortion_abortions_fetus_pregnancy</td>\n",
       "      <td>against</td>\n",
       "    </tr>\n",
       "    <tr>\n",
       "      <th>3</th>\n",
       "      <td>3</td>\n",
       "      <td>55</td>\n",
       "      <td>198206</td>\n",
       "      <td>No, we aren't. An embryo is not \"a child\".  A...</td>\n",
       "      <td>0</td>\n",
       "      <td>0_abortion_abortions_fetus_pregnancy</td>\n",
       "      <td>for</td>\n",
       "    </tr>\n",
       "    <tr>\n",
       "      <th>4</th>\n",
       "      <td>4</td>\n",
       "      <td>1</td>\n",
       "      <td>87600</td>\n",
       "      <td>It is part of the mother. Individual entities ...</td>\n",
       "      <td>0</td>\n",
       "      <td>0_abortion_abortions_fetus_pregnancy</td>\n",
       "      <td>for</td>\n",
       "    </tr>\n",
       "  </tbody>\n",
       "</table>\n",
       "</div>"
      ],
      "text/plain": [
       "   Unnamed: 0.1  ...  annotated_stance\n",
       "0             0  ...               for\n",
       "1             1  ...           neutral\n",
       "2             2  ...           against\n",
       "3             3  ...               for\n",
       "4             4  ...               for\n",
       "\n",
       "[5 rows x 7 columns]"
      ]
     },
     "execution_count": 4,
     "metadata": {},
     "output_type": "execute_result"
    }
   ],
   "source": [
    "week_data.head()"
   ]
  },
  {
   "cell_type": "code",
   "execution_count": 5,
   "metadata": {},
   "outputs": [
    {
     "data": {
      "text/html": [
       "<div>\n",
       "<style scoped>\n",
       "    .dataframe tbody tr th:only-of-type {\n",
       "        vertical-align: middle;\n",
       "    }\n",
       "\n",
       "    .dataframe tbody tr th {\n",
       "        vertical-align: top;\n",
       "    }\n",
       "\n",
       "    .dataframe thead th {\n",
       "        text-align: right;\n",
       "    }\n",
       "</style>\n",
       "<table border=\"1\" class=\"dataframe\">\n",
       "  <thead>\n",
       "    <tr style=\"text-align: right;\">\n",
       "      <th></th>\n",
       "      <th>text</th>\n",
       "      <th>annotated_stance</th>\n",
       "    </tr>\n",
       "  </thead>\n",
       "  <tbody>\n",
       "    <tr>\n",
       "      <th>0</th>\n",
       "      <td>Because pro life is a ridiculous position that...</td>\n",
       "      <td>for</td>\n",
       "    </tr>\n",
       "    <tr>\n",
       "      <th>1</th>\n",
       "      <td>You know, you're actually making some good arg...</td>\n",
       "      <td>neutral</td>\n",
       "    </tr>\n",
       "    <tr>\n",
       "      <th>2</th>\n",
       "      <td>You’re saying born people have more rights tha...</td>\n",
       "      <td>against</td>\n",
       "    </tr>\n",
       "    <tr>\n",
       "      <th>3</th>\n",
       "      <td>No, we aren't. An embryo is not \"a child\".  A...</td>\n",
       "      <td>for</td>\n",
       "    </tr>\n",
       "    <tr>\n",
       "      <th>4</th>\n",
       "      <td>It is part of the mother. Individual entities ...</td>\n",
       "      <td>for</td>\n",
       "    </tr>\n",
       "    <tr>\n",
       "      <th>...</th>\n",
       "      <td>...</td>\n",
       "      <td>...</td>\n",
       "    </tr>\n",
       "    <tr>\n",
       "      <th>95</th>\n",
       "      <td>Are you saying a doctor isn't part if an abort...</td>\n",
       "      <td>neutral</td>\n",
       "    </tr>\n",
       "    <tr>\n",
       "      <th>96</th>\n",
       "      <td>Then we agree, I suppose.  If I was to think ...</td>\n",
       "      <td>neutral</td>\n",
       "    </tr>\n",
       "    <tr>\n",
       "      <th>97</th>\n",
       "      <td>Give the rights back to the states!  *Power no...</td>\n",
       "      <td>for</td>\n",
       "    </tr>\n",
       "    <tr>\n",
       "      <th>98</th>\n",
       "      <td>idk about you guys but people shouldnt harass ...</td>\n",
       "      <td>for</td>\n",
       "    </tr>\n",
       "    <tr>\n",
       "      <th>99</th>\n",
       "      <td>Abortion overall. If you want studies on the d...</td>\n",
       "      <td>neutral</td>\n",
       "    </tr>\n",
       "  </tbody>\n",
       "</table>\n",
       "<p>100 rows × 2 columns</p>\n",
       "</div>"
      ],
      "text/plain": [
       "                                                 text annotated_stance\n",
       "0   Because pro life is a ridiculous position that...              for\n",
       "1   You know, you're actually making some good arg...          neutral\n",
       "2   You’re saying born people have more rights tha...          against\n",
       "3    No, we aren't. An embryo is not \"a child\".  A...              for\n",
       "4   It is part of the mother. Individual entities ...              for\n",
       "..                                                ...              ...\n",
       "95  Are you saying a doctor isn't part if an abort...          neutral\n",
       "96   Then we agree, I suppose.  If I was to think ...          neutral\n",
       "97  Give the rights back to the states!  *Power no...              for\n",
       "98  idk about you guys but people shouldnt harass ...              for\n",
       "99  Abortion overall. If you want studies on the d...          neutral\n",
       "\n",
       "[100 rows x 2 columns]"
      ]
     },
     "execution_count": 5,
     "metadata": {},
     "output_type": "execute_result"
    }
   ],
   "source": [
    "week_data = week_data.rename(columns={\"w\": \"text\"})\n",
    "week_data = week_data[[\"text\", \"annotated_stance\"]]\n",
    "week_data"
   ]
  },
  {
   "cell_type": "code",
   "execution_count": 6,
   "metadata": {},
   "outputs": [],
   "source": [
    "week_data_full = pd.merge(dec_data, week_data, on=[\"text\"])"
   ]
  },
  {
   "cell_type": "code",
   "execution_count": 7,
   "metadata": {},
   "outputs": [
    {
     "data": {
      "text/html": [
       "<div>\n",
       "<style scoped>\n",
       "    .dataframe tbody tr th:only-of-type {\n",
       "        vertical-align: middle;\n",
       "    }\n",
       "\n",
       "    .dataframe tbody tr th {\n",
       "        vertical-align: top;\n",
       "    }\n",
       "\n",
       "    .dataframe thead th {\n",
       "        text-align: right;\n",
       "    }\n",
       "</style>\n",
       "<table border=\"1\" class=\"dataframe\">\n",
       "  <thead>\n",
       "    <tr style=\"text-align: right;\">\n",
       "      <th></th>\n",
       "      <th>id</th>\n",
       "      <th>subreddit</th>\n",
       "      <th>parent_id</th>\n",
       "      <th>post_id</th>\n",
       "      <th>date</th>\n",
       "      <th>score</th>\n",
       "      <th>user</th>\n",
       "      <th>text</th>\n",
       "      <th>annotated_stance</th>\n",
       "    </tr>\n",
       "  </thead>\n",
       "  <tbody>\n",
       "    <tr>\n",
       "      <th>0</th>\n",
       "      <td>j0shiq8</td>\n",
       "      <td>centrist</td>\n",
       "      <td>j0qwpmo</td>\n",
       "      <td>zp3lej</td>\n",
       "      <td>20221219</td>\n",
       "      <td>2</td>\n",
       "      <td>brutay</td>\n",
       "      <td>Maybe they have a passion for biochemistry an...</td>\n",
       "      <td>against</td>\n",
       "    </tr>\n",
       "    <tr>\n",
       "      <th>1</th>\n",
       "      <td>j0skje8</td>\n",
       "      <td>conspiracy</td>\n",
       "      <td>j0rfbsb</td>\n",
       "      <td>zp0y5a</td>\n",
       "      <td>20221219</td>\n",
       "      <td>4</td>\n",
       "      <td>First-Parking-5463</td>\n",
       "      <td>Are you using euphemisms for killing the unbor...</td>\n",
       "      <td>against</td>\n",
       "    </tr>\n",
       "    <tr>\n",
       "      <th>2</th>\n",
       "      <td>j0sm5tv</td>\n",
       "      <td>abortiondebate</td>\n",
       "      <td>j0slo9q</td>\n",
       "      <td>zp2c5q</td>\n",
       "      <td>20221219</td>\n",
       "      <td>6</td>\n",
       "      <td>starksoph</td>\n",
       "      <td>You can argue for personhood of a fetus as muc...</td>\n",
       "      <td>for</td>\n",
       "    </tr>\n",
       "    <tr>\n",
       "      <th>3</th>\n",
       "      <td>j0sukry</td>\n",
       "      <td>arizonapolitics</td>\n",
       "      <td>j0so7u7</td>\n",
       "      <td>zookb5</td>\n",
       "      <td>20221219</td>\n",
       "      <td>2</td>\n",
       "      <td>shatteredarm1</td>\n",
       "      <td>Just ask yourself the question, why would some...</td>\n",
       "      <td>for</td>\n",
       "    </tr>\n",
       "    <tr>\n",
       "      <th>4</th>\n",
       "      <td>j0sz9tv</td>\n",
       "      <td>neoliberal</td>\n",
       "      <td>j0syyqb</td>\n",
       "      <td>zosh3d</td>\n",
       "      <td>20221219</td>\n",
       "      <td>3</td>\n",
       "      <td>TemporalDiceCatcher</td>\n",
       "      <td>Are summer children supposed to be born or con...</td>\n",
       "      <td>neutral</td>\n",
       "    </tr>\n",
       "  </tbody>\n",
       "</table>\n",
       "</div>"
      ],
      "text/plain": [
       "        id  ... annotated_stance\n",
       "0  j0shiq8  ...          against\n",
       "1  j0skje8  ...          against\n",
       "2  j0sm5tv  ...              for\n",
       "3  j0sukry  ...              for\n",
       "4  j0sz9tv  ...          neutral\n",
       "\n",
       "[5 rows x 9 columns]"
      ]
     },
     "execution_count": 7,
     "metadata": {},
     "output_type": "execute_result"
    }
   ],
   "source": [
    "week_data_full.head()"
   ]
  },
  {
   "cell_type": "code",
   "execution_count": 8,
   "metadata": {},
   "outputs": [
    {
     "data": {
      "text/plain": [
       "20"
      ]
     },
     "execution_count": 8,
     "metadata": {},
     "output_type": "execute_result"
    }
   ],
   "source": [
    "subreddits = week_data_full['subreddit'].unique()\n",
    "len(subreddits)"
   ]
  },
  {
   "cell_type": "code",
   "execution_count": 9,
   "metadata": {},
   "outputs": [],
   "source": [
    "subreddit_stances= {}\n",
    "subreddit_stances[\"politics\"]= \"neutral\"\n",
    "subreddit_stances[\"askconservatives\"] = \"against\"\n",
    "subreddit_stances[\"conservative\"] = \"against\"\n",
    "subreddit_stances[\"prochoice\"] = 'for'\n",
    "subreddit_stances['prolife'] = 'against'\n",
    "subreddit_stances['askaliberal'] = 'for'\n",
    "subreddit_stances['centrist'] = 'neutral' #truly neutral, moderates\n",
    "subreddit_stances['conspiracy'] = 'neutral'\n",
    "subreddit_stances['abortiondebate'] = 'neutral'\n",
    "subreddit_stances['arizonapolitics'] = 'for' #should be neutral if we only look at title, but Arizona is moslty pro-choice\n",
    "subreddit_stances['neoliberal'] = 'for'\n",
    "subreddit_stances['mensrights'] = 'neutral'\n",
    "subreddit_stances['politicalcompassmemes'] = 'neutral'\n",
    "subreddit_stances['inthenews'] = 'neutral'\n",
    "subreddit_stances['asktrumpsupporters'] = 'against'\n",
    "subreddit_stances['changemyview'] = 'neutral'\n",
    "subreddit_stances['goldandblack'] = 'for'\n",
    "subreddit_stances['politicaldiscussion'] = 'neutral' \n",
    "subreddit_stances['askdemocrats'] = 'for'\n",
    "subreddit_stances['qult_headquarters'] = 'neutral' #unsure what it is "
   ]
  },
  {
   "cell_type": "code",
   "execution_count": 10,
   "metadata": {},
   "outputs": [
    {
     "data": {
      "text/plain": [
       "{'politics': 'neutral',\n",
       " 'askconservatives': 'against',\n",
       " 'conservative': 'against',\n",
       " 'prochoice': 'for',\n",
       " 'prolife': 'against',\n",
       " 'askaliberal': 'for',\n",
       " 'centrist': 'neutral',\n",
       " 'conspiracy': 'neutral',\n",
       " 'abortiondebate': 'neutral',\n",
       " 'arizonapolitics': 'for',\n",
       " 'neoliberal': 'for',\n",
       " 'mensrights': 'neutral',\n",
       " 'politicalcompassmemes': 'neutral',\n",
       " 'inthenews': 'neutral',\n",
       " 'asktrumpsupporters': 'against',\n",
       " 'changemyview': 'neutral',\n",
       " 'goldandblack': 'for',\n",
       " 'politicaldiscussion': 'neutral',\n",
       " 'askdemocrats': 'for',\n",
       " 'qult_headquarters': 'neutral'}"
      ]
     },
     "execution_count": 10,
     "metadata": {},
     "output_type": "execute_result"
    }
   ],
   "source": [
    "subreddit_stances"
   ]
  },
  {
   "cell_type": "code",
   "execution_count": 11,
   "metadata": {},
   "outputs": [],
   "source": [
    "week_data_full['subreddit_stance'] = week_data_full['subreddit'].map(subreddit_stances)"
   ]
  },
  {
   "cell_type": "code",
   "execution_count": 12,
   "metadata": {},
   "outputs": [
    {
     "data": {
      "text/plain": [
       "(100, 10)"
      ]
     },
     "execution_count": 12,
     "metadata": {},
     "output_type": "execute_result"
    }
   ],
   "source": [
    "week_data_full.shape"
   ]
  },
  {
   "cell_type": "code",
   "execution_count": 13,
   "metadata": {},
   "outputs": [],
   "source": [
    "opposites = {\"for\": \"against\", \"against\": \"for\", \"neutral\": \"neutral\"}"
   ]
  },
  {
   "cell_type": "code",
   "execution_count": 14,
   "metadata": {},
   "outputs": [],
   "source": [
    "def map_stances(row, opposites):\n",
    "    if row[\"score\"] >= 1: \n",
    "        return row[\"subreddit_stance\"]\n",
    "    elif row[\"score\"] <= 0: \n",
    "        return opposites[row[\"subreddit_stance\"]]\n",
    "    else: \n",
    "        return None"
   ]
  },
  {
   "cell_type": "code",
   "execution_count": 15,
   "metadata": {},
   "outputs": [],
   "source": [
    "week_data_full[\"baseline_stance\"] = week_data_full.apply(lambda x: map_stances(x, opposites), axis = 1)"
   ]
  },
  {
   "cell_type": "code",
   "execution_count": 16,
   "metadata": {},
   "outputs": [],
   "source": [
    "from sklearn.metrics import accuracy_score, confusion_matrix, f1_score, precision_score, recall_score \n",
    "\n",
    "accuracy = accuracy_score(week_data_full[\"annotated_stance\"], week_data_full[\"baseline_stance\"])\n",
    "conf_matrix = confusion_matrix(week_data_full[\"annotated_stance\"], week_data_full[\"baseline_stance\"])\n",
    "f1  = f1_score(week_data_full[\"annotated_stance\"], week_data_full[\"baseline_stance\"], average = \"macro\")\n",
    "precision  = precision_score(week_data_full[\"annotated_stance\"], week_data_full[\"baseline_stance\"], average = \"macro\")\n",
    "recall  = recall_score(week_data_full[\"annotated_stance\"], week_data_full[\"baseline_stance\"], average = \"macro\")\n",
    "\n"
   ]
  },
  {
   "cell_type": "code",
   "execution_count": 17,
   "metadata": {},
   "outputs": [
    {
     "name": "stdout",
     "output_type": "stream",
     "text": [
      "accuracy:  0.41\n",
      "f1 score:  0.3956471935853379\n",
      "precision:  0.4576719576719577\n",
      "recall:  0.40686274509803927\n"
     ]
    }
   ],
   "source": [
    "print(\"accuracy: \", accuracy)\n",
    "print(\"f1 score: \", f1)\n",
    "print(\"precision: \", precision)\n",
    "print(\"recall: \", recall)"
   ]
  }
 ],
 "metadata": {
  "kernelspec": {
   "display_name": "bach_env",
   "language": "python",
   "name": "python3"
  },
  "language_info": {
   "codemirror_mode": {
    "name": "ipython",
    "version": 3
   },
   "file_extension": ".py",
   "mimetype": "text/x-python",
   "name": "python",
   "nbconvert_exporter": "python",
   "pygments_lexer": "ipython3",
   "version": "3.10.16"
  }
 },
 "nbformat": 4,
 "nbformat_minor": 2
}
