{
 "cells": [
  {
   "cell_type": "code",
   "execution_count": 1,
   "metadata": {},
   "outputs": [],
   "source": [
    "# imports \n",
    "import pandas as pd\n",
    "from sklearn.metrics import accuracy_score, f1_score, precision_score, recall_score "
   ]
  },
  {
   "cell_type": "code",
   "execution_count": 2,
   "metadata": {},
   "outputs": [],
   "source": [
    "annotated_data = pd.read_csv(\"../annotated/re_annotated_test_data.csv\")\n",
    "messages_list = annotated_data[\"text\"].astype(str).tolist()"
   ]
  },
  {
   "cell_type": "markdown",
   "metadata": {},
   "source": [
    "##### Zero-shot stance classification"
   ]
  },
  {
   "cell_type": "code",
   "execution_count": 3,
   "metadata": {},
   "outputs": [
    {
     "name": "stderr",
     "output_type": "stream",
     "text": [
      "/home/jnye/miniconda3/envs/bach_env/lib/python3.10/site-packages/tqdm/auto.py:21: TqdmWarning: IProgress not found. Please update jupyter and ipywidgets. See https://ipywidgets.readthedocs.io/en/stable/user_install.html\n",
      "  from .autonotebook import tqdm as notebook_tqdm\n",
      "Device set to use cpu\n"
     ]
    }
   ],
   "source": [
    "from transformers import pipeline\n",
    "classifier = pipeline(\"zero-shot-classification\",\n",
    "                      model=\"facebook/bart-large-mnli\")"
   ]
  },
  {
   "cell_type": "code",
   "execution_count": 4,
   "metadata": {},
   "outputs": [],
   "source": [
    "sequence_to_classify = messages_list\n",
    "candidate_labels = ['for', 'against', 'neutral']\n",
    "hypothesis_template = \"The stance on abortion expressed by this statement is {}\"\n",
    "outputs = classifier(sequence_to_classify, candidate_labels, hypothesis_template=hypothesis_template)"
   ]
  },
  {
   "cell_type": "code",
   "execution_count": 5,
   "metadata": {},
   "outputs": [
    {
     "data": {
      "text/plain": [
       "[{'sequence': 'Because pro life is a ridiculous position that is not held in any consistent manner. Like pro life advocates not supporting open access to birth control or women’s health. Or not openly opposing IVF in the same way as abortion.',\n",
       "  'labels': ['against', 'for', 'neutral'],\n",
       "  'scores': [0.4835546612739563, 0.278573602437973, 0.23787175118923187]},\n",
       " {'sequence': \"You know, you're actually making some good arguments. Well done! I'm going to take some time to digest what you're saying. I'm not sure I fully agree with everything you're saying, but I'm impressed with your argument.  You mentioned expanding abortion access. Do you feel like that's something Republicans support or oppose?\",\n",
       "  'labels': ['for', 'neutral', 'against'],\n",
       "  'scores': [0.6634532809257507, 0.1795615702867508, 0.15698522329330444]},\n",
       " {'sequence': 'You’re saying born people have more rights than an unborn person who can’t even speak for themselves ? When do rights come into play? Is it only after you’re born that you’re given your constitutional rights ?',\n",
       "  'labels': ['against', 'for', 'neutral'],\n",
       "  'scores': [0.5456903576850891, 0.34334254264831543, 0.11096709221601486]},\n",
       " {'sequence': ' No, we aren\\'t. An embryo is not \"a child\".  And, even if it were, it would have less rights than the adult (just like children have less rights then an adult).   And when a woman finds out that she\\'s pregnant, why can\\'t she feel similarly? She didn\\'t *ask* to get pregnant. It\\'s against her will.   You\\'re the one claiming it\\'s another human being. And it *is* inside her.  Another being inside her, against her will... \"a foreign invader\" is a pretty good term for it.   They are givign up their entire body- their blood nuturents are drained by the fetus. They need to eat more. Her blood is filled with it\\'s wastes, putting more work on her kidneys, liver, etc.  The pregnancy physically changes her body, puts strains on different part sodf it, etc, etc.',\n",
       "  'labels': ['against', 'for', 'neutral'],\n",
       "  'scores': [0.4931984841823578, 0.39232906699180603, 0.11447246372699738]},\n",
       " {'sequence': 'It is part of the mother. Individual entities can survive on their own. A fetus cannot perform the necessary biological functions to do so.  Otherwise cancer could be considered a seperate thing along with other viruses that cause growth of a bodies cells.',\n",
       "  'labels': ['for', 'against', 'neutral'],\n",
       "  'scores': [0.4249739348888397, 0.3089270293712616, 0.2660990357398987]},\n",
       " {'sequence': \"Right, I understand how some things would make sense (we stop considering a person alive if they're braindead, which implies no chance of recovery).  And most pregnant people do indead have the procedure long before there is a brain, but I do see a potential issue.   From what I've read (especially the many terrible recent situations), tightly regulating abortion, even after a certain number of weeks can potentially backfire against people that have desperate medical needs. I can't say I blame the doctors really, if their hands pretty much become tied and they have to either recieve approval from the hospital board before they can intervene and save the patient, time might be running out for said patient. Same if doctors are put into a situation of uncertainty, that previously hasn't existed (not just doctors, if someone in any job should suddenly fear that their normal actions might land them in prison, or loose ther license, or other such potential consequences), they will now have way more considerations to make aside from just that patient. I don't really know how that could be addressed (if at all) by any of those laws 🤔  But I'm personally not a politician, I can just give my opinions, and maybe what I've learned from others and the stories I've heard of.  Generally speaking, people don't have an intention to harm, and most pregnancies are actually continued, it can be unfortunate when one's body betrays them and who knows, maybe in the future artificial wombs will really be a thing, and this particular debate subject will cease to exist, exist more in a historical context, or the importance of it will have completely changed.  We will probably never stop trying to improve/change whatever faults nature has bestowed unto us, hopefully some day there won't be anyone finding any conflicts of interest, one would hope 🙂\",\n",
       "  'labels': ['for', 'against', 'neutral'],\n",
       "  'scores': [0.68222975730896, 0.1807202845811844, 0.13704994320869446]},\n",
       " {'sequence': 'technically you coat it in the equivalent of a placenta, not an offspring',\n",
       "  'labels': ['for', 'against', 'neutral'],\n",
       "  'scores': [0.3637068569660187, 0.3601193428039551, 0.27617383003234863]},\n",
       " {'sequence': 'A baby is the closest thing to in utero that others connect to a person.',\n",
       "  'labels': ['against', 'for', 'neutral'],\n",
       "  'scores': [0.3848290741443634, 0.3702516555786133, 0.2449192851781845]},\n",
       " {'sequence': 'Well, according to some sources and like stated in the kurzgesagt video, abortion can be considered in some context as a form of Eugenics or a \"Natutally\" selective event where some traits can be selected over the other by human will (this is not the case for all abortions in all situations).  So if we allow abortion because of a remarkably disadvantagious fetus trait, Eugenics was always on the menu. It is more a long way of asking what flavour of Eugenics you like the most and which one you are not willing to pay the price for a woman freedom of choice and why.',\n",
       "  'labels': ['for', 'neutral', 'against'],\n",
       "  'scores': [0.5940107703208923, 0.2553888261318207, 0.15060043334960938]},\n",
       " {'sequence': \" Lol, nobody lost their abortion rights when Democrats were in charge of the relevant institutions. Texans didn't lose abortion rights under Ann Richards, and Americans didn't lose abortion rights when there was a liberal majority on the Supreme Court, either. I'm sorry you're confused, but it was ~~conservatives~~ reactionaries who did both of those things. All you're doing is shifting blame from Republicans, where it belongs, onto Democrats. It's called [Murc's Law](https://www.urbandictionary.com/define.php?term=murc%27s%20law).   Codification isn't the answer people think it is. A Supreme Court that can overturn a half-century-old precedent can just as easily find a statute unconstitutional. It's what they did in *Shelby County*, it's what they did in *Brnovich*, and it's what they did in *Bruen*.  Americans didn't lose abortion rights because of anything Biden or Democrats did or didn't do. Democrats didn't legislate away anyone's abortion rights. Americans lost their abortion rights because RBG failed to timely retire, and because American voters failed in nearly a decade of elections, which allowed Republicans to take away abortion rights.  If they'd elected a Democratic Senate majority in 2014, which would've let Obama fill Scalia's seat, there would be no Gorsuch. That would've given us a 5-4 liberal majority. They failed again in 2016, electing Trump and a GOP Senate majority instead of Clinton and Democratic majorities, giving us Gorsuch and Kavanaugh. That gave us a 5-4 reactionary majority. Then they failed again in 2018, giving us Barrett, and a 6-3 reactionary majority. Then they did the absolute bare minimum in 2020, electing a razor-thin Democratic margin in the House, and a literal zero-seat margin in the Senate.  There was no reason to codify abortion rights prior to 2017, because any bill that could actually have passed would've offered weaker protections than Roe already provided. It would've been legislating *away* abortion rights! But, to the extent you think it would've been worthwhile (you're wrong), the last chance they had to do so was during the 111th Congress, the first half of Obama's first term. Was there any movement to codify abortion rights back then? No. For the 112th-116th Congresses, it was impossible, because voters made it impossible. And in the 117th Congress, it was theoretically possible, except, as you already pointed out, they don't have the votes to either overcome or abolish the filibuster. Because, again, voters did the bare minimum in 2020. So you claim they could've done it, but then admit they actually couldn't. And, again, it wouldn't actually do what you want it to do in the first place, even if they did have the votes for it. Which they don't.  Losing abortion rights was a forgone conclusion after 2016. It's just that it took another six years to find a case and for that case to work its way to to the Supreme Court. You don't protect abortion rights by sometimes electing Democrats and sometimes electing Republicans, and hoping Democrats can do enough while they're in power to prevent Republicans from undoing it when they're in power. That's not how it works! You protect abortion rights by electing Democrats, at every level of government, in every single election, so Republicans never have an opportunity to take those rights away in the first place. If we'd elected Democratic majorities in 2014, 2016, and 2018, and elected Clinton over Trump, Dobb wouldn't have even been heard in the Supreme Court, and *Roe* and *Casey* would still be good law.   It's called choosing your battles. There is a finite amount of time and resources, and there's an opportunity cost to pursuing a bill that's doomed to fail, in that it means those resources can't be used to pursue another bill that could actually pass instead.   Lol, what did which Republicans do when? Citations needed.   Prove it. Elect all Democrats, and see what happens. Take away all their excuses you think they use. Filibuster becomes irrelevant, parliamentarian becomes irrelevant, the VP breaking ties becomes irrelevant, absences and vacancies become irrelevant. Or hell, try even just electing filibuster- and veto-proof supermajorities in both houses of Congress. Then it won't even matter who wins the presidency, because they'll have the votes to override any President's veto.\",\n",
       "  'labels': ['against', 'for', 'neutral'],\n",
       "  'scores': [0.4328005313873291, 0.37465184926986694, 0.19254760444164276]},\n",
       " {'sequence': ' This was flat-out admitted to by the Republican strategist who is [historically responsible for making abortion a wedge issue](https://www.reddit.com/r/politics/comments/p82zer/comment/h9o7a72/?utm_source=share&amp;utm_medium=web2x&amp;context=3).   He got on stage in front of the religious right-wing [and straight up said](https://www.youtube.com/watch?v=8GBAsFwPglw): \"I don\\'t want everybody to vote. Elections are not won by a majority of people, they never have been from the beginning of our country and they are not now. As a matter of fact, our leverage in the elections quite candidly goes up as the voting populace goes down.\"',\n",
       "  'labels': ['for', 'against', 'neutral'],\n",
       "  'scores': [0.70536208152771, 0.24672049283981323, 0.04791742190718651]},\n",
       " {'sequence': 'Ditto with abortion bans.  Ya know with the whole shortage of a \"domestic supply of infants\" right?',\n",
       "  'labels': ['against', 'for', 'neutral'],\n",
       "  'scores': [0.7085199356079102, 0.224869504570961, 0.06661057472229004]},\n",
       " {'sequence': 'Pro-choice is referring to reproductive choice. Personally I prefer to state my position as pro medical autonomy because I think it is more descriptive of my position. As such, pro-abortion is a poor descriptor of my position. I do not want to encourage abortions, and I want to see a reduction in abortion incidence via a reduction in abortion demand.',\n",
       "  'labels': ['for', 'against', 'neutral'],\n",
       "  'scores': [0.4259059727191925, 0.4005303978919983, 0.17356356978416443]},\n",
       " {'sequence': 'Didn’t say aggressive. I even said they don’t have agency. It’s an odd fact of reality that fetuses initiate violation of bodily autonomy.',\n",
       "  'labels': ['against', 'neutral', 'for'],\n",
       "  'scores': [0.3957553505897522, 0.3104292154312134, 0.2938154339790344]},\n",
       " {'sequence': 'Democrats in Congress wanted abortion up to the point of 9 months and birth. The country is at 15 weeks far from what the democrats want.',\n",
       "  'labels': ['against', 'for', 'neutral'],\n",
       "  'scores': [0.6116899251937866, 0.27561503648757935, 0.11269500851631165]},\n",
       " {'sequence': \"I've heard pro-abortion people try to claim babies shouldn't be considered a person until several months after birth.\",\n",
       "  'labels': ['against', 'for', 'neutral'],\n",
       "  'scores': [0.5094071626663208, 0.3069533705711365, 0.18363943696022034]},\n",
       " {'sequence': 'No, and I never claimed so. But abortion is far more malicious and far less defendable, although ultimately both are immoral',\n",
       "  'labels': ['against', 'for', 'neutral'],\n",
       "  'scores': [0.6762010455131531, 0.16984781622886658, 0.15395107865333557]},\n",
       " {'sequence': \"Down that path lies madness.  You start by telling people that they can't have children if they have had past miscarriages.  You end by telling people what they can and cannot do with their lives.  Are some deaths preventable by ending all smoking?  You outlaw smoking.  Are some deaths preventable by not eating meat?  You outlaw meat products.  Are some deaths preventable by not allowing you to drive cars?  You outlaw private transportation.  All deaths are preventable by simply having no children, ever.    As I said, I think it is valid to ask someone to strongly consider not having a child if they have a history of miscarriage.  However, obligating them not to by law is not appropriate.    Preventing someone from deciding to kill someone is entirely do-able and something we can expect of someone.    Preventing someone from doing anything that might potentially cause someone to die someday is not only the end of liberty, it's also impossible and adds an unbound obligation to people in a way that telling them they need to endure a pregnancy is not.\",\n",
       "  'labels': ['against', 'for', 'neutral'],\n",
       "  'scores': [0.449639230966568, 0.4209187626838684, 0.12944209575653076]},\n",
       " {'sequence': 'I would save the infant. This isn’t a hard question and it’s not the “gotcha” you think it is.   Women are not being given the choice between killing an infant or killing a fetus during an abortion. You can value both. This is by definition a false dichotomy.',\n",
       "  'labels': ['neutral', 'for', 'against'],\n",
       "  'scores': [0.4759778380393982, 0.39321455359458923, 0.130807563662529]},\n",
       " {'sequence': 'What do you mean by mostly? I feel like the feds either do or don’t have the authority to ban abortion/define if fetuses or a person.',\n",
       "  'labels': ['for', 'neutral', 'against'],\n",
       "  'scores': [0.42389705777168274, 0.36843422055244446, 0.20766878128051758]},\n",
       " {'sequence': \"I'm really confused what you think happens to a fetus in an abortion.   This is not the equivalent of evicting a tenate. You are picking someone up and throwing them out.   Somehow its there fault because there less developed than a baby?\",\n",
       "  'labels': ['for', 'against', 'neutral'],\n",
       "  'scores': [0.6032565832138062, 0.23205865919589996, 0.16468481719493866]},\n",
       " {'sequence': 'You’re suggesting your unborn child needs consent from you yet there’s no way it can be given or received, in addition to the fact that it was created as a result of your own actions. It’s not even possible to consent to a natural biological process. This is clearly just an excuse for you to place blame on an innocent human in order to justify killing it.  Responsibility is a duty or obligation. You’re responsible for your actions and the consequences that follow. When you create a new human life that’s dependent on you, you’re responsible for taking care of it. Getting rid of your responsibility isn’t taking it and killing a defenseless human being is anything but responsible. You have trouble even acknowledging it’s your child.  So now the unborn are unfeeling entities? Way to dehumanize. They’re living human beings and children of their parents. What makes you think you or anyone has the right to choose someone else’s life isn’t worth living simply because you don’t want it? It’s not fair to abandon or hate a child who took no part in its creation. Again, placing blame on an innocent human.  I’m not obligated to keep repeating myself to you or answer your irrelevant questions. You disproved nothing, you’re wrong and refuse to acknowledge the source I posted, which btw was from your precious Planned Parenthood. That is what debating in bad faith is. You also haven’t presented me with 1 valid argument for killing the unborn. I come away from this much stronger in my position and much less willing to compromise with PC on abortion laws.',\n",
       "  'labels': ['against', 'for', 'neutral'],\n",
       "  'scores': [0.5006994009017944, 0.45317375659942627, 0.04612679407000542]},\n",
       " {'sequence': 'Making it make sense is pretty easy. If we simply edit the phrase “government can force me to carry a pregnancy to term” with “government can force me not to murder someone” and your question has been answered.   As for pregnancy being sucky, there’s an easy solution of not getting pregnant.   As for murder being the number one killer of pregnant women, that’s true whether or not abortion is illegal.   As for black women dying at higher rates, that’s due to poverty and not having regular doctors visits while pregnant that would actually catch the extreme cases.   Your facts aren’t very useful except for making subjective reasons why killing an innocent child could be better than not killing it. Which brings us back to the initial argument.',\n",
       "  'labels': ['for', 'against', 'neutral'],\n",
       "  'scores': [0.5801632404327393, 0.29927384853363037, 0.12056291848421097]},\n",
       " {'sequence': 'Just because things are a certain way at the moment doesn’t mean they’re correct.  We’re arguing opinions not the way things are currently  This isn’t a logical comeback either because no pregnancy isn’t a crime for obvious reasons. These two metaphors are not a direct comparison as I said earlier because there’s little factors like that on both sides. But no putting a baby in your womb isn’t a crime the way putting someone in the hospital is. But how does that negate everything else ? That’s just pointing out a factor in it. If the person dies you will be charged much harder than if they live. If you go through with a pregnancy you won’t be charged with anything and if you abort and kill a child, in this hypothetical scenario, you’d be charged with the death.  The only difference is that one small piece that’s different based on the nuances of both situations that aren’t the same   And my whole point once again is that body autonomy isn’t the issue it’s responsibility and other factors. That’s the only point I’m trying to prove.',\n",
       "  'labels': ['for', 'against', 'neutral'],\n",
       "  'scores': [0.5801590085029602, 0.31591278314590454, 0.10392819344997406]},\n",
       " {'sequence': ' Can you explain how you think a procedure could terminate a pregnancy that has already ended?',\n",
       "  'labels': ['for', 'against', 'neutral'],\n",
       "  'scores': [0.5001087784767151, 0.3827788829803467, 0.1171124279499054]},\n",
       " {'sequence': 'I do, hence the legally pro-choice in my flair. I do not agree with almost anything that the pro-choice crowd says, but I acknowledge the inability of our laws to practically enforce anything related to abortion, so I concede we should not have any laws about it.',\n",
       "  'labels': ['for', 'neutral', 'against'],\n",
       "  'scores': [0.6618527173995972, 0.19464412331581116, 0.14350315928459167]},\n",
       " {'sequence': ' Because you’re trying to expand the pro-life ideology beyond abortion. So either accept the implied “pro fetal life” and “pro choice to carry a pregnancy”, or both terms need changed.   I’ve never seen that claim. Their ideology claims to be against legal abortion. That’s it. You’re the one implying the other beliefs.    And to carry the name, all pro-life people need to do is advocate for fetus’ life to not be willfully ended.',\n",
       "  'labels': ['against', 'for', 'neutral'],\n",
       "  'scores': [0.6522337794303894, 0.2734627425670624, 0.07430356740951538]},\n",
       " {'sequence': 'Two things:  - I said \"the developed world\", not \"most other countries\". I\\'m really not interested in my country modeling itself on how Egypt or Iran want to run things. [Here\\'s a map if you\\'d like to review.](https://www.cfr.org/article/abortion-law-global-comparisons)  - I\\'m talking about abortions, not \"killing babies\". This is your problem: lies and scary words are *the only cards in your hand*. You *have* to use horrifying pictures of late-trimester abortions (which are exceedingly rare and illegal except as a life-saving measure in most places) and words like \"killing babies\" because the reality of the procedure as a low-risk disposal of a clump of cells is too reasonable for you to argue against. Facts, medical science, and public opinion are on my side, so if I *don\\'t* indulge your scary words, you have nothing else to rage with and your position is untenable.',\n",
       "  'labels': ['for', 'against', 'neutral'],\n",
       "  'scores': [0.5204562544822693, 0.40333065390586853, 0.07621310651302338]},\n",
       " {'sequence': \" Because not every organism on this planet is human. Humans deserve human rights, regardless of development or age.   It makes observations like fetuses are human beings, then some other people come up with the idea of human rights, which is built around the scientific definition of human. If you disagree with human rights, then yes, there's no reason not to kill the unborn (or anyone else for that matter). But if you agree with human rights, then by definition fetuses are included in those who have rights.\",\n",
       "  'labels': ['for', 'against', 'neutral'],\n",
       "  'scores': [0.511955201625824, 0.3553261458873749, 0.13271863758563995]},\n",
       " {'sequence': 'So in this analogy is the unborn child the person breaking into the house?',\n",
       "  'labels': ['for', 'against', 'neutral'],\n",
       "  'scores': [0.4934808909893036, 0.33806854486465454, 0.16845059394836426]},\n",
       " {'sequence': 'Well if nobody has access to an abortion than that stance would kill less people, not more.  If your argument is that a bunch of women would break the law and kill themselves and their baby, that is a poor argument. A bunch of people acting as criminals and ignoring a law does not mean that the law is flawed, the criminals are flawed.',\n",
       "  'labels': ['against', 'for', 'neutral'],\n",
       "  'scores': [0.6034958958625793, 0.2961363196372986, 0.10036779940128326]},\n",
       " {'sequence': 'I wonder how many of those 92% were cases where the mother was unfit and the father did it in desperation to save their children',\n",
       "  'labels': ['for', 'against', 'neutral'],\n",
       "  'scores': [0.5093532204627991, 0.2467108964920044, 0.24393583834171295]},\n",
       " {'sequence': '  Probably not, but that might just be because the abortionists wouldnt complain.',\n",
       "  'labels': ['against', 'for', 'neutral'],\n",
       "  'scores': [0.4449629485607147, 0.3141123354434967, 0.24092471599578857]},\n",
       " {'sequence': 'I mean, those who say they are anti-abortion, will change their mind in case of an unplanned pregnancy.      Statistically, more women are pro-life than men.',\n",
       "  'labels': ['against', 'for', 'neutral'],\n",
       "  'scores': [0.8189048767089844, 0.11696143448352814, 0.06413372606039047]},\n",
       " {'sequence': 'But based on that logic we should be seeing lower abortion rates than we currently are. Increases in \"sexual education\" and contraceptive access over the last several decades *should* be driving down abortion rates, but they don\\'t seem to correlate.   I\\'ll add that this logic also treats the goal of \"drive abortion rates to be as low as possible\" in a vacuum. This ignores other connected issues such as the role of sex/family in society, individual health, personal fulfillment, religious freedoms, etc.',\n",
       "  'labels': ['for', 'against', 'neutral'],\n",
       "  'scores': [0.5228869915008545, 0.3315967321395874, 0.14551635086536407]},\n",
       " {'sequence': \"I think you should read more stories from women who have aborted for health reasons. They ARE out there, and it's horribly tragic.\",\n",
       "  'labels': ['for', 'against', 'neutral'],\n",
       "  'scores': [0.44764816761016846, 0.31215447187423706, 0.24019736051559448]},\n",
       " {'sequence': 'I’d like to hear them tell post-abortive suicidal women that abortion causes the least amount of harm…',\n",
       "  'labels': ['against', 'for', 'neutral'],\n",
       "  'scores': [0.45641621947288513, 0.40489891171455383, 0.13868488371372223]},\n",
       " {'sequence': \"So if the baby is wanted it's a protected Human being. But if it is unwanted then it is a parasite than can be killed off?   You see how your logic doesn't make any sense right? It is a complete violation of the Human rights of the unborn.\",\n",
       "  'labels': ['against', 'for', 'neutral'],\n",
       "  'scores': [0.49605998396873474, 0.39862361550331116, 0.1053164154291153]},\n",
       " {'sequence': \"I have a different view: that the kid who was aborted already existed before birth. Science tells us human beings begin to exist at conception, so it's murder because abortion destroys an innocent living human.\",\n",
       "  'labels': ['against', 'for', 'neutral'],\n",
       "  'scores': [0.4946408271789551, 0.41930821537971497, 0.08605097234249115]},\n",
       " {'sequence': \"I am pro life XD. I know how to responde to these. I am just asking if there can be pinned post or somethink in description to help pro lifers wich don't know to response to thair 'new' hupoteticals scenarios.\",\n",
       "  'labels': ['for', 'against', 'neutral'],\n",
       "  'scores': [0.8099976778030396, 0.11990976333618164, 0.07009257376194]},\n",
       " {'sequence': 'Just ask yourself the question, why would someone *want* an abortion after 3 months?   If you actually [look at the data](https://www.plannedparenthood.org/uploads/filer_public/99/41/9941f2a9-7738-4a8b-95f6-5680e59a45ac/pp_abortion_after_the_first_trimester.pdf), the most common reason for 2nd trimester abortions is *lack of access to abortion services during the 1st trimester*. If you have a problem with that, then blame the states that are trying to make it hard for people to get abortions before 3 months. Otherwise, you\\'re not \"pro-choice\" at all.',\n",
       "  'labels': ['for', 'against', 'neutral'],\n",
       "  'scores': [0.6337927579879761, 0.23572225868701935, 0.1304849237203598]},\n",
       " {'sequence': 'How does aborting a fetus infect others. Also nobody is making people be vaxxed. They just could go certain place for a while. Not the same as telling a woman to be a human incubater',\n",
       "  'labels': ['against', 'for', 'neutral'],\n",
       "  'scores': [0.3742494583129883, 0.36037129163742065, 0.26537925004959106]},\n",
       " {'sequence': 'Are you using euphemisms for killing the unborn or some shit? Fuck that ghoulish shit',\n",
       "  'labels': ['against', 'for', 'neutral'],\n",
       "  'scores': [0.8123272657394409, 0.16132481396198273, 0.02634788118302822]},\n",
       " {'sequence': \"That's just dumb.   A red light and a green light mean two completely different things even though both are light just as both a fetus and a human are both flesh and blood. The metaphor was talking about how being inside and outside are not the same thing, just like a traffic light being red or green.\",\n",
       "  'labels': ['against', 'for', 'neutral'],\n",
       "  'scores': [0.42795246839523315, 0.38568150997161865, 0.1863660365343094]},\n",
       " {'sequence': 'https://www.politico.com/news/magazine/2022/05/10/abortion-history-right-white-evangelical-1970s-00031480',\n",
       "  'labels': ['for', 'neutral', 'against'],\n",
       "  'scores': [0.5978606939315796, 0.25045284628868103, 0.15168647468090057]},\n",
       " {'sequence': 'We could play that game on both sides and it wouldn’t help anything and would in fact just create more division. Pro life is an abortion-related position, as is pro choice. Anything you or anyone else tries to attach to it is simply arguing in bad faith, and is clearly against the rules of this sub.   Given that, I’m not going to play that game with you.',\n",
       "  'labels': ['against', 'for', 'neutral'],\n",
       "  'scores': [0.5512474179267883, 0.43379825353622437, 0.01495424099266529]},\n",
       " {'sequence': \" I don't think any human being is entitled to the orifices and organs of other people, but I do think that human beings shouldn't be killed, which abortion does.\",\n",
       "  'labels': ['against', 'for', 'neutral'],\n",
       "  'scores': [0.7613663673400879, 0.18147873878479004, 0.05715488642454147]},\n",
       " {'sequence': \" Certainly not, that's why we have rules, so that we don't have to think all the time. But the question of whether abortion should be legal isn't a question of what is, but what should. And that calls for reasoning from first principles.   That's entirely expected, if we all agreed there'd be nothing to argue about and the matter would be settled\",\n",
       "  'labels': ['for', 'against', 'neutral'],\n",
       "  'scores': [0.6108672022819519, 0.24116778373718262, 0.14796501398086548]},\n",
       " {'sequence': 'Are you joking? How about one of the most famous ways to die via pregnancy, ectopic pregnancy?  Also, there’s also women with reproductive deformities to consider, as well as bleeding disorders. This might making gestation fine but actual childbirth lethal.  Sounds like to me you want to force these women to carry until the fetus can feel pain, then tear them apart right before they’d be viable.  Much better than taking a few pills to pass a bloody clump of cells no bigger than a quarter. Right?',\n",
       "  'labels': ['against', 'for', 'neutral'],\n",
       "  'scores': [0.5835490822792053, 0.3553580641746521, 0.06109282001852989]},\n",
       " {'sequence': '“Most people who support it also agree that abortion should be legal any time” is such a statement. Im going to need a source for that',\n",
       "  'labels': ['for', 'neutral', 'against'],\n",
       "  'scores': [0.7121666073799133, 0.20526441931724548, 0.0825689509510994]},\n",
       " {'sequence': \" Legal remedy assumes the legal system is correct. Current stances on abortion seem to indicate a large number of people disagree with the legal system when it suits them - and these same people attempt to skirt the laws in place that prevent abortion.  Does everyone who marched in protest - and any violence that ensued - or any actions taken to bypass said laws demonstrate those who support abortion did NOT respond appropriately? That the issue of abortion shouldn't be **reasonably explained** or discussed?\",\n",
       "  'labels': ['for', 'against', 'neutral'],\n",
       "  'scores': [0.5384871363639832, 0.39139020442962646, 0.0701226145029068]},\n",
       " {'sequence': 'You can argue for personhood of a fetus as much as you want. Of course the species is human, but it is not actual person yet. It just has the potential to become one, with the help of the mother. I am a lot different than a clump of human cells at 6 weeks.   No one has the right to use someone’s body to survive. Whether during pregnancy or any other situation. Especially when doing so causes extreme harm to somebody.',\n",
       "  'labels': ['for', 'against', 'neutral'],\n",
       "  'scores': [0.47822055220603943, 0.40975967049598694, 0.11201968789100647]},\n",
       " {'sequence': 'Nope, you’re wrong   https://www.reddit.com/r/Abortiondebate/comments/zpo5ra/comment/j0yb2rx/?context=3',\n",
       "  'labels': ['against', 'for', 'neutral'],\n",
       "  'scores': [0.789017915725708, 0.15983350574970245, 0.05114857852458954]},\n",
       " {'sequence': \"Are summer children supposed to be born or conceived in summer? Cause right now it's early summer down there, in 9 months it'll be early spring\",\n",
       "  'labels': ['against', 'for', 'neutral'],\n",
       "  'scores': [0.6112940311431885, 0.2694522738456726, 0.11925365030765533]},\n",
       " {'sequence': \" I don't really like this argument as a reason to not make something illegal. Murder is illegal and it still happens. We are aware people break laws. But that doesn't change it should remain illegal.     These two things don't make much sense. I mean. I likely get why you believe this but I think you're wrong. If we as a society see something as morally wrong we don't accept it as ok for elective reasons. If you're morally against elective abortion, it has to be because you see the baby, rightly, as a life, so why is it ok to do it electively at all?\",\n",
       "  'labels': ['against', 'for', 'neutral'],\n",
       "  'scores': [0.5444148182868958, 0.3880205750465393, 0.06756465137004852]},\n",
       " {'sequence': \"Well no, I certainly don't agree with that.  There should always be an option to end a pregnancy, but if an method exists to do so that doesn't result in the death of the fetus then *all other things being equal* that's certainly preferable.\",\n",
       "  'labels': ['against', 'for', 'neutral'],\n",
       "  'scores': [0.8716529607772827, 0.11446291953325272, 0.013884143903851509]},\n",
       " {'sequence': ' Is this how you view PCers? You think we hate unborn and are trying to exterminate them?',\n",
       "  'labels': ['against', 'for', 'neutral'],\n",
       "  'scores': [0.7783313393592834, 0.18651388585567474, 0.03515481576323509]},\n",
       " {'sequence': \" People have been killing each other since the dawn of time.  Most people don't consider that a selling point.  Not sure why you do.   One person killing another person is always a public matter, even if it happens in private.   I agree.  Feel free to do those as well.  There is nothing mutually exclusive with the things you listed and an abortion ban.  I generally argue for both.   Better than most, but still a human rights violation.    I understand that you think that's a compromise, but its not.  Any on demand killing of another human being is unjust and unethical.\",\n",
       "  'labels': ['for', 'against', 'neutral'],\n",
       "  'scores': [0.5233555436134338, 0.26399147510528564, 0.2126530408859253]},\n",
       " {'sequence': '  France expanded to 14 weeks from 12 weeks. Still less than 15 weeks. You can double check that, but I think you\\'re just factually wrong. Or \"uninformed\" as you chose to say.  But look at the rest. I\\'m finding:  - Belgium 12 weeks  - Denmark 12 weeks  - Estonia 11 weeks  - Germany 12 weeks  - Ireland 12 weeks  - Italy 12 weeks  - Ukraine 12 weeks  And so on.  Republicans are far left with the 15 week limit if you put them on the European spectrum.  No need to try and muddy it up.',\n",
       "  'labels': ['for', 'against', 'neutral'],\n",
       "  'scores': [0.4991040527820587, 0.39731714129447937, 0.10357877612113953]},\n",
       " {'sequence': 'Yes. If abortion was murder than a) Herschel Walker is a terrible criminal and should have been ostracized by the party and voters immediately or b) killing babies is not really that bad a thing when they have to adjudicate the actual act.',\n",
       "  'labels': ['for', 'against', 'neutral'],\n",
       "  'scores': [0.4647167921066284, 0.382840633392334, 0.1524425894021988]},\n",
       " {'sequence': \"Birth is a very non-arbitrary line, because that's when the fetus stops living inside a full-fledged person who has the right to control what happens inside their body.  Frankly, I don't care if a fetus is completely conscious, has completed a college degree, and is about to cure cancer. If a woman wants out of her body, right now, that's her right.\",\n",
       "  'labels': ['for', 'neutral', 'against'],\n",
       "  'scores': [0.4358435869216919, 0.28971120715141296, 0.27444523572921753]},\n",
       " {'sequence': 'It’s funny that you assume I am just speculating and that I don’t know what I am talking about, but YOU do — based on a tiny speck of data points.   No my “absurd” claim is from surveys with thousands of data points of women that actually had abortions.  It’s been supported by other surveys as well.  They specifically asked why abortion was chosen instead of adoption and those two answers were the significant majority.  Not that you will ever believe anything that doesn’t fit your preconceived notions.',\n",
       "  'labels': ['for', 'against', 'neutral'],\n",
       "  'scores': [0.5194787383079529, 0.36631301045417786, 0.11420832574367523]},\n",
       " {'sequence': \"It's possible for the federal government to establish a short window (e.g. 6 weeks) that all states have to abide by or an exception for rape, incest, etc.\",\n",
       "  'labels': ['for', 'neutral', 'against'],\n",
       "  'scores': [0.5662841200828552, 0.24116945266723633, 0.19254642724990845]},\n",
       " {'sequence': 'Which is why there is a debate about when a \"blob of tissue\" becomes a human being. It\\'s not an easy problem to figure out, which is why there is still a debate going on for decades.',\n",
       "  'labels': ['for', 'against', 'neutral'],\n",
       "  'scores': [0.6312296390533447, 0.22680269181728363, 0.14196765422821045]},\n",
       " {'sequence': 'Hold on, laws aren’t legislating morality. We don’t make things illegal just because we believe them to be immoral (though some people do try to, and occasionally succeed. I’d consider them extremely authoritarian). You’re still a long way off from arguing why pregnancy itself should be illegal.   Where does intent come in to play? I can understand a distinction of murder/manslaughter if you purposely push someone off a cliff vs accidentally, but the issue is that pushing someone off the cliff is what is criminalized. We’re back to the same issue with the analogy in that the act being taken is harming a person. Having consensual sex doesn’t harm a person that doesn’t even exist to be harmed at the time of the sex. What act would you even criminalize? Having sex? Why? What harm has taken place, against who? The egg implanting? There’s certainly no intention in that taking place. This feels like trying to criminalize future actions that haven’t taken place yet, with no evidence that the will take place at all.  When people want to ban abortion because they believe the fetus is a person, they are arguing that a fetus should have rights that no one else has (the right to occupy someone else’s body against their will), and the only way to accomplish giving the fetus that right is to force other people to allow their body to be occupied by someone else against their will.',\n",
       "  'labels': ['for', 'against', 'neutral'],\n",
       "  'scores': [0.5045586228370667, 0.4193112552165985, 0.07613009214401245]},\n",
       " {'sequence': ' The issue is not pleasant, but it is actually pretty simple to understand.  If the right to life is equal between two people we move to different criteria.  The importance here is that the right to life of every person in the situation has at least been considered.  This only happens when there is a serious threat to life and is the essence of why we allow for life threat exceptions.  It is a consistent part of the pro-life ethic to allow these as both mother and child have the right to life.  It only in that instance does the mother\\'s life become also in danger, as opposed to only that of the child.   Only for choices you have made, and I would argue that in the case of the most basic human rights, you never forfeit them.    Of course, I don\\'t agree with the death penalty either, so it is easy for me to be consistent there.     Here you make the common pro-choice mistake of ignoring the child in the situation, which we are not going to do.  Yes, pregnancy is not 100% safe, but abortion, is 100% fatal to the child.  You are arguing that we should accept a 100% fatality rate for one person to offset a less than 1% fatality rate for someone else.  That just doesn\\'t make any logical sense.   Question all you like, but the AI issue is not pertinent here.  For one thing, there is no such thing as AI yet.  So, it makes little sense to discuss how rights would work with them at this juncture except in the broadest of outlines.  Second, AI would presumably be alive in some fashion.  Any particular AI would need to have a physical existence which it ran on just like any other lifeform or computer.  In that sense, it will have the same physical reality as a human and its own development.  Thirdly, human rights and AI rights are two different things.  Human rights are based on human context.  An AI almost certainly will not have an entirely human context.  Consequently, the sort of rights an AI will find important may be very different from those which humans have.  That is why species is important.  A human has human rights because it is a human organism.  We share a context that is human which is informed by our physical structure and how that interacts with the world.  That is why we can make rules which apply to other humans.    An AI will not be human, by definition.  How that causes an AI to see the world will be different than us.  We can negotiate an understanding between us and AI, but we will always have different needs, and consequently, different views of life.  Just making the argument that we might have \"consciousness\" is not a good basis for rights.  You must holistically understand the context of the organism you are dealing with.     Humanity isn\\'t \"important\" in the sense that we are special.  Humanity is important in that it is how we relate to one another and our environment.  Human rights is the rules we make for ourselves when dealing with ourselves.  And we have the right to do that because we are only putting those obligations on ourselves for things that affect us.  Too many people take the wrong-headed position that it has something to do with humans being special.  That\\'s completely the wrong takeaway.  I don\\'t have to be superior to a dog or an AI to recognize that human organisms have particular needs that dogs or AIs might not have.  Our species, our rules.  There is nothing more to it than that.   I entirely disagree.  I am not requiring that the child be carried to term.  I am not even interested in whether the child lives or dies.  What I am interested in is that you do not kill them.  They don\\'t have a right to be kept alive at all costs, but they do have a right to not be killed.  And I am resolute in the position that you don\\'t have a crystal ball.  You can\\'t tell me that every child ever aborted was always going to have bad life.  Plenty of people survive abuse and shitty parents and turn out to have good, productive and happy lives.    More to the point, I am annoyed that excuse is given for an action that is almost always taken for the sole benefit of the person making it.  How the life goes for the child is just a way of trying to justify to themselves something they were going to do anyway, and pretend that it was all for the best.  It\\'s not all for the best.     Value is irrelevant.  Humans don\\'t have to earn human rights.  Even a \"valueless\" human is entitled to human rights.  Human rights is based on membership, not some sort of earned value.  It is alien to the idea of human rights that you have to demonstrate value to get them.     That makes no sense, though.  You know full well that we make laws all the time which cannot be completely carried out.  Have murder laws ended murder?  Have theft laws ended theft?  Of course not.  We make laws based on the rights of other humans, even if those laws cannot always be completely enforced.  And consider this.  Murder laws don\\'t catch every murderer, but they do catch many.  Abortion bans also won\\'t stop every abortion, but they have and will continue to stop many.  You cannot pretend that we only make convenient to enforce laws.  When it comes to the big issues, most of our laws are very inconvenient to enforce, but we still do it.',\n",
       "  'labels': ['against', 'for', 'neutral'],\n",
       "  'scores': [0.35821768641471863, 0.3575352728366852, 0.2842470705509186]},\n",
       " {'sequence': \"Two problems, we always pay more for social services and it hasn't reduced abortions. And I want to reduce abortions.\",\n",
       "  'labels': ['against', 'for', 'neutral'],\n",
       "  'scores': [0.4017435312271118, 0.3796021044254303, 0.2186543494462967]},\n",
       " {'sequence': \" For adults yes.  I'm pretty sure even most conservatives don't support banning that.  For children, the entire debate is about their ability to provide informed consent, so that changes the discussion significantly.   I'm pro abortion as well, but only because I don't think a fetus is a person in the first trimester and a chunk into the second.  In that case, absolutely it would be a violation of medical rights to prevent a woman from getting one.  However, if the fetus IS person, that again changes the conversation because it becomes about the babies right to life.  As the saying goes, my right to swing my fist stops at your face.\",\n",
       "  'labels': ['for', 'neutral', 'against'],\n",
       "  'scores': [0.7718110084533691, 0.1437750905752182, 0.08441396802663803]},\n",
       " {'sequence': \"That's true. The 6 week abortion law would probably fuck him over. Then what about Doug Burgum from ND?\",\n",
       "  'labels': ['against', 'for', 'neutral'],\n",
       "  'scores': [0.5581857562065125, 0.3274335563182831, 0.1143806129693985]},\n",
       " {'sequence': 'From what I have seen pro-life women seem to be pretty strongly pro-life, enough to make them single-issue voters.',\n",
       "  'labels': ['for', 'against', 'neutral'],\n",
       "  'scores': [0.622226357460022, 0.30642759799957275, 0.07134607434272766]},\n",
       " {'sequence': 'The difference is that I choose the woman over the foetus. You choose the foetus over the woman. That’s the difference here.',\n",
       "  'labels': ['for', 'against', 'neutral'],\n",
       "  'scores': [0.5043850541114807, 0.3893534243106842, 0.10626151412725449]},\n",
       " {'sequence': \" Yeah, they can't stay alive if the woman dies which will happen if the pregnancy is not terminated.\",\n",
       "  'labels': ['against', 'for', 'neutral'],\n",
       "  'scores': [0.43994176387786865, 0.3949688971042633, 0.16508929431438446]},\n",
       " {'sequence': \"This is florida, the men sure aren't taking responsibility.  Alternately, Republicans could push for free birth control, reduce teen pregnancy and abortions at the same time!\",\n",
       "  'labels': ['against', 'for', 'neutral'],\n",
       "  'scores': [0.4522365927696228, 0.333516001701355, 0.21424734592437744]},\n",
       " {'sequence': 'Well i support abortions all the way to term.  Because i have severe concerns with the moral authority of the pro life movement,  I fully support \"My body my choice\" (bodily autonomy) because that\\'s far better than \"My body some douchenozzle\\'s choice\".',\n",
       "  'labels': ['for', 'against', 'neutral'],\n",
       "  'scores': [0.6872043609619141, 0.16451077163219452, 0.14828482270240784]},\n",
       " {'sequence': 'You forgot the most important point. Don\\'t forget to be inconsistent in your gaslighting.    Take \"no uterus no opinion\" for example.                    Man is pro-choice = valuable ally                     Woman is pro-life = hates herself and all women.',\n",
       "  'labels': ['against', 'for', 'neutral'],\n",
       "  'scores': [0.6003313660621643, 0.27065643668174744, 0.12901222705841064]},\n",
       " {'sequence': 'Oh but the PCs think its a killer argument and if you cant answer it then it proves your pro-life beliefs are stupid and they win. Lol.',\n",
       "  'labels': ['against', 'for', 'neutral'],\n",
       "  'scores': [0.6271305084228516, 0.31428876519203186, 0.05858074501156807]},\n",
       " {'sequence': ' Incorrect, you achieve abortions bans via having no abortions… this is achieved by all pregnancies going to term (women giving birth) or no pregnancies at all (no women giving birth)…  Are you supportive of anti-trespassing and anti-theft laws? Some homeless people will probably be forced to sleep out in the cold and go hungry.  Therefore if you support this, you want homeless people to be possibly forced to sleep out in the cold and go hungry.',\n",
       "  'labels': ['for', 'against', 'neutral'],\n",
       "  'scores': [0.4725552201271057, 0.3706131875514984, 0.15683162212371826]},\n",
       " {'sequence': \" I don't support restrictions because they're a non-issue.   No one is waiting to 8 months just to randomly abort. No one. It's always due to medical reasons or fetal abnormalities.  I'm not going to waste time trying to legislate an imaginary boogeyman created by fear-mongering PLers.  Although, most PCers aren't like me. Most support restrictions after viability anyway.\",\n",
       "  'labels': ['for', 'against', 'neutral'],\n",
       "  'scores': [0.5302107334136963, 0.27693524956703186, 0.19285406172275543]},\n",
       " {'sequence': \"  So if a woman could simply disconnect herself from the fetus, and it died, that would be ok?   It absolutely is, it certainly isn't some tangible thing.   So it would be unethical to kill someone if all they were going to do is enslave you for a year?   Agree to disagree then\",\n",
       "  'labels': ['for', 'neutral', 'against'],\n",
       "  'scores': [0.44353097677230835, 0.33394527435302734, 0.2225237637758255]},\n",
       " {'sequence': 'Your point rests on a moral responsibility. We’re talking about rights. If you grant a fetus the right to use a woman’s body to sustain its life against her will, you are essentially saying that a fetus gets *more* rights than actual born and autonomous people.',\n",
       "  'labels': ['for', 'against', 'neutral'],\n",
       "  'scores': [0.49445274472236633, 0.38321229815483093, 0.12233491986989975]},\n",
       " {'sequence': 'Details about exceptions do not change the 12 week ban. The vast, vast, majority of abortions are elective and your extreme cases issues are just a tiny percentage.  Therefore attempts to muddy up the water with irrelevant \"exceptions\" differences is irrelevant to the comparison.  I know the truth can be shocking. But try to be honest and objective.',\n",
       "  'labels': ['for', 'against', 'neutral'],\n",
       "  'scores': [0.590641975402832, 0.3319621682167053, 0.07739590108394623]},\n",
       " {'sequence': 'So you would want to maintain giving her the choice to kill the unborn child, despite having a safe alternative to keep it alive and end her pregnancy?',\n",
       "  'labels': ['against', 'for', 'neutral'],\n",
       "  'scores': [0.6518086791038513, 0.2960098683834076, 0.05218147113919258]},\n",
       " {'sequence': 'I know what a vacuum aspiration is. I debate this subject a lot, I’ve done my research. Show me where it says a fetus is tortured and has its organs sucked out? Because I’ve never seen that anywhere except extreme pro life propaganda websites',\n",
       "  'labels': ['for', 'against', 'neutral'],\n",
       "  'scores': [0.5381757616996765, 0.3724634051322937, 0.08936082571744919]},\n",
       " {'sequence': \"Tbf, we way too often show images of &lt;8 week embryos, even though we pretty much universally are OK with abortion in 15 weeks and even beyond that. I only have next to zero knowledge of embryology and fetal development, but the fact it's the stage when the fetus begins to move quite a bit, suck their thumbs and hiccup, makes me quite a bit susceptible to anti choice propaganda.\",\n",
       "  'labels': ['against', 'for', 'neutral'],\n",
       "  'scores': [0.4545688033103943, 0.37365901470184326, 0.17177218198776245]},\n",
       " {'sequence': 'It’s not really up for debate, to be honest. Unless you think all people are inherently entitled to the orifices and organs of other people you devalue the pregnant person in exchange for the unborn',\n",
       "  'labels': ['for', 'neutral', 'against'],\n",
       "  'scores': [0.5465431213378906, 0.26633816957473755, 0.1871187388896942]},\n",
       " {'sequence': 'The most obvious violation there is the protection of life. Once you give that up whether unborn, nearly born or aged what’s left worth protecting?',\n",
       "  'labels': ['against', 'for', 'neutral'],\n",
       "  'scores': [0.5819393992424011, 0.2913552522659302, 0.1267053484916687]},\n",
       " {'sequence': 'Is not the death of your own child more psychologically damaging? A pregnancy is over in 9 months, but death is forever. I can respect that we don’t see eye to eye on this, but we are both trying to spare these women from further harm. I just see so many saying that abortion caused further harm, while none regret having their child.',\n",
       "  'labels': ['against', 'for', 'neutral'],\n",
       "  'scores': [0.42668867111206055, 0.38094422221183777, 0.1923670768737793]},\n",
       " {'sequence': \"Where do I get the idea that women don't believe abortion is immoral... by talking to them!  I'm not chronically online nor am I without empathy, and I'm not sure outside of projection why would think I am. Most people getting an abortion do not believe it to be an evil act.   But doctors, well, they're actually performing the procedure. I know not of what doctors do when I go under, but I would hope they do.  A 12 week (ie well within first trimester) fetus has fully formed legs and arms, body, and face. The doctor sees this literally. A woman can be ignorant of what a doctor is doing. Therefore, a woman likely won't have mens rea, but a doctor certainly does.\",\n",
       "  'labels': ['for', 'against', 'neutral'],\n",
       "  'scores': [0.6496840715408325, 0.23790594935417175, 0.11241000145673752]},\n",
       " {'sequence': ' Good point. I know people that would deeply argue the contrary like many advocates for autistic people that are against procedure that basically lead them to not exist (see the controversy around Mark Rober around color the spectrum). Many would have the same opinion if such technology will be used to lower the probability of the onset of Gay and Trans people (or even straight people for that matter). But again this is not a criticism against you since your view can be valid (and it is also coherent) and it is more a matter of personal perception.    So i guess you are pro-choice mostly until viability then (since we know that abortion after some weeks will cause fetus suffering; with \"until viability\" i imply if there are no serious medical conditions - both from mother or fetus - thus your view would at that point also align with the majority of the scientific community).   A thing is if it was inherited, a different thing instead is if she willingly did something to affect you in a negative way (like some pro-choice here argued; if you read many comments there are a lot of people that would be against the mother if she is willingly causing harm to the fetus). If a doctor do something wrong to the fetus and you develop an abnormality because of him, there can be legal grounds for took him to court. But again, if you think that the mother bodily autonomy is above everything, your argument then is still consistent, so this one is more an observation rather than criticism.    I would have argued against you if you previously had stated that gene editing was wrong (thus you were protecting an individual that didn\\'t exist)... but you never stated that so there is nothing to debate here anymore. I will go to sleep. Thank you for sharing your opinion.',\n",
       "  'labels': ['for', 'against', 'neutral'],\n",
       "  'scores': [0.6920849680900574, 0.20449936389923096, 0.10341575741767883]},\n",
       " {'sequence': \" No one is forcing you to get pregnant. That's not what anyone is doing. In order for you to understand what PL people are saying, you have to realize where they are coming from, and that is that you can do whatever you want with yourself or your body so long as it doesn't interfere with someone else's right (ability to live, safety, etc). Just tbwcause you can't thrown knives in public doesn't mean your rights are being taken away and you are being forced to live your life a certain way. You can do whatever you want, but throwing knives puts other people in danger. If you don't want to get pregnant, then you should probably live in a way that doesn't get you pregnant, but if you do happen to get pregnant, it's not right to force death on someone just so you don't have to take part in it anymore. You are there because of yourself, not because of what any woman happens to believe.   Again, if you don't want to be a mother, give it up for adoption. They are valuing life. Your feelings and desires don't just take away someone else's right to be able to live.\",\n",
       "  'labels': ['for', 'against', 'neutral'],\n",
       "  'scores': [0.5700255632400513, 0.2622745633125305, 0.16769984364509583]},\n",
       " {'sequence': 'They mother’s opinion is irrelevant if she wants to kill her baby. Just as a friendly reminder, we are talking about elective late term abortions.  5 doctors so that there isn’t a tie in the decision. If the law is written that they need a majority of 5 doctors signing off on it then lawyers don’t need to be involved/have a say in the decision',\n",
       "  'labels': ['for', 'against', 'neutral'],\n",
       "  'scores': [0.612454354763031, 0.27084240317344666, 0.11670327931642532]},\n",
       " {'sequence': \"To the extent my desires have not been clear, let me summarize: my personal opinion is that a woman should be permitted by law to abort her unborn only when reasonably necessary to avert a serious and imminent threat to the woman's life, in which serious means more likely to occur than not and imminent means happening soon (days, weeks) and that no reasonable, available alternative exists.\",\n",
       "  'labels': ['for', 'against', 'neutral'],\n",
       "  'scores': [0.7780517339706421, 0.11504926532506943, 0.10689906030893326]},\n",
       " {'sequence': ' Maybe they have a passion for biochemistry and a desire to help people but also a belief that abortion is immoral?  Should a clerk at a gun store be allowed the discretion to deny a gun sale to someone?',\n",
       "  'labels': ['against', 'for', 'neutral'],\n",
       "  'scores': [0.7874752879142761, 0.18304985761642456, 0.029474809765815735]},\n",
       " {'sequence': 'Life begins at coagulation.',\n",
       "  'labels': ['against', 'for', 'neutral'],\n",
       "  'scores': [0.5379224419593811, 0.2641501724720001, 0.19792738556861877]},\n",
       " {'sequence': 'You’re doing exactly what I’m arguing against. The church’s internal affairs have nothing to do with the abortion debate. You’ve been reported, and hopefully mods will take action though I can’t imagine they will.',\n",
       "  'labels': ['against', 'for', 'neutral'],\n",
       "  'scores': [0.9315674901008606, 0.04783918336033821, 0.020593322813510895]},\n",
       " {'sequence': \"Are you saying a doctor isn't part if an abortion?\",\n",
       "  'labels': ['for', 'against', 'neutral'],\n",
       "  'scores': [0.6142138242721558, 0.20041094720363617, 0.18537525832653046]},\n",
       " {'sequence': \" Then we agree, I suppose.  If I was to think that there was no way to have a healthy child, I'd likely avoid having one.  However, I don't think it's entirely appropriate to tell someone else to do something or not if you don't understand what is happening.  A miscarriage can be caused by many things, some of which can clear themselves up or are situational.  Ultimately, I don't judge people for starting lives that will end.  Everyone's life will eventually end.    As for posing a risk to someone else.  I'd point out again that it's a little silly to consider conceiving a child to be the same as putting them at risk.  Putting someone at risk is when you take an action which will impact a life which could have taken a different, better path.  If the only path for that life was early death, I don't see how you can argue that someone did something to risk them with that outcome.    Risk would imply that something was done to a life that might have been healthy.  You can't very well argue that you mitigate that risk by not having a life at all to begin with.\",\n",
       "  'labels': ['for', 'against', 'neutral'],\n",
       "  'scores': [0.40943753719329834, 0.3034890294075012, 0.28707340359687805]},\n",
       " {'sequence': 'Give the rights back to the states!  *Power now at the states and states are passing Constitutional Amendments in support of Reproductive Rights.*  \"Oh crap... quick, make it harder for states to make **choices** about their rights!\"  It doesn\\'t surprise me that they don\\'t actually care about voters choices either. If they feel like they have the right to have a say over our reproductive systems, of course they wouldn\\'t care about votes.  What\\'s really hypocritical here is the \"states rights\" plus, this move and \"freedom of speech.\"  Add in their attempts to block freedom of speech on abortion, such as their attempts to block abortion pill websites, and it really does show a lack of caring about democracy.  They are attempting to highjack democracy in order to undermine it. To make it essentially pointless, under the veneer of engaging with democracy so no one notices they\\'ve rigged it so democracy doesn\\'t actually work in favor of the people it\\'s meant to serve.',\n",
       "  'labels': ['for', 'against', 'neutral'],\n",
       "  'scores': [0.5608975291252136, 0.3843528628349304, 0.05474960803985596]},\n",
       " {'sequence': 'idk about you guys but people shouldnt harass those at abortion clinics. wild idea i know',\n",
       "  'labels': ['against', 'for', 'neutral'],\n",
       "  'scores': [0.6276021599769592, 0.2780010402202606, 0.09439683705568314]},\n",
       " {'sequence': 'Abortion overall. If you want studies on the danger of specific abortion methods, I can provide some.',\n",
       "  'labels': ['against', 'for', 'neutral'],\n",
       "  'scores': [0.5537947416305542, 0.3002360463142395, 0.1459692418575287]}]"
      ]
     },
     "execution_count": 5,
     "metadata": {},
     "output_type": "execute_result"
    }
   ],
   "source": [
    "outputs"
   ]
  },
  {
   "cell_type": "code",
   "execution_count": 6,
   "metadata": {},
   "outputs": [
    {
     "name": "stdout",
     "output_type": "stream",
     "text": [
      "Accuracy: 0.4100\n"
     ]
    }
   ],
   "source": [
    "true_labels = annotated_data[\"annotated_stance\"]\n",
    "predicted_labels = [output['labels'][0] for output in outputs]\n",
    "\n",
    "accuracy = accuracy_score(true_labels, predicted_labels)\n",
    "print(f\"Accuracy: {accuracy:.4f}\") # 0.41"
   ]
  },
  {
   "cell_type": "code",
   "execution_count": 7,
   "metadata": {},
   "outputs": [
    {
     "name": "stdout",
     "output_type": "stream",
     "text": [
      "F1 score: 0.3319\n"
     ]
    }
   ],
   "source": [
    "f1 = f1_score(true_labels, predicted_labels, average = \"macro\")\n",
    "print(f\"F1 score: {f1:.4f}\") # 0.331"
   ]
  },
  {
   "cell_type": "code",
   "execution_count": 8,
   "metadata": {},
   "outputs": [
    {
     "name": "stdout",
     "output_type": "stream",
     "text": [
      "precision: 0.2780\n"
     ]
    }
   ],
   "source": [
    "precision = precision_score(true_labels, predicted_labels, average = \"macro\")\n",
    "print(f\"precision: {precision:.4f}\") "
   ]
  },
  {
   "cell_type": "code",
   "execution_count": 9,
   "metadata": {},
   "outputs": [
    {
     "name": "stdout",
     "output_type": "stream",
     "text": [
      "recall: 0.4142\n"
     ]
    }
   ],
   "source": [
    "recall = recall_score(true_labels, predicted_labels, average = \"macro\")\n",
    "print(f\"recall: {recall:.4f}\") "
   ]
  },
  {
   "cell_type": "code",
   "execution_count": 10,
   "metadata": {},
   "outputs": [
    {
     "data": {
      "image/png": "[encoded data removed]",
      "text/plain": [
       "<Figure size 640x480 with 2 Axes>"
      ]
     },
     "metadata": {},
     "output_type": "display_data"
    }
   ],
   "source": [
    "from sklearn.metrics import confusion_matrix, ConfusionMatrixDisplay\n",
    "import matplotlib.pyplot as plt\n",
    "\n",
    "# Compute confusion matrix\n",
    "cm = confusion_matrix(true_labels, predicted_labels)\n",
    "\n",
    "# Display it with labels and color\n",
    "disp = ConfusionMatrixDisplay(confusion_matrix=cm, display_labels=[\"A\", \"F\", \"N\"])\n",
    "disp.plot(cmap=plt.cm.Blues, values_format='d')  # 'd' for integer formatting\n",
    "\n",
    "plt.title(\"Confusion matrix: Zero-shot model\")\n",
    "plt.show()"
   ]
  },
  {
   "cell_type": "markdown",
   "metadata": {},
   "source": [
    "Accuracy: 0.2700 for hypothesis_template = \"This statement expresses a {} opinion\"\n",
    "\n",
    "\n",
    "Accuracy: 0.3550 for hypothesis_template = \"This statement expresses a {} opinion on the topic of abortion\""
   ]
  },
  {
   "cell_type": "markdown",
   "metadata": {},
   "source": [
    "##### Few-shot classification"
   ]
  },
  {
   "cell_type": "markdown",
   "metadata": {},
   "source": [
    "##### Setfit "
   ]
  },
  {
   "cell_type": "code",
   "execution_count": 11,
   "metadata": {},
   "outputs": [
    {
     "name": "stdout",
     "output_type": "stream",
     "text": [
      "   Unnamed: 0.1                                               text  label\n",
      "0             0  It really is not.   There is also a difference...      2\n",
      "1             1  The metaphor would actually be if they tripped...      2\n",
      "2             2  Yeah, their arguments are silly to say the lea...      2\n",
      "3             3  Some would say the same about the opposite sid...      2\n",
      "4             4  Nationally, the abortions didn't go down.   Co...      0\n",
      "   Unnamed: 0.1                                               text  label\n",
      "0             0  Because pro life is a ridiculous position that...      0\n",
      "1             1  You know, you're actually making some good arg...      1\n",
      "2             2  You’re saying born people have more rights tha...      2\n",
      "3             3   No, we aren't. An embryo is not \"a child\".  A...      0\n",
      "4             4  It is part of the mother. Individual entities ...      0\n"
     ]
    }
   ],
   "source": [
    "# getting the data \n",
    "from datasets import load_dataset\n",
    "dataset = load_dataset('csv', data_files={'train': '../annotated/re_annotated_train_data.csv', 'test': '../annotated/re_annotated_test_data.csv'})\n",
    "\n",
    "# dataset = load_dataset(\"csv\", data_files=\"annotated/annotated_train_data.csv\")\n",
    "dataset = dataset.rename_column(\"annotated_stance\", \"label\")\n",
    "# dataset = dataset.rename_column(\"w\", \"text\")\n",
    "dataset = dataset.remove_columns(['Column1', 'Topic', 'Name', \"Unnamed: 0\"])\n",
    "train_dataset = dataset[\"train\"]\n",
    "test_dataset = dataset[\"test\"]\n",
    "\n",
    "label_map = {\"for\": 0, \"neutral\": 1, \"against\": 2}\n",
    "train_dataset = train_dataset.map(lambda row: {\"label\": label_map[row[\"label\"]]})\n",
    "test_dataset = test_dataset.map(lambda row: {\"label\": label_map[row[\"label\"]]})\n",
    "\n",
    "print(train_dataset.to_pandas().head())\n",
    "print(test_dataset.to_pandas().head())"
   ]
  },
  {
   "cell_type": "code",
   "execution_count": 12,
   "metadata": {},
   "outputs": [
    {
     "name": "stdout",
     "output_type": "stream",
     "text": [
      "   Unnamed: 0.1                                               text  label\n",
      "0             0  Because pro life is a ridiculous position that...      0\n",
      "1             1  You know, you're actually making some good arg...      1\n",
      "2             2  You’re saying born people have more rights tha...      2\n",
      "3             3   No, we aren't. An embryo is not \"a child\".  A...      0\n",
      "4             4  It is part of the mother. Individual entities ...      0\n"
     ]
    }
   ],
   "source": [
    "train_dataset.select(range(5)) \n",
    "test_dataset.select(range(5)) \n",
    "\n",
    "print(test_dataset.to_pandas().head())\n"
   ]
  },
  {
   "cell_type": "code",
   "execution_count": 13,
   "metadata": {},
   "outputs": [
    {
     "data": {
      "text/html": [
       "<div>\n",
       "<style scoped>\n",
       "    .dataframe tbody tr th:only-of-type {\n",
       "        vertical-align: middle;\n",
       "    }\n",
       "\n",
       "    .dataframe tbody tr th {\n",
       "        vertical-align: top;\n",
       "    }\n",
       "\n",
       "    .dataframe thead th {\n",
       "        text-align: right;\n",
       "    }\n",
       "</style>\n",
       "<table border=\"1\" class=\"dataframe\">\n",
       "  <thead>\n",
       "    <tr style=\"text-align: right;\">\n",
       "      <th></th>\n",
       "      <th>Logit_Class_0</th>\n",
       "      <th>Logit_Class_1</th>\n",
       "    </tr>\n",
       "  </thead>\n",
       "  <tbody>\n",
       "    <tr>\n",
       "      <th>0</th>\n",
       "      <td>0.1859</td>\n",
       "      <td>0.8141</td>\n",
       "    </tr>\n",
       "    <tr>\n",
       "      <th>1</th>\n",
       "      <td>0.1987</td>\n",
       "      <td>0.8013</td>\n",
       "    </tr>\n",
       "    <tr>\n",
       "      <th>2</th>\n",
       "      <td>0.1912</td>\n",
       "      <td>0.8088</td>\n",
       "    </tr>\n",
       "    <tr>\n",
       "      <th>3</th>\n",
       "      <td>0.1873</td>\n",
       "      <td>0.8127</td>\n",
       "    </tr>\n",
       "    <tr>\n",
       "      <th>4</th>\n",
       "      <td>0.1954</td>\n",
       "      <td>0.8046</td>\n",
       "    </tr>\n",
       "  </tbody>\n",
       "</table>\n",
       "</div>"
      ],
      "text/plain": [
       "   Logit_Class_0  Logit_Class_1\n",
       "0         0.1859         0.8141\n",
       "1         0.1987         0.8013\n",
       "2         0.1912         0.8088\n",
       "3         0.1873         0.8127\n",
       "4         0.1954         0.8046"
      ]
     },
     "execution_count": 13,
     "metadata": {},
     "output_type": "execute_result"
    }
   ],
   "source": [
    "import torch\n",
    "predictions = torch.tensor([[0.1859, 0.8141],\n",
    "                            [0.1987, 0.8013],\n",
    "                            [0.1912, 0.8088],\n",
    "                            [0.1873, 0.8127],\n",
    "                            [0.1954, 0.8046]], dtype=torch.float64)\n",
    "df = pd.DataFrame(predictions, columns=[f\"Logit_Class_{i}\" for i in range(predictions.shape[1])])\n",
    "df"
   ]
  },
  {
   "cell_type": "code",
   "execution_count": 14,
   "metadata": {},
   "outputs": [
    {
     "name": "stderr",
     "output_type": "stream",
     "text": [
      "model_head.pkl not found on HuggingFace Hub, initialising classification head with random weights. You should TRAIN this model on a downstream task to use it for predictions and inference.\n"
     ]
    }
   ],
   "source": [
    "from setfit import SetFitModel\n",
    "model = SetFitModel.from_pretrained(\"sentence-transformers/all-MiniLM-L6-v2\")\n",
    "\n",
    "# model = SetFitModel.from_pretrained(\"BAAI/bge-small-en-v1.5\")"
   ]
  },
  {
   "cell_type": "code",
   "execution_count": 15,
   "metadata": {},
   "outputs": [],
   "source": [
    "model.labels = [\"for\", \"against\", \"nuetral\"]"
   ]
  },
  {
   "cell_type": "code",
   "execution_count": 16,
   "metadata": {},
   "outputs": [],
   "source": [
    "from setfit import TrainingArguments\n",
    "\n",
    "args = TrainingArguments(\n",
    "    batch_size=8,\n",
    "    num_epochs=3,\n",
    ")"
   ]
  },
  {
   "cell_type": "code",
   "execution_count": 17,
   "metadata": {},
   "outputs": [
    {
     "name": "stderr",
     "output_type": "stream",
     "text": [
      "Map: 100%|██████████| 100/100 [00:00<00:00, 5156.89 examples/s]\n"
     ]
    }
   ],
   "source": [
    "from setfit import Trainer\n",
    "\n",
    "trainer = Trainer(\n",
    "    model=model,\n",
    "    args=args,\n",
    "    train_dataset=train_dataset,\n",
    ")"
   ]
  },
  {
   "cell_type": "code",
   "execution_count": null,
   "metadata": {},
   "outputs": [],
   "source": [
    "trainer.train()"
   ]
  },
  {
   "cell_type": "markdown",
   "metadata": {},
   "source": [
    "### Confusion matrix and metrics for SetFit"
   ]
  },
  {
   "cell_type": "code",
   "execution_count": null,
   "metadata": {},
   "outputs": [
    {
     "name": "stdout",
     "output_type": "stream",
     "text": [
      "[[25  3  4]\n",
      " [14 14  6]\n",
      " [14  5 15]]\n",
      "(np.float64(0.5322366234629445), np.float64(0.5693539165237279), np.float64(0.5447303921568627))\n"
     ]
    }
   ],
   "source": [
    "import numpy as np\n",
    "from sklearn.metrics import confusion_matrix, ConfusionMatrixDisplay\n",
    "\n",
    "cm = np.array([\n",
    "[25,  3,  4], \n",
    "[14, 14,  6], \n",
    "[14,  5, 15]\n",
    "])\n",
    "print(cm)\n",
    "\n",
    "def macro_f1_func(cm):\n",
    "    precision = []\n",
    "    recall = []\n",
    "    f1_scores = []\n",
    "\n",
    "    for i in range(len(cm)):\n",
    "        TP = cm[i, i]\n",
    "        FP = cm[:, i].sum() - TP\n",
    "        FN = cm[i, :].sum() - TP\n",
    "        \n",
    "        prec = TP / (TP + FP) if (TP + FP) > 0 else 0\n",
    "        rec = TP / (TP + FN) if (TP + FN) > 0 else 0\n",
    "        f1 = 2 * prec * rec / (prec + rec) if (prec + rec) > 0 else 0\n",
    "        \n",
    "        precision.append(prec)\n",
    "        recall.append(rec)\n",
    "        f1_scores.append(f1)\n",
    "\n",
    "    macro_f1 = np.mean(f1_scores)\n",
    "    macro_recall = np.mean(recall)\n",
    "    macro_precision = np.mean(precision)\n",
    "    return macro_f1, macro_precision, macro_recall\n",
    "print(macro_f1_func(cm))"
   ]
  },
  {
   "cell_type": "code",
   "execution_count": null,
   "metadata": {},
   "outputs": [
    {
     "name": "stdout",
     "output_type": "stream",
     "text": [
      "(np.float64(0.6145893907087937), np.float64(0.6344508204973321), np.float64(0.6200980392156863))\n"
     ]
    }
   ],
   "source": [
    "# f1 score for llama \n",
    "cm_llama = np.array([\n",
    "[20,  7,  5], \n",
    "[7, 26,  1], \n",
    "[8,  10, 16]\n",
    "])\n",
    "print(macro_f1_func(cm_llama))"
   ]
  },
  {
   "cell_type": "code",
   "execution_count": null,
   "metadata": {},
   "outputs": [
    {
     "data": {
      "image/png": "[encoded data removed]",
      "text/plain": [
       "<Figure size 640x480 with 2 Axes>"
      ]
     },
     "metadata": {},
     "output_type": "display_data"
    }
   ],
   "source": [
    "import matplotlib.pyplot as plt\n",
    "disp = ConfusionMatrixDisplay(confusion_matrix=cm, display_labels=[\"A\", \"F\", \"N\"])\n",
    "disp.plot(cmap=plt.cm.Blues, values_format='d')  # 'd' for integer formatting\n",
    " \n",
    "plt.title(\"Confusion matrix: SetFit\")\n",
    "plt.show()"
   ]
  },
  {
   "cell_type": "code",
   "execution_count": null,
   "metadata": {},
   "outputs": [
    {
     "data": {
      "image/png": "[encoded data removed]",
      "text/plain": [
       "<Figure size 640x480 with 2 Axes>"
      ]
     },
     "metadata": {},
     "output_type": "display_data"
    }
   ],
   "source": [
    "disp2 = ConfusionMatrixDisplay(confusion_matrix=cm_llama, display_labels=[\"A\", \"F\", \"N\"])\n",
    "disp2.plot(cmap=plt.cm.Blues, values_format='d')\n",
    "plt.title(\"Confusion matrix: Llama\")\n",
    "plt.show()"
   ]
  }
 ],
 "metadata": {
  "kernelspec": {
   "display_name": "bach_env",
   "language": "python",
   "name": "python3"
  },
  "language_info": {
   "codemirror_mode": {
    "name": "ipython",
    "version": 3
   },
   "file_extension": ".py",
   "mimetype": "text/x-python",
   "name": "python",
   "nbconvert_exporter": "python",
   "pygments_lexer": "ipython3",
   "version": "3.10.16"
  }
 },
 "nbformat": 4,
 "nbformat_minor": 2
}
