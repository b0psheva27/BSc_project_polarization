{
 "cells": [
  {
   "cell_type": "code",
   "execution_count": 1,
   "id": "2df82661",
   "metadata": {},
   "outputs": [
    {
     "name": "stderr",
     "output_type": "stream",
     "text": [
      "/home/dara/miniconda3/envs/bach_env/lib/python3.10/site-packages/tqdm/auto.py:21: TqdmWarning: IProgress not found. Please update jupyter and ipywidgets. See https://ipywidgets.readthedocs.io/en/stable/user_install.html\n",
      "  from .autonotebook import tqdm as notebook_tqdm\n"
     ]
    }
   ],
   "source": [
    "import pandas as pd\n",
    "import numpy as np\n",
    "from sklearn.decomposition import PCA\n",
    "from sklearn.preprocessing import StandardScaler\n",
    "import matplotlib.pyplot as plt\n",
    "import umap"
   ]
  },
  {
   "cell_type": "code",
   "execution_count": null,
   "id": "7dcc859d",
   "metadata": {},
   "outputs": [],
   "source": [
    "def apply_pca2(merged_df, column_list, n_components, new_columns): \n",
    "    '''Applies PCA to a df and reduces the vector to 2D'''\n",
    "    # scaler\n",
    "    scaler = StandardScaler()\n",
    "    merged_df[new_columns] = scaler.fit_transform(merged_df[column_list])\n",
    "\n",
    "    # pca \n",
    "    pca = PCA(n_components=n_components)\n",
    "    merged_df[\"pca_component1\"], merged_df[\"pca_component2\"] = zip(*pca.fit_transform(merged_df[new_columns]))\n",
    "    return pca, merged_df\n",
    "\n",
    "def apply_umap2(merged_df, column_list, n_components, new_columns):\n",
    "    '''Applies UMAP to a df and reduces the vector to 2D'''\n",
    "    # scaler \n",
    "    scaler = StandardScaler()\n",
    "    merged_df[new_columns] = scaler.fit_transform(merged_df[column_list])\n",
    "\n",
    "    # umap \n",
    "    reducer = umap.UMAP(n_components=n_components, random_state=42)\n",
    "    merged_df[\"umap_component1\"], merged_df[\"umap_component2\"] = zip(*reducer.fit_transform(merged_df[new_columns]))\n",
    "    return umap, merged_df"
   ]
  },
  {
   "cell_type": "code",
   "execution_count": 2,
   "id": "7234ed15",
   "metadata": {},
   "outputs": [],
   "source": [
    "june_df = pd.read_csv(\"../output_network/stance_df_june.csv\", sep = \"\\t\")\n",
    "dec_df = pd.read_csv(\"../output_network/stance_df_december.csv\", sep = \"\\t\")"
   ]
  },
  {
   "cell_type": "code",
   "execution_count": 4,
   "id": "d11d24c0",
   "metadata": {},
   "outputs": [
    {
     "name": "stdout",
     "output_type": "stream",
     "text": [
      "<class 'pandas.core.frame.DataFrame'>\n",
      "RangeIndex: 2514 entries, 0 to 2513\n",
      "Data columns (total 27 columns):\n",
      " #   Column                   Non-Null Count  Dtype  \n",
      "---  ------                   --------------  -----  \n",
      " 0   Unnamed: 0               2514 non-null   int64  \n",
      " 1   user                     2514 non-null   object \n",
      " 2   A_x                      2514 non-null   float64\n",
      " 3   F_x                      2514 non-null   float64\n",
      " 4   N_x                      2514 non-null   float64\n",
      " 5   stance_abortion          2514 non-null   float64\n",
      " 6   A_y                      2514 non-null   float64\n",
      " 7   F_y                      2514 non-null   float64\n",
      " 8   N_y                      2514 non-null   float64\n",
      " 9   stance_marriage          2514 non-null   float64\n",
      " 10  A                        2514 non-null   float64\n",
      " 11  F                        2514 non-null   float64\n",
      " 12  N                        2514 non-null   float64\n",
      " 13  stance_political         2514 non-null   float64\n",
      " 14  stance_political_scaled  2514 non-null   float64\n",
      " 15  stance_abortion_scaled   2514 non-null   float64\n",
      " 16  stance_marriage_scaled   2514 non-null   float64\n",
      " 17  pca_component            2514 non-null   float64\n",
      " 18  umap_component           2514 non-null   float64\n",
      " 19  nodeid                   2514 non-null   int64  \n",
      " 20  pca_component_scaled     2514 non-null   float64\n",
      " 21  pca_component1           2514 non-null   float64\n",
      " 22  pca_component2           2514 non-null   float64\n",
      " 23  umap_component1          2514 non-null   float64\n",
      " 24  umap_component2          2514 non-null   float64\n",
      " 25  pca1_scaled              2514 non-null   float64\n",
      " 26  pca2_scaled              2514 non-null   float64\n",
      "dtypes: float64(24), int64(2), object(1)\n",
      "memory usage: 530.4+ KB\n"
     ]
    }
   ],
   "source": [
    "june_df.info()"
   ]
  },
  {
   "cell_type": "code",
   "execution_count": 4,
   "id": "e813442f",
   "metadata": {},
   "outputs": [
    {
     "data": {
      "text/html": [
       "<div>\n",
       "<style scoped>\n",
       "    .dataframe tbody tr th:only-of-type {\n",
       "        vertical-align: middle;\n",
       "    }\n",
       "\n",
       "    .dataframe tbody tr th {\n",
       "        vertical-align: top;\n",
       "    }\n",
       "\n",
       "    .dataframe thead th {\n",
       "        text-align: right;\n",
       "    }\n",
       "</style>\n",
       "<table border=\"1\" class=\"dataframe\">\n",
       "  <thead>\n",
       "    <tr style=\"text-align: right;\">\n",
       "      <th></th>\n",
       "      <th>stance_political</th>\n",
       "      <th>stance_abortion</th>\n",
       "      <th>stance_marriage</th>\n",
       "    </tr>\n",
       "  </thead>\n",
       "  <tbody>\n",
       "    <tr>\n",
       "      <th>stance_political</th>\n",
       "      <td>1.000000</td>\n",
       "      <td>0.081584</td>\n",
       "      <td>0.049109</td>\n",
       "    </tr>\n",
       "    <tr>\n",
       "      <th>stance_abortion</th>\n",
       "      <td>0.081584</td>\n",
       "      <td>1.000000</td>\n",
       "      <td>0.152470</td>\n",
       "    </tr>\n",
       "    <tr>\n",
       "      <th>stance_marriage</th>\n",
       "      <td>0.049109</td>\n",
       "      <td>0.152470</td>\n",
       "      <td>1.000000</td>\n",
       "    </tr>\n",
       "  </tbody>\n",
       "</table>\n",
       "</div>"
      ],
      "text/plain": [
       "                  stance_political  stance_abortion  stance_marriage\n",
       "stance_political          1.000000         0.081584         0.049109\n",
       "stance_abortion           0.081584         1.000000         0.152470\n",
       "stance_marriage           0.049109         0.152470         1.000000"
      ]
     },
     "execution_count": 4,
     "metadata": {},
     "output_type": "execute_result"
    }
   ],
   "source": [
    "june_df[[\"stance_political\", \"stance_abortion\", \"stance_marriage\"]].corr()"
   ]
  },
  {
   "cell_type": "code",
   "execution_count": 6,
   "id": "2c02aa9f",
   "metadata": {},
   "outputs": [],
   "source": [
    "pca, new_j_df = apply_pca2(june_df, [\"stance_abortion\", \"stance_marriage\", \"stance_political\"], 2, [\"stance_political_scaled\", \"stance_abortion_scaled\", \"stance_marriage_scaled\"])"
   ]
  },
  {
   "cell_type": "code",
   "execution_count": null,
   "id": "979b6ace",
   "metadata": {},
   "outputs": [
    {
     "data": {
      "text/plain": [
       "array([0.39877038, 0.32008285])"
      ]
     },
     "execution_count": 15,
     "metadata": {},
     "output_type": "execute_result"
    }
   ],
   "source": [
    "#Explained variance ratio of 1st and 2nd PC respectively\n",
    "pca.explained_variance_ratio_"
   ]
  },
  {
   "cell_type": "code",
   "execution_count": 18,
   "id": "cb7133fe",
   "metadata": {},
   "outputs": [],
   "source": [
    "umap_obj, new_umap_df = apply_pca2(june_df, [\"stance_abortion\", \"stance_marriage\", \"stance_political\"], 2, [\"stance_political_scaled\", \"stance_abortion_scaled\", \"stance_marriage_scaled\"])"
   ]
  },
  {
   "cell_type": "code",
   "execution_count": 19,
   "id": "fba65b40",
   "metadata": {},
   "outputs": [
    {
     "name": "stdout",
     "output_type": "stream",
     "text": [
      "Trustworthiness: 0.995\n"
     ]
    }
   ],
   "source": [
    "from sklearn.manifold import trustworthiness\n",
    "\n",
    "# X is original 3D data (n_samples, 3)\n",
    "# X_umap is UMAP-reduced data (n_samples, 2)\n",
    "\n",
    "trust = trustworthiness(new_umap_df[[\"stance_political_scaled\", \"stance_abortion_scaled\", \"stance_marriage_scaled\"]], new_umap_df[[\"umap_component1\", \"umap_component2\"]], n_neighbors=10)\n",
    "print(f\"Trustworthiness: {trust:.3f}\")"
   ]
  },
  {
   "cell_type": "code",
   "execution_count": 17,
   "id": "9433c1e1",
   "metadata": {},
   "outputs": [],
   "source": [
    "anon_test = pd.read_csv(\"../annotated/re_annotated_test_data.csv\", sep=',')\n",
    "anon_train = pd.read_csv(\"../annotated/re_annotated_train_data.csv\", sep=',')\n"
   ]
  },
  {
   "cell_type": "code",
   "execution_count": 21,
   "id": "a1053f0b",
   "metadata": {},
   "outputs": [
    {
     "data": {
      "text/plain": [
       "annotated_stance\n",
       "neutral    34\n",
       "against    34\n",
       "for        32\n",
       "Name: count, dtype: int64"
      ]
     },
     "execution_count": 21,
     "metadata": {},
     "output_type": "execute_result"
    }
   ],
   "source": [
    "anon_test[\"annotated_stance\"].value_counts()"
   ]
  },
  {
   "cell_type": "code",
   "execution_count": 22,
   "id": "c5988d6b",
   "metadata": {},
   "outputs": [
    {
     "data": {
      "text/plain": [
       "annotated_stance\n",
       "for        40\n",
       "against    30\n",
       "neutral    30\n",
       "Name: count, dtype: int64"
      ]
     },
     "execution_count": 22,
     "metadata": {},
     "output_type": "execute_result"
    }
   ],
   "source": [
    "anon_train[\"annotated_stance\"].value_counts()"
   ]
  }
 ],
 "metadata": {
  "kernelspec": {
   "display_name": "bach_env",
   "language": "python",
   "name": "python3"
  },
  "language_info": {
   "codemirror_mode": {
    "name": "ipython",
    "version": 3
   },
   "file_extension": ".py",
   "mimetype": "text/x-python",
   "name": "python",
   "nbconvert_exporter": "python",
   "pygments_lexer": "ipython3",
   "version": "3.10.16"
  }
 },
 "nbformat": 4,
 "nbformat_minor": 5
}
