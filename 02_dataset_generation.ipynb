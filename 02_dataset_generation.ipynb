{
 "cells": [
  {
   "cell_type": "markdown",
   "metadata": {},
   "source": [
    "Imports "
   ]
  },
  {
   "cell_type": "code",
   "execution_count": 9,
   "metadata": {},
   "outputs": [],
   "source": [
    "# Imports\n",
    "from bertopic import BERTopic\n",
    "import pandas as pd\n",
    "import numpy as np\n",
    "import nltk \n",
    "from sklearn.metrics import cohen_kappa_score"
   ]
  },
  {
   "cell_type": "markdown",
   "metadata": {},
   "source": [
    "Loading in the data "
   ]
  },
  {
   "cell_type": "code",
   "execution_count": 2,
   "metadata": {},
   "outputs": [],
   "source": [
    "# getting subset of data \n",
    "messages_df = pd.read_csv(\"reddit_22_51/messages.csv\", sep=\"\\t\")\n",
    "messages_list = messages_df[\"text\"].astype(str).tolist()"
   ]
  },
  {
   "cell_type": "markdown",
   "metadata": {},
   "source": [
    "Loading in the bertopic model "
   ]
  },
  {
   "cell_type": "code",
   "execution_count": 3,
   "metadata": {},
   "outputs": [],
   "source": [
    "\n",
    "loaded_model = BERTopic.load(\"models/bert_topic_model\")\n",
    "messages_df = loaded_model.get_document_info(messages_list)"
   ]
  },
  {
   "cell_type": "code",
   "execution_count": 4,
   "metadata": {},
   "outputs": [
    {
     "data": {
      "text/html": [
       "<div>\n",
       "<style scoped>\n",
       "    .dataframe tbody tr th:only-of-type {\n",
       "        vertical-align: middle;\n",
       "    }\n",
       "\n",
       "    .dataframe tbody tr th {\n",
       "        vertical-align: top;\n",
       "    }\n",
       "\n",
       "    .dataframe thead th {\n",
       "        text-align: right;\n",
       "    }\n",
       "</style>\n",
       "<table border=\"1\" class=\"dataframe\">\n",
       "  <thead>\n",
       "    <tr style=\"text-align: right;\">\n",
       "      <th></th>\n",
       "      <th>Document</th>\n",
       "      <th>Topic</th>\n",
       "      <th>Name</th>\n",
       "      <th>Representation</th>\n",
       "      <th>Representative_Docs</th>\n",
       "      <th>Top_n_words</th>\n",
       "      <th>Representative_document</th>\n",
       "    </tr>\n",
       "  </thead>\n",
       "  <tbody>\n",
       "    <tr>\n",
       "      <th>202</th>\n",
       "      <td>And ultimately, the implications of this are p...</td>\n",
       "      <td>0</td>\n",
       "      <td>0_abortion_abortions_fetus_pregnancy</td>\n",
       "      <td>[abortion, abortions, fetus, pregnancy, prolif...</td>\n",
       "      <td>NaN</td>\n",
       "      <td>abortion - abortions - fetus - pregnancy - pro...</td>\n",
       "      <td>False</td>\n",
       "    </tr>\n",
       "    <tr>\n",
       "      <th>404</th>\n",
       "      <td>there’s also a reasonable argument that it was...</td>\n",
       "      <td>0</td>\n",
       "      <td>0_abortion_abortions_fetus_pregnancy</td>\n",
       "      <td>[abortion, abortions, fetus, pregnancy, prolif...</td>\n",
       "      <td>NaN</td>\n",
       "      <td>abortion - abortions - fetus - pregnancy - pro...</td>\n",
       "      <td>False</td>\n",
       "    </tr>\n",
       "    <tr>\n",
       "      <th>406</th>\n",
       "      <td>And it's *not and never been* how Republicans...</td>\n",
       "      <td>0</td>\n",
       "      <td>0_abortion_abortions_fetus_pregnancy</td>\n",
       "      <td>[abortion, abortions, fetus, pregnancy, prolif...</td>\n",
       "      <td>NaN</td>\n",
       "      <td>abortion - abortions - fetus - pregnancy - pro...</td>\n",
       "      <td>False</td>\n",
       "    </tr>\n",
       "    <tr>\n",
       "      <th>691</th>\n",
       "      <td>It’s even worse than them believing a wanted p...</td>\n",
       "      <td>0</td>\n",
       "      <td>0_abortion_abortions_fetus_pregnancy</td>\n",
       "      <td>[abortion, abortions, fetus, pregnancy, prolif...</td>\n",
       "      <td>NaN</td>\n",
       "      <td>abortion - abortions - fetus - pregnancy - pro...</td>\n",
       "      <td>False</td>\n",
       "    </tr>\n",
       "    <tr>\n",
       "      <th>1029</th>\n",
       "      <td>The caretaker’s wishes in this case would be t...</td>\n",
       "      <td>0</td>\n",
       "      <td>0_abortion_abortions_fetus_pregnancy</td>\n",
       "      <td>[abortion, abortions, fetus, pregnancy, prolif...</td>\n",
       "      <td>NaN</td>\n",
       "      <td>abortion - abortions - fetus - pregnancy - pro...</td>\n",
       "      <td>False</td>\n",
       "    </tr>\n",
       "  </tbody>\n",
       "</table>\n",
       "</div>"
      ],
      "text/plain": [
       "                                               Document  Topic  \\\n",
       "202   And ultimately, the implications of this are p...      0   \n",
       "404   there’s also a reasonable argument that it was...      0   \n",
       "406    And it's *not and never been* how Republicans...      0   \n",
       "691   It’s even worse than them believing a wanted p...      0   \n",
       "1029  The caretaker’s wishes in this case would be t...      0   \n",
       "\n",
       "                                      Name  \\\n",
       "202   0_abortion_abortions_fetus_pregnancy   \n",
       "404   0_abortion_abortions_fetus_pregnancy   \n",
       "406   0_abortion_abortions_fetus_pregnancy   \n",
       "691   0_abortion_abortions_fetus_pregnancy   \n",
       "1029  0_abortion_abortions_fetus_pregnancy   \n",
       "\n",
       "                                         Representation  Representative_Docs  \\\n",
       "202   [abortion, abortions, fetus, pregnancy, prolif...                  NaN   \n",
       "404   [abortion, abortions, fetus, pregnancy, prolif...                  NaN   \n",
       "406   [abortion, abortions, fetus, pregnancy, prolif...                  NaN   \n",
       "691   [abortion, abortions, fetus, pregnancy, prolif...                  NaN   \n",
       "1029  [abortion, abortions, fetus, pregnancy, prolif...                  NaN   \n",
       "\n",
       "                                            Top_n_words  \\\n",
       "202   abortion - abortions - fetus - pregnancy - pro...   \n",
       "404   abortion - abortions - fetus - pregnancy - pro...   \n",
       "406   abortion - abortions - fetus - pregnancy - pro...   \n",
       "691   abortion - abortions - fetus - pregnancy - pro...   \n",
       "1029  abortion - abortions - fetus - pregnancy - pro...   \n",
       "\n",
       "      Representative_document  \n",
       "202                     False  \n",
       "404                     False  \n",
       "406                     False  \n",
       "691                     False  \n",
       "1029                    False  "
      ]
     },
     "execution_count": 4,
     "metadata": {},
     "output_type": "execute_result"
    }
   ],
   "source": [
    "messages_topic = messages_df[messages_df[\"Topic\"] == 0]\n",
    "messages_topic.head()"
   ]
  },
  {
   "cell_type": "code",
   "execution_count": 5,
   "metadata": {},
   "outputs": [],
   "source": [
    "annotated_df = messages_topic[[\"Document\", \"Topic\", \"Name\"]]\n",
    "annotated_df['annotated_stance'] = ''\n",
    "annotated_df_200 = annotated_df.sample(n=200, random_state=42) "
   ]
  },
  {
   "cell_type": "code",
   "execution_count": 6,
   "metadata": {},
   "outputs": [],
   "source": [
    "annotated_200_jose = pd.read_excel(\"annotated/annotated_df_jose.xlsx\")\n",
    "annotated_200_dara = pd.read_csv(\"annotated/annotated_df_dara.csv\")"
   ]
  },
  {
   "cell_type": "code",
   "execution_count": 12,
   "metadata": {},
   "outputs": [],
   "source": [
    "labels_dara = annotated_200_dara[\"annotated_stance\"]\n",
    "labels_jose = annotated_200_jose[\"annotated_stance\"]"
   ]
  },
  {
   "cell_type": "code",
   "execution_count": 13,
   "metadata": {},
   "outputs": [
    {
     "data": {
      "text/plain": [
       "np.float64(0.6750056685057819)"
      ]
     },
     "execution_count": 13,
     "metadata": {},
     "output_type": "execute_result"
    }
   ],
   "source": [
    "cohen_kappa_score(labels_dara, labels_jose)"
   ]
  },
  {
   "cell_type": "code",
   "execution_count": 17,
   "metadata": {},
   "outputs": [],
   "source": [
    "annotated_200_dara[\"annotated_stance_jose\"] = labels_jose"
   ]
  },
  {
   "cell_type": "code",
   "execution_count": 25,
   "metadata": {},
   "outputs": [],
   "source": [
    "filtered_df = annotated_200_dara[annotated_200_dara[\"annotated_stance_jose\"] != annotated_200_dara[\"annotated_stance\"]]\n",
    "filtered_df.to_csv(\"filtered_data.csv\", index=False)"
   ]
  },
  {
   "cell_type": "code",
   "execution_count": null,
   "metadata": {},
   "outputs": [],
   "source": []
  }
 ],
 "metadata": {
  "kernelspec": {
   "display_name": "bach_env",
   "language": "python",
   "name": "python3"
  },
  "language_info": {
   "codemirror_mode": {
    "name": "ipython",
    "version": 3
   },
   "file_extension": ".py",
   "mimetype": "text/x-python",
   "name": "python",
   "nbconvert_exporter": "python",
   "pygments_lexer": "ipython3",
   "version": "3.10.16"
  }
 },
 "nbformat": 4,
 "nbformat_minor": 2
}
